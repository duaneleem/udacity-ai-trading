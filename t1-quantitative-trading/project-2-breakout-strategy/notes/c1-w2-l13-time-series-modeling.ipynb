{
 "cells": [
  {
   "cell_type": "markdown",
   "id": "c20512de-ca9e-411f-b869-2e49ce16a776",
   "metadata": {},
   "source": [
    "# AI for Trading | Week 2 | L13: Regression"
   ]
  },
  {
   "cell_type": "markdown",
   "id": "e7786e5b-777d-4de4-a855-cc06365ff622",
   "metadata": {},
   "source": [
    "Time series: Data collected at different intervals"
   ]
  },
  {
   "cell_type": "markdown",
   "id": "faac9e8e-fcf0-444c-bc5f-b48fc6aea466",
   "metadata": {},
   "source": [
    "## Autoregressive (AR) Models\n",
    "- https://youtu.be/9jE7S4b-oIU\n",
    "  - 0:44 See image below of AR\n",
    "  - ![caption](../images/c1-w2-l13-autoregressive-models.png)\n",
    "  - 1:25 Lag - Define AR model by its lag"
   ]
  },
  {
   "cell_type": "markdown",
   "id": "462b825d-6d63-4744-878c-f2b15cdd3479",
   "metadata": {},
   "source": [
    "## Moving Average (MA) Models\n",
    "- https://youtu.be/1FkCP_dwxjI\n",
    "  - 1:15 Autocorrelation Plot"
   ]
  },
  {
   "cell_type": "markdown",
   "id": "c0c313b8-e6d6-43b3-a4a7-7076dd195618",
   "metadata": {},
   "source": [
    "## Advanced Time Series Models\n",
    "- https://youtu.be/cj1RCBTDog8\n",
    "  - 0:00 Autoregression and Moving Averages\n",
    "  - ![caption](../images/c1-w2-l13-s4-autoregression-moving-averages.png)\n",
    "  - Add these together to get both\n",
    "  - ![caption](../images/c1-w2-l13-s4-autoregression-moving-averages-2.png)\n",
    "  - 0:24 Autoregressive Integrated Moving Average\n",
    "    - Paris Trading?\n",
    "    - Speed of the turtle is the slope of the line.\n",
    "    - Speed overtime, cumulitive over time, which is the Area, which is the position of the turtle.\n",
    "    - Taken the derivative of the straight line gives us the slope of that line.\n",
    "    - 2:14 Integral - Finding the area under the curve\n",
    "  - 2:50 Non-Stationary\n",
    "    - Get Time Difference\n",
    "    - Rate of Return Pt/Pt-1\n",
    "  - 3:30 Time Difference\n",
    "    - Log Return = log(Pt) - log(Pt-1)\n",
    "  - 4:00 Autoregressive Integrated Moving Average (ARIMA)\n",
    "    - Augmented Dickey Fuller Test\n",
    "    Order of Integration"
   ]
  },
  {
   "cell_type": "markdown",
   "id": "e60faf52-8c7b-449b-9402-f7ee0defaabf",
   "metadata": {},
   "source": [
    "## Kalman Filter\n",
    "- https://youtu.be/CLJhgfMI4Ho\n",
    "  - Used in time series, self-driving cars, flying cars\n",
    "  - 0:33 Single-state represents the past\n",
    "  - 1:15 Handles noisy data\n",
    "  - 1:39 Signal (hidden)\n",
    "  - 2:06 2 steps\n",
    "    - Step: Predict\n",
    "    - Step: Measurement Update"
   ]
  },
  {
   "cell_type": "markdown",
   "id": "341307b9-82fb-4ff3-87a1-fec9156c68ce",
   "metadata": {},
   "source": [
    "## Particle Filter\n",
    "- https://youtu.be/4KhDUAvwI74\n",
    "  - Self driving cars and time series"
   ]
  },
  {
   "cell_type": "markdown",
   "id": "7dcb0044-60a7-40e0-aac4-765eec011757",
   "metadata": {},
   "source": [
    "## Recurring Neural Networks (RNN)\n",
    "- https://youtu.be/5cYAAHyRHDo\n",
    "  - NLP, Time Series\n",
    "  - Many regressions stacked in series and in parallel\n",
    "  - 1:40 Long-Short Term Memory Cells"
   ]
  }
 ],
 "metadata": {
  "kernelspec": {
   "display_name": "Python 3",
   "language": "python",
   "name": "python3"
  },
  "language_info": {
   "codemirror_mode": {
    "name": "ipython",
    "version": 3
   },
   "file_extension": ".py",
   "mimetype": "text/x-python",
   "name": "python",
   "nbconvert_exporter": "python",
   "pygments_lexer": "ipython3",
   "version": "3.9.2"
  }
 },
 "nbformat": 4,
 "nbformat_minor": 5
}
