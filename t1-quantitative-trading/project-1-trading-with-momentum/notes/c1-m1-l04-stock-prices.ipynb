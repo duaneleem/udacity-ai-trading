{
 "cells": [
  {
   "cell_type": "markdown",
   "id": "712d9073-d406-4846-b913-2ba94e54de9e",
   "metadata": {
    "tags": []
   },
   "source": [
    "# AI for Trading | L04: Stock Prices\n",
    "\n",
    "## 1. Stocks\n",
    "https://youtu.be/23sv5ey0ySs\n",
    "\n",
    "### Common and Preferred Stock\n",
    "Note that for this Nanodegree program, when we discuss stocks, we’re primarily referring to common stock as opposed to preferred stock. This is because preferred stock actually behaves more like a bond (which we’ll cover next), so preferred stock prices may tend to be more stable relative to common stock of the same company. Usually when you see stock data and financial news, it’s referring to common stock.\n"
   ]
  },
  {
   "cell_type": "markdown",
   "id": "3a35d634-a48a-4a91-aca9-9ff8632e4a56",
   "metadata": {},
   "source": [
    "## 2. Stock Prices\n",
    "\n",
    "### Stock Prices\n",
    "https://youtu.be/SGb54HLbk1g\n",
    "\n",
    "#### Options: calls, puts, American, European\n",
    "\n",
    "Options give the owner the right to buy or sell at the strike price (a fixed price that is determined when the option is created), on or before an expiration date. The most common are call options and put options. Call options give the right to buy at the strike price; put options give the owner the right to sell at a fixed price. Some options allow the holder to “exercise” (buy or sell) at the strike price any time up to the expiration date. These are called “American options” by convention, even though this doesn’t mean that the options are traded in the Americas. Another class of options only allows the holder to exercise the option at the expiration date, but not earlier. These are called “European options” by convention, but again, European options don’t necessarily have to be traded in Europe.\n",
    "\n",
    "#### Forwards and Futures\n",
    "\n",
    "Futures and forwards contracts are similar, in that a buyer and seller both agree to make a future transaction at a predetermined price. Futures are standardized contracts that can be traded on a futures exchange, so this may be what people think of when discussing “forwards and futures”. Forward contracts are usually privately determined contracts between two parties. So an investor can trade futures contracts, but forward contracts are not designed to be traded like futures.\n",
    "\n",
    "#### Public versus private equity\n",
    "\n",
    "Public equity refers to stocks that can be traded on a stock exchange. Private equity refers to ownership in private companies, so the owners of private equity do not trade their shares on a stock exchange. Our course is primarily focused on public equity, which we’ll refer to as stocks, since the ability to buy and sell freely enables us to adjust our investments based on new or time-sensitive information.\n",
    "\n",
    "https://youtu.be/l_PilXVuh8I\n",
    "\n",
    "### Market Bubbles\n",
    "\n",
    "A recent example of a bubble is bitcoin, which rose from from under `$1,000` per coin in January of 2017, to over `$17,000` per coin by December of the same year, before dropping to about `$6,000` by June of 2018\n",
    "\n",
    "### Further Resources\n",
    "\n",
    "[Robert Shiller's home page](http://www.econ.yale.edu/~shiller/)\n",
    "\n",
    "[Robert Shiller's \"Economic View\" column for the New York Times](https://www.nytimes.com/search/?query=economic+view+and+shiller&srchst=nyt)\n",
    "\n",
    "[Nassim Taleb's home page](http://www.fooledbyrandomness.com/)\n",
    "\n",
    "[Nassim Taleb lecture, \"How do you solve a problem like uncertainty?\"](https://iai.tv/video/how-do-you-solve-a-problem-like-uncertainty)\n",
    "\n",
    "[Nassim Taleb op-ed, \"Stabilization won't save us.\"](https://www.nytimes.com/2012/12/24/opinion/stabilization-wont-save-us.html)\n"
   ]
  },
  {
   "cell_type": "markdown",
   "id": "bb5851c9-8f0f-4331-a4bc-e508342d63bd",
   "metadata": {},
   "source": [
    "## 3. Terminology\n",
    "Here's a summary of the terms you just learned:\n",
    "\n",
    "**Stock**: An asset that represents ownership in a company. A claim on part of a corportation's assets and earnings. There are two main types, common and preferred.\n",
    "\n",
    "**Share**: A single share represents partial ownership of a company relative to the total number of shares in existence.\n",
    "\n",
    "**Common Stock**: One main type of stock; entitles the owner to receive dividends and to vote at shareholder meetings.\n",
    "\n",
    "**Preferred Stock**: The other main type of stock; generally does not entail voting rights, but entitles the owner to a higher claim on the assets and earnings of a company.\n",
    "\n",
    "**Dividend**: A partial distribution of a company's profits to shareholders.\n",
    "\n",
    "**Capital Gains**: Profits that result from the sale of an asset at a price higher than the purchase price.\n",
    "\n",
    "**Security**: A tradable financial asset.\n",
    "\n",
    "**Debt Security**: Money that is owed and must be repaid, like government or corporate bonds, or certificates of deposit. Also called fixed-income securities.\n",
    "\n",
    "**Derivative Security**: A financial instrument whereby its value is derived from other assets.\n",
    "\n",
    "**Equity**: The value of an owned asset minus the amount of all debts on that asset.\n",
    "\n",
    "**Equity Security**: A security that represents fractional ownership in an entity, such as stock.\n",
    "\n",
    "**Option Contract**: A contract which gives the buyer the right, but not the obligation, to buy or sell an underlying asset at a specified price on or by a specified date\n",
    "\n",
    "**Futures Contract**: A contract that obligates the buyer to buy or the seller to sell an asset at a predetermined price at a specified time in the future\n",
    "\n"
   ]
  }
 ],
 "metadata": {
  "kernelspec": {
   "display_name": "UdacityAI (3.6)",
   "language": "python",
   "name": "udacityai"
  },
  "language_info": {
   "codemirror_mode": {
    "name": "ipython",
    "version": 3
   },
   "file_extension": ".py",
   "mimetype": "text/x-python",
   "name": "python",
   "nbconvert_exporter": "python",
   "pygments_lexer": "ipython3",
   "version": "3.6.15"
  }
 },
 "nbformat": 4,
 "nbformat_minor": 5
}
