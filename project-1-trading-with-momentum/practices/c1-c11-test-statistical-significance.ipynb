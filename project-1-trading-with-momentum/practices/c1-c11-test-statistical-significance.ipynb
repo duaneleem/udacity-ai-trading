{
 "cells": [
  {
   "cell_type": "code",
   "execution_count": 10,
   "id": "d62f46d3-affc-4289-81ac-b739f92a27e8",
   "metadata": {},
   "outputs": [],
   "source": [
    "# Test Returns for Statistical Significance"
   ]
  },
  {
   "cell_type": "code",
   "execution_count": null,
   "id": "add52d37-c1c9-416d-83fc-24cc97850f37",
   "metadata": {},
   "outputs": [],
   "source": [
    "import pandas as pd\n",
    "import numpy as np\n",
    "import scipy.stats as stats"
   ]
  },
  {
   "cell_type": "code",
   "execution_count": 3,
   "id": "36d97b35-1d0a-4176-b438-252610de5efc",
   "metadata": {},
   "outputs": [],
   "source": [
    "def analyze_returns(net_returns):\n",
    "  \"\"\"\n",
    "  Perform a t-test, with the null hypothesis being that the mean return is zero.\n",
    "  \n",
    "  Parameters\n",
    "  ----------\n",
    "  net_returns : Pandas Series\n",
    "    A Pandas Series for each date\n",
    "  \n",
    "  Returns\n",
    "  -------\n",
    "  t_value\n",
    "    t-statistic from t-test\n",
    "  p_value\n",
    "    Corresponding p-value\n",
    "  \"\"\"\n",
    "  # TODO: Perform one-tailed t-test on net_returns\n",
    "  # Hint: You can use stats.ttest_1samp() to perform the test.\n",
    "  #       However, this performs a two-tailed t-test.\n",
    "  #       You'll need to divde the p-value by 2 to get the results of a one-tailed p-value.\n",
    "  null_hypothesis = 0.0\n",
    "  t_value, p = stats.ttest_1samp(net_returns, null_hypothesis)\n",
    "  p_value = p / 2\n",
    "  \n",
    "  return t_value, p_value"
   ]
  },
  {
   "cell_type": "code",
   "execution_count": 4,
   "id": "aa8b7839-583f-44b9-b8fc-490e80aaa607",
   "metadata": {},
   "outputs": [],
   "source": [
    "def test_run(filename='net_returns.csv'):\n",
    "  \"\"\"Test run analyze_returns() with net strategy returns from a file.\"\"\"\n",
    "  net_returns = pd.Series.from_csv(filename, header=0)\n",
    "  t, p = analyze_returns(net_returns)\n",
    "  print(\"t-statistic: {:.3f}\\np-value: {:.6f}\".format(t, p))"
   ]
  },
  {
   "cell_type": "code",
   "execution_count": 5,
   "id": "9da576c3-d0b9-4a2e-9e73-23af338a5f2a",
   "metadata": {},
   "outputs": [
    {
     "ename": "AttributeError",
     "evalue": "type object 'Series' has no attribute 'from_csv'",
     "output_type": "error",
     "traceback": [
      "\u001b[0;31m---------------------------------------------------------------------------\u001b[0m",
      "\u001b[0;31mAttributeError\u001b[0m                            Traceback (most recent call last)",
      "\u001b[0;32m<ipython-input-5-b3a8ec3b8484>\u001b[0m in \u001b[0;36m<module>\u001b[0;34m\u001b[0m\n\u001b[1;32m      1\u001b[0m \u001b[0;32mif\u001b[0m \u001b[0m__name__\u001b[0m \u001b[0;34m==\u001b[0m \u001b[0;34m'__main__'\u001b[0m\u001b[0;34m:\u001b[0m\u001b[0;34m\u001b[0m\u001b[0;34m\u001b[0m\u001b[0m\n\u001b[0;32m----> 2\u001b[0;31m   \u001b[0mtest_run\u001b[0m\u001b[0;34m(\u001b[0m\u001b[0;34m)\u001b[0m\u001b[0;34m\u001b[0m\u001b[0;34m\u001b[0m\u001b[0m\n\u001b[0m",
      "\u001b[0;32m<ipython-input-4-b9eb3a7012a5>\u001b[0m in \u001b[0;36mtest_run\u001b[0;34m(filename)\u001b[0m\n\u001b[1;32m      1\u001b[0m \u001b[0;32mdef\u001b[0m \u001b[0mtest_run\u001b[0m\u001b[0;34m(\u001b[0m\u001b[0mfilename\u001b[0m\u001b[0;34m=\u001b[0m\u001b[0;34m'net_returns.csv'\u001b[0m\u001b[0;34m)\u001b[0m\u001b[0;34m:\u001b[0m\u001b[0;34m\u001b[0m\u001b[0;34m\u001b[0m\u001b[0m\n\u001b[1;32m      2\u001b[0m   \u001b[0;34m\"\"\"Test run analyze_returns() with net strategy returns from a file.\"\"\"\u001b[0m\u001b[0;34m\u001b[0m\u001b[0;34m\u001b[0m\u001b[0m\n\u001b[0;32m----> 3\u001b[0;31m   \u001b[0mnet_returns\u001b[0m \u001b[0;34m=\u001b[0m \u001b[0mpd\u001b[0m\u001b[0;34m.\u001b[0m\u001b[0mSeries\u001b[0m\u001b[0;34m.\u001b[0m\u001b[0mfrom_csv\u001b[0m\u001b[0;34m(\u001b[0m\u001b[0mfilename\u001b[0m\u001b[0;34m,\u001b[0m \u001b[0mheader\u001b[0m\u001b[0;34m=\u001b[0m\u001b[0;36m0\u001b[0m\u001b[0;34m)\u001b[0m\u001b[0;34m\u001b[0m\u001b[0;34m\u001b[0m\u001b[0m\n\u001b[0m\u001b[1;32m      4\u001b[0m   \u001b[0mt\u001b[0m\u001b[0;34m,\u001b[0m \u001b[0mp\u001b[0m \u001b[0;34m=\u001b[0m \u001b[0manalyze_returns\u001b[0m\u001b[0;34m(\u001b[0m\u001b[0mnet_returns\u001b[0m\u001b[0;34m)\u001b[0m\u001b[0;34m\u001b[0m\u001b[0;34m\u001b[0m\u001b[0m\n\u001b[1;32m      5\u001b[0m   \u001b[0mprint\u001b[0m\u001b[0;34m(\u001b[0m\u001b[0;34m\"t-statistic: {:.3f}\\np-value: {:.6f}\"\u001b[0m\u001b[0;34m.\u001b[0m\u001b[0mformat\u001b[0m\u001b[0;34m(\u001b[0m\u001b[0mt\u001b[0m\u001b[0;34m,\u001b[0m \u001b[0mp\u001b[0m\u001b[0;34m)\u001b[0m\u001b[0;34m)\u001b[0m\u001b[0;34m\u001b[0m\u001b[0;34m\u001b[0m\u001b[0m\n",
      "\u001b[0;31mAttributeError\u001b[0m: type object 'Series' has no attribute 'from_csv'"
     ]
    }
   ],
   "source": [
    "if __name__ == '__main__':\n",
    "  test_run()"
   ]
  },
  {
   "cell_type": "code",
   "execution_count": null,
   "id": "4ebf53bc-22a9-44bf-94be-e830371e7d04",
   "metadata": {},
   "outputs": [],
   "source": []
  }
 ],
 "metadata": {
  "kernelspec": {
   "display_name": "Python 3",
   "language": "python",
   "name": "python3"
  },
  "language_info": {
   "codemirror_mode": {
    "name": "ipython",
    "version": 3
   },
   "file_extension": ".py",
   "mimetype": "text/x-python",
   "name": "python",
   "nbconvert_exporter": "python",
   "pygments_lexer": "ipython3",
   "version": "3.9.2"
  }
 },
 "nbformat": 4,
 "nbformat_minor": 5
}
