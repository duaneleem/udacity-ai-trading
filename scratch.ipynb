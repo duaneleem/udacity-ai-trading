{
 "cells": [
  {
   "cell_type": "code",
   "execution_count": 22,
   "id": "c7438ced-95d7-4e4d-a4a0-312d52abb7aa",
   "metadata": {},
   "outputs": [
    {
     "data": {
      "text/plain": [
       "2.0"
      ]
     },
     "execution_count": 22,
     "metadata": {},
     "output_type": "execute_result"
    }
   ],
   "source": [
    "3*0.4 + 5*0.6 + -2.2"
   ]
  },
  {
   "cell_type": "code",
   "execution_count": null,
   "id": "4c4e90b6-bee5-43c9-a07f-beda85cea5e2",
   "metadata": {},
   "outputs": [],
   "source": []
  }
 ],
 "metadata": {
  "kernelspec": {
   "display_name": "UdacityAI",
   "language": "python",
   "name": "udacityai"
  },
  "language_info": {
   "codemirror_mode": {
    "name": "ipython",
    "version": 3
   },
   "file_extension": ".py",
   "mimetype": "text/x-python",
   "name": "python",
   "nbconvert_exporter": "python",
   "pygments_lexer": "ipython3",
   "version": "3.6.13"
  }
 },
 "nbformat": 4,
 "nbformat_minor": 5
}
