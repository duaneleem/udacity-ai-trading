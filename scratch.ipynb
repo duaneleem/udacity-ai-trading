{
 "cells": [
  {
   "cell_type": "code",
   "execution_count": 10,
   "id": "f102a348-174e-4e40-ab7e-066773e0525c",
   "metadata": {},
   "outputs": [
    {
     "name": "stdout",
     "output_type": "stream",
     "text": [
      "1.0\n"
     ]
    }
   ],
   "source": [
    "first = (4*1) + (5*1) - 9\n",
    "first_sigmoid = 1 / (1 + first)\n",
    "print(first_sigmoid)"
   ]
  },
  {
   "cell_type": "code",
   "execution_count": 11,
   "id": "e8d22dfb-67a2-43bd-83f7-2008dde60352",
   "metadata": {},
   "outputs": [
    {
     "name": "stdout",
     "output_type": "stream",
     "text": [
      "0.05\n"
     ]
    }
   ],
   "source": [
    "x1 = 2\n",
    "x2 = 4\n",
    "score = (4 * x1) + (5 * x2) - 9\n",
    "sigmoid = 1 / (1 + score)\n",
    "print(sigmoid)"
   ]
  },
  {
   "cell_type": "code",
   "execution_count": 12,
   "id": "557c9f51-5b12-4656-ad0a-c2126ab20600",
   "metadata": {},
   "outputs": [
    {
     "name": "stdout",
     "output_type": "stream",
     "text": [
      "-0.07692307692307693\n"
     ]
    }
   ],
   "source": [
    "x1 = 5\n",
    "x2 = -5\n",
    "score = (4 * x1) + (5 * x2) - 9\n",
    "sigmoid = 1 / (1 + score)\n",
    "print(sigmoid)"
   ]
  },
  {
   "cell_type": "code",
   "execution_count": 13,
   "id": "9c9986db-3c64-4107-81f8-d07c4042f810",
   "metadata": {},
   "outputs": [
    {
     "name": "stdout",
     "output_type": "stream",
     "text": [
      "1.0\n"
     ]
    }
   ],
   "source": [
    "x1 = -4\n",
    "x2 = 5\n",
    "score = (4 * x1) + (5 * x2) - 9\n",
    "sigmoid = 1 / (1 + score)\n",
    "print(sigmoid)"
   ]
  },
  {
   "cell_type": "code",
   "execution_count": null,
   "id": "06f4a1a3-183a-406b-aeee-c3ca54088058",
   "metadata": {},
   "outputs": [],
   "source": []
  }
 ],
 "metadata": {
  "kernelspec": {
   "display_name": "UdacityAI",
   "language": "python",
   "name": "udacityai"
  },
  "language_info": {
   "codemirror_mode": {
    "name": "ipython",
    "version": 3
   },
   "file_extension": ".py",
   "mimetype": "text/x-python",
   "name": "python",
   "nbconvert_exporter": "python",
   "pygments_lexer": "ipython3",
   "version": "3.6.13"
  }
 },
 "nbformat": 4,
 "nbformat_minor": 5
}
