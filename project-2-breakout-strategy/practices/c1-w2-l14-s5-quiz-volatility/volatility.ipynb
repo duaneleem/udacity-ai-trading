{
 "cells": [
  {
   "cell_type": "markdown",
   "id": "9b9dbaf0-3496-458c-a042-1ba618f29256",
   "metadata": {},
   "source": [
    "Volatility literally refers to how \"volatile\" a stock is, meaning how unpredictably its price might change. A statistical measure of dispersion, such as standard deviation, is commonly used to measure volatility.\n",
    "\n",
    "In the exercise below, you're given daily prices for two sample stocks. Compute the standard deviations of their log returns, and return the ticker symbol for the stock that is more volatile."
   ]
  },
  {
   "cell_type": "code",
   "execution_count": 32,
   "id": "1f1adf6a-3dde-44aa-8c9c-7b260a99f1fe",
   "metadata": {},
   "outputs": [
    {
     "name": "stdout",
     "output_type": "stream",
     "text": [
      "Most volatile stock: B\n"
     ]
    }
   ],
   "source": [
    "import pandas as pd\n",
    "import numpy as np\n",
    "\n",
    "def get_most_volatile(prices):\n",
    "    \"\"\"Return the ticker symbol for the most volatile stock.\n",
    "    \n",
    "    Parameters\n",
    "    ----------\n",
    "    prices : pandas.DataFrame\n",
    "        a pandas.DataFrame object with columns: ['ticker', 'date', 'price']\n",
    "    \n",
    "    Returns\n",
    "    -------\n",
    "    ticker : string\n",
    "        ticker symbol for the most volatile stock\n",
    "    \"\"\"\n",
    "    # TODO: Fill in this function.\n",
    "    \n",
    "    ## Get log of price as another column.\n",
    "    prices['log_price'] = np.log(prices['price'])\n",
    "    \n",
    "    ## Group Tickers and get Standard Deviation of each ticker.\n",
    "    new_price= prices.groupby(['ticker']).aggregate(np.std)\n",
    "    \n",
    "    ## Match the highest log_price entry.\n",
    "    df_highest_volatile = new_price[new_price.log_price == new_price.log_price.max()]\n",
    "    \n",
    "    ## Reset index of dataframe.\n",
    "    df_highest_volatile = df_highest_volatile.reset_index()\n",
    "    \n",
    "    return df_highest_volatile['ticker'][0]\n",
    "\n",
    "\n",
    "def test_run(filename='prices.csv'):\n",
    "    \"\"\"Test run get_most_volatile() with stock prices from a file.\"\"\"\n",
    "    prices = pd.read_csv(filename, parse_dates=['date'])\n",
    "    print(\"Most volatile stock: {}\".format(get_most_volatile(prices)))\n",
    "\n",
    "\n",
    "if __name__ == '__main__':\n",
    "    test_run()\n"
   ]
  }
 ],
 "metadata": {
  "kernelspec": {
   "display_name": "Python 3",
   "language": "python",
   "name": "python3"
  },
  "language_info": {
   "codemirror_mode": {
    "name": "ipython",
    "version": 3
   },
   "file_extension": ".py",
   "mimetype": "text/x-python",
   "name": "python",
   "nbconvert_exporter": "python",
   "pygments_lexer": "ipython3",
   "version": "3.9.2"
  }
 },
 "nbformat": 4,
 "nbformat_minor": 5
}
