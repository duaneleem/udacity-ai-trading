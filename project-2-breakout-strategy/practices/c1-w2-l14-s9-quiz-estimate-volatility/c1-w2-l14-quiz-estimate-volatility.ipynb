{
 "cells": [
  {
   "cell_type": "markdown",
   "id": "47baed05-0acb-440d-9a93-7cb9b86a2509",
   "metadata": {},
   "source": [
    "# Estimate Volatility\n",
    "\n",
    "![Estimate Volatility Description](../../images/c1-w2-l14-s9-quiz-estimate-volatility.png \"Estimate Volatility Description\")\n",
    "\n",
    "- [Udacity Link](https://classroom.udacity.com/nanodegrees/nd880/parts/9a3a9589-7bc6-4694-81e0-8c3cb1aea251/modules/45a9362c-0c15-44f8-b71e-a3c2da3637c4/lessons/a8376b2e-08e3-4694-9ea4-86f004a558cb/concepts/b79f1591-bc8f-49d4-b851-cd5d05c1c4c7)\n",
    "- [Exponentially Weighted Moving Window on Pandas docs](http://pandas.pydata.org/pandas-docs/stable/computation.html#exponentially-weighted-windows)"
   ]
  },
  {
   "cell_type": "code",
   "execution_count": 18,
   "id": "dea6a579-882e-480b-b727-c2655919ea6b",
   "metadata": {},
   "outputs": [
    {
     "name": "stdout",
     "output_type": "stream",
     "text": [
      "Most recent volatility estimate: 2.755697\n"
     ]
    }
   ],
   "source": [
    "import pandas as pd\n",
    "import numpy as np\n",
    "\n",
    "def estimate_volatility(prices, l):\n",
    "    \"\"\"Create an exponential moving average model of the volatility of a stock\n",
    "    price, and return the most recent (last) volatility estimate.\n",
    "    \n",
    "    Parameters\n",
    "    ----------\n",
    "    prices : pandas.Series\n",
    "        A series of adjusted closing prices for a stock.\n",
    "        \n",
    "    l : float\n",
    "        The 'lambda' parameter of the exponential moving average model. Making\n",
    "        this value smaller will cause the model to weight older terms less \n",
    "        relative to more recent terms.\n",
    "        \n",
    "    Returns\n",
    "    -------\n",
    "    last_vol : float\n",
    "        The last element of your exponential moving averge volatility model series.\n",
    "    \n",
    "    \"\"\"\n",
    "    # TODO: Implement the exponential moving average volatility model and return the last value.\n",
    "    ## Provide exponential weighted using std()\n",
    "    ewmStd = prices.ewm(com=l).std()\n",
    "    \n",
    "    ## Return last element as float\n",
    "    ''' This could be incorrect. I will need to verify. '''\n",
    "    return ewmStd[-1]\n",
    "    \n",
    "def test_run(filename='data.csv'):\n",
    "    \"\"\"Test run get_most_volatile() with stock prices from a file.\"\"\"\n",
    "    prices = pd.read_csv(filename, parse_dates=['date'], index_col='date', squeeze=True)\n",
    "    print(\"Most recent volatility estimate: {:.6f}\".format(estimate_volatility(prices, 0.7)))\n",
    "\n",
    "\n",
    "if __name__ == '__main__':\n",
    "    test_run()"
   ]
  },
  {
   "cell_type": "code",
   "execution_count": null,
   "id": "005e19ce-31b8-49b4-b82e-72b745857e70",
   "metadata": {},
   "outputs": [],
   "source": []
  }
 ],
 "metadata": {
  "kernelspec": {
   "display_name": "Python 3",
   "language": "python",
   "name": "python3"
  },
  "language_info": {
   "codemirror_mode": {
    "name": "ipython",
    "version": 3
   },
   "file_extension": ".py",
   "mimetype": "text/x-python",
   "name": "python",
   "nbconvert_exporter": "python",
   "pygments_lexer": "ipython3",
   "version": "3.9.2"
  }
 },
 "nbformat": 4,
 "nbformat_minor": 5
}
