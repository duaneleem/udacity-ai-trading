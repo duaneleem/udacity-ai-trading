{
 "cells": [
  {
   "cell_type": "markdown",
   "id": "0cd813d8-58e9-43cf-b8e8-8a9a83943e00",
   "metadata": {},
   "source": [
    "# AI for Trading | Week 2 | L10: Quant Workflow"
   ]
  },
  {
   "cell_type": "markdown",
   "id": "a77038cd-c9b0-423b-9bb8-7b374a8bf5dd",
   "metadata": {},
   "source": [
    "## Starting from a Hypothesis\n",
    "- https://youtu.be/yjlt4yerB9I\n",
    "  - 1:00 Making a good hypothesis is the first step to predicting future behavior.\n",
    "  - 1:40 Improved Hypothesis - \"Stocks whos company name or ticker appears on the landing page of a Wall Stree Journal website will increase in price by 1% one day following this appearance.\"\n",
    "  - 2:00 Market Research\n",
    "    - Social Science Network\n"
   ]
  },
  {
   "cell_type": "markdown",
   "id": "2933f4bf-650a-4270-905a-448a57f75864",
   "metadata": {},
   "source": [
    "## Quant Workflow\n",
    "- https://youtu.be/lZfCCRv2rEE\n",
    "  - 0:00 Hypothesis - An idea for a way to profit from trading\n",
    "  - Research - Preliminary research and testing\n",
    "    - Signal or Alpha - What assets to buy and sell at what times\n",
    "  - Testing - Detailed research and testing, and backtesting\n",
    "    - Strategy - How to spend $, how to make trades"
   ]
  },
  {
   "cell_type": "markdown",
   "id": "8722fd8a-b3e3-4d30-8d60-986b867b9363",
   "metadata": {},
   "source": [
    "## Flavors of Trading\n",
    "- https://youtu.be/uCCx8I9u_Nk\n",
    "  - 0:00 Trading Strategies\n",
    "  - Single Asset Strategies\n",
    "  - Pairwise Strategies\n",
    "  - Cross-sectional strategies (equity statistical arbitrage, equity market neutral investing)\n",
    "  - 1:42: Alternative Data Based Strategies\n",
    "    - Satellite Imagery\n",
    "    - Social Media\n",
    "    - Geolocation\n",
    "    - Consumer Transaction Data\n",
    "  - 1:55 Most investors spend time in Cross-sectional and Alternative-data based strategies."
   ]
  },
  {
   "source": [
    "## Anatomy of a Strategy\n",
    "- Part 1: https://youtu.be/cnJK8c2zfq4\n",
    "  - 0:05 Cross-sectional Equity Investing\n",
    "  - 0:34 1st Stage: Use what data set or sets to use\n",
    "  - 0:48 2nd Stage: Stocks\n",
    "  - 1:16 Geographic Momentum\n",
    "- Part 2: https://youtu.be/v3w4JZKQixc\n",
    "  - 0:00 Discovery Phase - Look for Alphas\n",
    "  - 1:25 Trading Signal - Any numerical signal that informs a trade.\n",
    "  - 1:38 Signal research phase.\n",
    "  - 2:15 Model Stacking / Ensembling\n",
    "  - 2:40 Single Combined Alpha Vector\n",
    "- Part 3: https://youtu.be/vSxnkduTWWY\n",
    "  - 0:00 Portfolio Construction\n",
    "  - 1:20 Risks\n",
    "    - Systematic Risks\n",
    "      - Sector-specific Risks\n",
    "  - Idiosyncratic Risk\n",
    "  - 3:16 Stage: Trading"
   ],
   "cell_type": "markdown",
   "metadata": {}
  }
 ],
 "metadata": {
  "kernelspec": {
   "display_name": "Python 3",
   "language": "python",
   "name": "python3"
  },
  "language_info": {
   "codemirror_mode": {
    "name": "ipython",
    "version": 3
   },
   "file_extension": ".py",
   "mimetype": "text/x-python",
   "name": "python",
   "nbconvert_exporter": "python",
   "pygments_lexer": "ipython3",
   "version": "3.9.2"
  }
 },
 "nbformat": 4,
 "nbformat_minor": 5
}