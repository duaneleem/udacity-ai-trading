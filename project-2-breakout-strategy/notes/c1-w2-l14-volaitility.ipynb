{
 "cells": [
  {
   "cell_type": "markdown",
   "id": "4358f6e6-7093-4f67-8118-7e28f5935df0",
   "metadata": {},
   "source": [
    "# AI for Trading | Week 2 | L14: Volatility"
   ]
  },
  {
   "cell_type": "markdown",
   "id": "73996714-2793-4f0d-93c7-8793c5afed52",
   "metadata": {},
   "source": [
    "## What is Volatility?\n",
    "- https://youtu.be/brGVwpDSuG4\n",
    "  - 2:20 Voltatility\n",
    "    - Measuring risk\n",
    "    - Defining position sizes\n",
    "    - Designing alpha factors\n",
    "    - Pricing options\n",
    "    - Trading volatility directly"
   ]
  },
  {
   "cell_type": "markdown",
   "id": "56b9e6cf-79b0-42e1-9818-e2c3d5e4e12c",
   "metadata": {},
   "source": [
    "## Historical Voltality\n",
    "- TODO: YT Link\n",
    "  - 0:13 Calculate the SD of the log returns of some price data\n",
    "  - 2:09 Volatility estimate depends on time freuqency of the underlying price data."
   ]
  },
  {
   "cell_type": "markdown",
   "id": "1604e9d9-b883-4fc0-8031-abf7ff32d403",
   "metadata": {},
   "source": [
    "## Annuualized Volatility\n",
    "- TODO: YT Link\n",
    "  - 0:05 Extrapolating a SD of log returns calculated at some time frequency to a SD of log returns calculated on an annual frequency.\n",
    "\n",
    "### Quiz Question\n",
    "What is the typical scale of annualized stock volatility values?\n",
    "0.1 - 0.5"
   ]
  }
 ],
 "metadata": {
  "kernelspec": {
   "display_name": "Python 3",
   "language": "python",
   "name": "python3"
  },
  "language_info": {
   "codemirror_mode": {
    "name": "ipython",
    "version": 3
   },
   "file_extension": ".py",
   "mimetype": "text/x-python",
   "name": "python",
   "nbconvert_exporter": "python",
   "pygments_lexer": "ipython3",
   "version": "3.9.2"
  }
 },
 "nbformat": 4,
 "nbformat_minor": 5
}
