{
 "cells": [
  {
   "cell_type": "markdown",
   "id": "4e53bbd9-b5dd-4b38-836f-f99adc2b6fa4",
   "metadata": {},
   "source": [
    "# AI for Trading | Week 2 | L11: Regression"
   ]
  },
  {
   "cell_type": "markdown",
   "id": "459f6cd4-e400-439d-9a52-5354bc29c107",
   "metadata": {},
   "source": [
    "## Intro\n",
    "- https://youtu.be/C7vWJH05tKA\n",
    "  - 1:10 Statistical Arbitrage"
   ]
  },
  {
   "cell_type": "markdown",
   "id": "6d39fceb-24f5-47bf-a052-fbf654ba8999",
   "metadata": {},
   "source": [
    "## Distributions\n",
    "- https://youtu.be/ZlRGxq5I9BU\n",
    "  - 0:05 Normal Distribution, Bell Curve\n",
    "  - 0:56 Probability Distribution\n",
    "    - Range of numbers associated with a probability number.\n",
    "  - 2:04 Histogram"
   ]
  },
  {
   "cell_type": "code",
   "execution_count": null,
   "id": "96f50769-722e-46f4-ab18-cf0949633ba7",
   "metadata": {},
   "outputs": [],
   "source": []
  },
  {
   "cell_type": "markdown",
   "id": "69e1c45e-d93f-409d-adbd-f4c35be767c5",
   "metadata": {},
   "source": [
    "## Exercise: Visualize Distributions\n",
    "\n",
    "Many variables tend to follow a Normal distribution (hence the name “Normal”), both in nature as well as artificial contexts. But there are other distributions as well, some that are variants of the Normal distribution, and some that are completely different! Each distribution is suitable for modeling certain kinds of variables.\n",
    "\n",
    "In this exercise, you are given some samples of data. Plot the histogram of each sample, and then try to match it with the corresponding distribution.\n",
    "\n",
    "Fill in the function ```plot_histogram```  with a line that plots a histogram of the data contained in the variable ```sample```. Then write another line of code to show the plot. \n",
    "\n",
    "See documentation: https://matplotlib.org/api/_as_gen/matplotlib.pyplot.show.html\n",
    "\n",
    "Hint: check out the documentation here https://pandas.pydata.org/pandas-docs/stable/reference/api/pandas.DataFrame.hist.html"
   ]
  },
  {
   "cell_type": "code",
   "execution_count": null,
   "id": "2f86115e-ebb9-4207-b855-a70f36751d23",
   "metadata": {},
   "outputs": [],
   "source": [
    "\"\"\"Visualize the distribution of different samples.\"\"\"\n",
    "\n",
    "import pandas as pd\n",
    "import matplotlib.pyplot as plt\n",
    "\n",
    "def plot_histogram(sample, title, bins=16, **kwargs):\n",
    "    \"\"\"Plot the histogram of a given sample of random values.\n",
    "\n",
    "    Parameters\n",
    "    ----------\n",
    "    sample : pandas.Series\n",
    "        raw values to build histogram\n",
    "    title : str\n",
    "        plot title/header\n",
    "    bins : int\n",
    "        number of bins in the histogram\n",
    "    kwargs : dict \n",
    "        any other keyword arguments for plotting (optional)\n",
    "    \"\"\"\n",
    "    # TODO: Plot histogram\n",
    "    \n",
    "    # Convert series to dataframe\n",
    "    series = pd.Series(sample, name=title)\n",
    "    df = series.to_frame()\n",
    "    \n",
    "    # show the plot\n",
    "    hist = df.hist(bins=bins)\n",
    "    plt.show()\n",
    "    \n",
    "    return None\n",
    "\n",
    "\n",
    "def test_run():\n",
    "    \"\"\"Test run plot_histogram() with different samples.\"\"\"\n",
    "    # Load and plot histograms of each sample\n",
    "    # Note: Try plotting them one by one if it's taking too long\n",
    "    A = pd.read_csv(\"A.csv\", header=None, squeeze=True)\n",
    "    plot_histogram(A, title=\"Sample A\")\n",
    "    \n",
    "    B = pd.read_csv(\"B.csv\", header=None, squeeze=True)\n",
    "    plot_histogram(B, title=\"Sample B\")\n",
    "    \n",
    "    C = pd.read_csv(\"C.csv\", header=None, squeeze=True)\n",
    "    plot_histogram(C, title=\"Sample C\")\n",
    "    \n",
    "    D = pd.read_csv(\"D.csv\", header=None, squeeze=True)\n",
    "    plot_histogram(D, title=\"Sample D\")\n",
    "\n",
    "\n",
    "if __name__ == '__main__':\n",
    "    test_run()\n"
   ]
  },
  {
   "cell_type": "markdown",
   "id": "30373258-3d77-4092-ac2e-fb9556f1eb63",
   "metadata": {},
   "source": [
    "## Parameters of a Distribution\n",
    "- https://youtu.be/-akdmiLDny4\n",
    "  - 0:00 Probability Density Function (PDF)"
   ]
  },
  {
   "cell_type": "markdown",
   "id": "6395cd91-fb80-4710-b64f-9d6190091cc3",
   "metadata": {},
   "source": [
    "## Testing for Normality\n",
    "- https://youtu.be/Sa1MJegyYfc\n",
    "  - 0:30 Boxplot\n",
    "    - Quantiles\n",
    "    - Quartiles\n",
    "    - Median: Line in the middle\n",
    "    - Whisker\n",
    "    - Outliers: Lines outside the whiskers\n",
    "    - If not symmetric, not normally distributed.\n",
    "  - 3:55 QQ-Plot\n",
    "    - Checks if data distribution if same as normal distribution\n",
    "    - Quartiles, Deciles, Percentiles\n",
    "    - Shapiro-Wilk\n",
    "    - D'Agostino-Pearson\n",
    "    - Kolmogorov-Smirnov"
   ]
  }
 ],
 "metadata": {
  "kernelspec": {
   "display_name": "Python 3",
   "language": "python",
   "name": "python3"
  },
  "language_info": {
   "codemirror_mode": {
    "name": "ipython",
    "version": 3
   },
   "file_extension": ".py",
   "mimetype": "text/x-python",
   "name": "python",
   "nbconvert_exporter": "python",
   "pygments_lexer": "ipython3",
   "version": "3.9.2"
  }
 },
 "nbformat": 4,
 "nbformat_minor": 5
}
