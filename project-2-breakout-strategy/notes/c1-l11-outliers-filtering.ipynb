{
 "cells": [
  {
   "cell_type": "markdown",
   "id": "865d7cfc-05aa-4c01-aab4-152dba18beb2",
   "metadata": {},
   "source": [
    "# AI for Trading | Week 2 | L10: Quant Workflow"
   ]
  },
  {
   "source": [
    "## Sources of Outliers\n",
    "- https://youtu.be/gXKhKQ2_TaA\n",
    "  - 0:36 Fat Finger Errors\n",
    "  - 2:12 Stock Market Crashes - Events when the prices of stocks across a significant cross-section of the market drop suddenly and significantly\n",
    "  - 3:30 Unadjusted or Nominal data because data is unavailable from their source.\n",
    "  - 4:36 Demand"
   ],
   "cell_type": "markdown",
   "metadata": {}
  },
  {
   "source": [
    "## Outliers, Signals and Strategies\n",
    "- https://youtu.be/zyVgpsRy-mU\n",
    "  - 0:28 Thinly / infrequently traded stock\n",
    "    - Volume = Number of Shares Traded\n",
    "    - Turnover = Volume Traded X Price Per Share"
   ],
   "cell_type": "markdown",
   "metadata": {}
  },
  {
   "source": [
    "## Spotting Outliers in Raw Data\n",
    "- https://youtu.be/kFIB0YIW1TQ\n",
    "  - 0:40 Rule based search and filtering methods"
   ],
   "cell_type": "markdown",
   "metadata": {}
  },
  {
   "source": [
    "## Handling Outliers in Raw Data\n",
    "  - https://youtu.be/3l6kQZqlVJA\n",
    "    - 0:19 Cross check with another data source.\n",
    "    - 0:50 Lookaead Bias"
   ],
   "cell_type": "markdown",
   "metadata": {}
  },
  {
   "source": [
    "## Spotting Outliers in Signal Returns\n",
    "- https://youtu.be/BSLGZz0RzTg\n",
    "  - 1:32 Q-Q Plot\n",
    "  - 2:00 Quartiles\n",
    "  - 2:17 Deciles"
   ],
   "cell_type": "markdown",
   "metadata": {}
  },
  {
   "source": [
    "## Handling Outliers in Signal Returns\n",
    "- https://youtu.be/ILdnNi4CgZM\n",
    "  - 0:15 If data is bad from vendor, get data from another vendor for cross-checking"
   ],
   "cell_type": "markdown",
   "metadata": {}
  },
  {
   "source": [
    "## Generating Robust Trading Signals\n",
    "- https://youtu.be/1ikkZmVkjl0\n",
    "  - 0:28 Rolling Mean"
   ],
   "cell_type": "markdown",
   "metadata": {}
  }
 ],
 "metadata": {
  "kernelspec": {
   "display_name": "Python 3",
   "language": "python",
   "name": "python3"
  },
  "language_info": {
   "codemirror_mode": {
    "name": "ipython",
    "version": 3
   },
   "file_extension": ".py",
   "mimetype": "text/x-python",
   "name": "python",
   "nbconvert_exporter": "python",
   "pygments_lexer": "ipython3",
   "version": "3.9.2"
  }
 },
 "nbformat": 4,
 "nbformat_minor": 5
}