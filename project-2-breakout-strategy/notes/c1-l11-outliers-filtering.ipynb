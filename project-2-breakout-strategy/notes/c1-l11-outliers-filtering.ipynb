{
 "cells": [
  {
   "cell_type": "markdown",
   "id": "865d7cfc-05aa-4c01-aab4-152dba18beb2",
   "metadata": {},
   "source": [
    "# AI for Trading | Week 2 | L10: Quant Workflow"
   ]
  },
  {
   "source": [
    "## Sources of Outliers\n",
    "- https://youtu.be/gXKhKQ2_TaA\n",
    "  - 0:36 Fat Finger Errors\n",
    "  - 2:12 Stock Market Crashes - Events when the prices of stocks across a significant cross-section of the market drop suddenly and significantly\n",
    "  - 3:30 Unadjusted or Nominal data because data is unavailable from their source.\n",
    "  - "
   ],
   "cell_type": "code",
   "metadata": {},
   "execution_count": null,
   "outputs": []
  }
 ],
 "metadata": {
  "kernelspec": {
   "display_name": "Python 3",
   "language": "python",
   "name": "python3"
  },
  "language_info": {
   "codemirror_mode": {
    "name": "ipython",
    "version": 3
   },
   "file_extension": ".py",
   "mimetype": "text/x-python",
   "name": "python",
   "nbconvert_exporter": "python",
   "pygments_lexer": "ipython3",
   "version": "3.9.2"
  }
 },
 "nbformat": 4,
 "nbformat_minor": 5
}