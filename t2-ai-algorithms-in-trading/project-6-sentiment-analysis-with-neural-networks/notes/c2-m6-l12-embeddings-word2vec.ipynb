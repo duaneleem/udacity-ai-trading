{
 "cells": [
  {
   "cell_type": "markdown",
   "id": "686cc9bc-2e82-4415-be35-74151f2079ff",
   "metadata": {},
   "source": [
    "# AI for Trading | Module 6 | L12: Embeddings & Word2Vec"
   ]
  },
  {
   "cell_type": "markdown",
   "id": "5d4a3c8c-f7bf-4ac8-966e-138c3fe4f3b2",
   "metadata": {},
   "source": [
    "## 1. Word Embeddings\n",
    "- https://youtu.be/ZsLhh1mly9k\n",
    "\n",
    "\n",
    "## 2. Embedding Weight Matrix/Lookup Table\n",
    "- https://youtu.be/KVCcG5v8fi0\n",
    "\n",
    "### Resources\n",
    "- [DeepLearning.ai](https://youtu.be/xtPXjvwCt64)\n",
    "\n",
    "\n",
    "## 3. Word2Vec Notebook\n",
    "- https://youtu.be/4cWzv3YiF_w\n"
   ]
  },
  {
   "cell_type": "code",
   "execution_count": null,
   "id": "b6aea538-0302-446c-8273-a6655d4da922",
   "metadata": {},
   "outputs": [],
   "source": []
  }
 ],
 "metadata": {
  "kernelspec": {
   "display_name": "UdacityAI",
   "language": "python",
   "name": "udacityai"
  },
  "language_info": {
   "codemirror_mode": {
    "name": "ipython",
    "version": 3
   },
   "file_extension": ".py",
   "mimetype": "text/x-python",
   "name": "python",
   "nbconvert_exporter": "python",
   "pygments_lexer": "ipython3",
   "version": "3.6.13"
  }
 },
 "nbformat": 4,
 "nbformat_minor": 5
}
