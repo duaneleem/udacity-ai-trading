{
 "cells": [
  {
   "cell_type": "markdown",
   "id": "ab6c0c8d-d4bb-4a1f-97c0-d9c40d63b308",
   "metadata": {},
   "source": [
    "# AI for Trading | Module 7 | L21: Feature Importance\n",
    "## 1. Intro\n",
    "https://youtu.be/tNGSsp6vUvY"
   ]
  },
  {
   "cell_type": "markdown",
   "id": "bf0d0627-72b4-45ce-9cb9-09aff740fbaf",
   "metadata": {},
   "source": [
    "## 2. Feature Importance in Finance\n",
    "https://youtu.be/xaXHTDANbnc\n",
    "\n",
    "\n",
    "## 3. \n",
    "\n",
    "\n"
   ]
  }
 ],
 "metadata": {
  "kernelspec": {
   "display_name": "UdacityAI (3.6)",
   "language": "python",
   "name": "udacityai"
  },
  "language_info": {
   "codemirror_mode": {
    "name": "ipython",
    "version": 3
   },
   "file_extension": ".py",
   "mimetype": "text/x-python",
   "name": "python",
   "nbconvert_exporter": "python",
   "pygments_lexer": "ipython3",
   "version": "3.6.15"
  }
 },
 "nbformat": 4,
 "nbformat_minor": 5
}
