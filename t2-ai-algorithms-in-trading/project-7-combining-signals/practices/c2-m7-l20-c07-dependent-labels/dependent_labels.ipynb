{
 "cells": [
  {
   "cell_type": "markdown",
   "metadata": {},
   "source": [
    "## Overlapping Labels\n",
    "\n",
    "In this exercise, we're going to **simulate** the issue we encounter when training machine learning models using targets that are returns that _overlap in time_. The core issue is that these labels are correlated and in fact _redundant_. We'll see what impact this has on our machine learning algorithm, and we'll have the opportunity to implement some of the solutions to the problem that we described in the lectures, and will later encounter in the project."
   ]
  },
  {
   "cell_type": "code",
   "execution_count": 2,
   "metadata": {},
   "outputs": [],
   "source": [
    "import numpy as np\n",
    "import pandas as pd\n",
    "import matplotlib.pyplot as plt\n",
    "from tqdm import tqdm_notebook as tqdm\n",
    "\n",
    "%matplotlib inline\n",
    "plt.style.use('ggplot')\n",
    "plt.rcParams['figure.figsize'] = (14, 8)"
   ]
  },
  {
   "cell_type": "markdown",
   "metadata": {},
   "source": [
    "## Load data\n",
    "Let's load up a small dataset of artificial \"toy\" data that we can play with. The columns in these data are `A`, `B`, `C` and `D`. We will use the `E` column as targets."
   ]
  },
  {
   "cell_type": "code",
   "execution_count": 3,
   "metadata": {},
   "outputs": [],
   "source": [
    "df = pd.read_csv('dependent_labels_dataset.csv', index_col = 0)"
   ]
  },
  {
   "cell_type": "code",
   "execution_count": 4,
   "metadata": {},
   "outputs": [
    {
     "data": {
      "text/html": [
       "<div>\n",
       "<style scoped>\n",
       "    .dataframe tbody tr th:only-of-type {\n",
       "        vertical-align: middle;\n",
       "    }\n",
       "\n",
       "    .dataframe tbody tr th {\n",
       "        vertical-align: top;\n",
       "    }\n",
       "\n",
       "    .dataframe thead th {\n",
       "        text-align: right;\n",
       "    }\n",
       "</style>\n",
       "<table border=\"1\" class=\"dataframe\">\n",
       "  <thead>\n",
       "    <tr style=\"text-align: right;\">\n",
       "      <th></th>\n",
       "      <th>A</th>\n",
       "      <th>B</th>\n",
       "      <th>C</th>\n",
       "      <th>D</th>\n",
       "      <th>E</th>\n",
       "    </tr>\n",
       "    <tr>\n",
       "      <th>t</th>\n",
       "      <th></th>\n",
       "      <th></th>\n",
       "      <th></th>\n",
       "      <th></th>\n",
       "      <th></th>\n",
       "    </tr>\n",
       "  </thead>\n",
       "  <tbody>\n",
       "    <tr>\n",
       "      <th>1.0</th>\n",
       "      <td>0.780067</td>\n",
       "      <td>-1.139543</td>\n",
       "      <td>0.298152</td>\n",
       "      <td>0.412867</td>\n",
       "      <td>3</td>\n",
       "    </tr>\n",
       "    <tr>\n",
       "      <th>2.0</th>\n",
       "      <td>0.521061</td>\n",
       "      <td>-0.680001</td>\n",
       "      <td>0.148710</td>\n",
       "      <td>0.461035</td>\n",
       "      <td>3</td>\n",
       "    </tr>\n",
       "    <tr>\n",
       "      <th>3.0</th>\n",
       "      <td>0.425336</td>\n",
       "      <td>-0.620970</td>\n",
       "      <td>0.099168</td>\n",
       "      <td>0.409145</td>\n",
       "      <td>3</td>\n",
       "    </tr>\n",
       "    <tr>\n",
       "      <th>4.0</th>\n",
       "      <td>0.696707</td>\n",
       "      <td>-0.666513</td>\n",
       "      <td>0.099526</td>\n",
       "      <td>0.477195</td>\n",
       "      <td>3</td>\n",
       "    </tr>\n",
       "    <tr>\n",
       "      <th>5.0</th>\n",
       "      <td>-0.059698</td>\n",
       "      <td>-0.220574</td>\n",
       "      <td>0.249784</td>\n",
       "      <td>0.465186</td>\n",
       "      <td>3</td>\n",
       "    </tr>\n",
       "  </tbody>\n",
       "</table>\n",
       "</div>"
      ],
      "text/plain": [
       "            A         B         C         D  E\n",
       "t                                             \n",
       "1.0  0.780067 -1.139543  0.298152  0.412867  3\n",
       "2.0  0.521061 -0.680001  0.148710  0.461035  3\n",
       "3.0  0.425336 -0.620970  0.099168  0.409145  3\n",
       "4.0  0.696707 -0.666513  0.099526  0.477195  3\n",
       "5.0 -0.059698 -0.220574  0.249784  0.465186  3"
      ]
     },
     "execution_count": 4,
     "metadata": {},
     "output_type": "execute_result"
    }
   ],
   "source": [
    "df.head()"
   ]
  },
  {
   "cell_type": "code",
   "execution_count": 5,
   "metadata": {},
   "outputs": [
    {
     "data": {
      "text/plain": [
       "<matplotlib.axes._subplots.AxesSubplot at 0x7ff42768ceb8>"
      ]
     },
     "execution_count": 5,
     "metadata": {},
     "output_type": "execute_result"
    },
    {
     "data": {
      "image/png": "[encoded data removed]",
      "text/plain": [
       "<matplotlib.figure.Figure at 0x7ff42768c828>"
      ]
     },
     "metadata": {
      "needs_background": "light"
     },
     "output_type": "display_data"
    }
   ],
   "source": [
    "df.plot()"
   ]
  },
  {
   "cell_type": "code",
   "execution_count": 6,
   "metadata": {},
   "outputs": [
    {
     "data": {
      "text/plain": [
       "(1000, 5)"
      ]
     },
     "execution_count": 6,
     "metadata": {},
     "output_type": "execute_result"
    }
   ],
   "source": [
    "df.shape"
   ]
  },
  {
   "cell_type": "code",
   "execution_count": null,
   "metadata": {
    "collapsed": true,
    "jupyter": {
     "outputs_hidden": true
    }
   },
   "outputs": [],
   "source": []
  },
  {
   "cell_type": "markdown",
   "metadata": {},
   "source": [
    "## Create redundancy in the data\n",
    "In order to illustrate the effect of redundancy in the data, we are going to deliberately create an extreme version of this condition by **duplicating each row in the data 5 times**, using the function `create_redundant_data` below."
   ]
  },
  {
   "cell_type": "code",
   "execution_count": 7,
   "metadata": {},
   "outputs": [],
   "source": [
    "num_duplicates = 5"
   ]
  },
  {
   "cell_type": "code",
   "execution_count": 8,
   "metadata": {},
   "outputs": [],
   "source": [
    "def create_redundant_data(df, num_duplicates):\n",
    "    \"\"\"\n",
    "    From the existing dataset, create a new dataset in which every original row is exactly duplicated `num_duplicates` times. \n",
    "    Re-order this new dataset according to the order of the original index.\n",
    "\n",
    "    Parameters\n",
    "    ----------\n",
    "    df : pandas DataFrame\n",
    "        The original dataset.\n",
    "    \n",
    "    Returns\n",
    "    -------\n",
    "    redundant_df : pandas DataFrame\n",
    "        The new, redundant dataset.\n",
    "    \"\"\"\n",
    "    \n",
    "    # TODO: Implement\n",
    "    redundant_df = df.copy()\n",
    "    for i in range(num_duplicates-1):\n",
    "        redundant_df = redundant_df.append(df)\n",
    "    redundant_df.sort_index(axis=0, level='t', inplace=True)\n",
    "    \n",
    "    return redundant_df"
   ]
  },
  {
   "cell_type": "code",
   "execution_count": 9,
   "metadata": {},
   "outputs": [
    {
     "data": {
      "text/plain": [
       "(5000, 5)"
      ]
     },
     "execution_count": 9,
     "metadata": {},
     "output_type": "execute_result"
    }
   ],
   "source": [
    "redundant_df = create_redundant_data(df, num_duplicates)\n",
    "redundant_df.shape"
   ]
  },
  {
   "cell_type": "markdown",
   "metadata": {},
   "source": [
    "Create a function for scoring the model."
   ]
  },
  {
   "cell_type": "code",
   "execution_count": 10,
   "metadata": {},
   "outputs": [],
   "source": [
    "def model_score(m, X_train, y_train, X_valid, y_valid):\n",
    "    '''\n",
    "    Take in the model and training and validation datasets, and return the training accuracy score, validation\n",
    "    accuracy score, and out-of-bag score. Furthermore, print each of these results.\n",
    "    \n",
    "    Parameters\n",
    "    ----------\n",
    "    m : RandomForestClassifier instance\n",
    "        The trained model.\n",
    "        \n",
    "    X_train : pandas DataFrame\n",
    "        The training features.\n",
    "        \n",
    "    y_train : pandas Series\n",
    "        The training labels.\n",
    "        \n",
    "    X_valid : pandas DataFrame\n",
    "        The validation features.\n",
    "        \n",
    "    y_valid : pandas Series\n",
    "        The validation labels.\n",
    "    \n",
    "    Returns\n",
    "    -------\n",
    "    train_score : float\n",
    "        The mean training accuracy.\n",
    "        \n",
    "    valid_score : float\n",
    "        The mean validation accuracy.\n",
    "        \n",
    "    oob_score : float\n",
    "        The out-of-bag score.\n",
    "    \n",
    "    '''\n",
    "\n",
    "    # TODO: Implement\n",
    "    train_score = m.score(X_train, y_train)\n",
    "    valid_score = m.score(X_valid, y_valid)\n",
    "    oob_score = m.oob_score_\n",
    "    print(\"train: %f, oob: %f, valid: %f\" % (train_score, oob_score, valid_score))\n",
    "    \n",
    "    return train_score, valid_score, oob_score"
   ]
  },
  {
   "cell_type": "markdown",
   "metadata": {},
   "source": [
    "## Split data into train, valid and test sets"
   ]
  },
  {
   "cell_type": "code",
   "execution_count": 11,
   "metadata": {},
   "outputs": [],
   "source": [
    "def make_splits(df, features, target, split_valid=0.20, split_test=0.20):\n",
    "    temp = df.dropna()\n",
    "    \n",
    "    X = temp[features].copy()\n",
    "    y = temp[target].copy()\n",
    "\n",
    "    train_end = int(X.shape[0]*(1-split_valid-split_test))\n",
    "    valid_end = train_end + int(X.shape[0]*split_valid)\n",
    "\n",
    "    X_train, X_valid, X_test = X.iloc[:train_end,], X.iloc[(train_end+1):valid_end,], X.iloc[(valid_end+1):]\n",
    "    y_train, y_valid, y_test = y.iloc[:train_end,], y.iloc[(train_end+1):valid_end,], y.iloc[(valid_end+1):]\n",
    "    \n",
    "    return X, X_train, X_valid, X_test, y_train, y_valid, y_test"
   ]
  },
  {
   "cell_type": "code",
   "execution_count": 12,
   "metadata": {},
   "outputs": [],
   "source": [
    "features = ['A', 'B', 'C', 'D']"
   ]
  },
  {
   "cell_type": "code",
   "execution_count": 13,
   "metadata": {},
   "outputs": [],
   "source": [
    "X, X_train, X_valid, X_test, y_train, y_valid, y_test = make_splits(\n",
    "    redundant_df,\n",
    "    features,\n",
    "    'E'\n",
    ")"
   ]
  },
  {
   "cell_type": "markdown",
   "metadata": {},
   "source": [
    "## Train one tree, take a look at it"
   ]
  },
  {
   "cell_type": "code",
   "execution_count": 14,
   "metadata": {},
   "outputs": [],
   "source": [
    "from sklearn.ensemble import RandomForestClassifier"
   ]
  },
  {
   "cell_type": "code",
   "execution_count": 15,
   "metadata": {},
   "outputs": [],
   "source": [
    "def instantiate_and_fit_one_tree(X_train, y_train):\n",
    "    \"\"\"\n",
    "    Instantiate a single decision tree and fit it on the training data. Return the fitted classifier.\n",
    "    \n",
    "    Parameters\n",
    "    ----------\n",
    "    X_train : pandas DataFrame\n",
    "        The training features.\n",
    "        \n",
    "    y_train : pandas Series\n",
    "        The training labels.\n",
    "    \n",
    "    Returns\n",
    "    -------\n",
    "    clf : DecisionTreeClassifier\n",
    "        The fitted classifier instance.\n",
    "    \"\"\"\n",
    "    \n",
    "    # TODO: Implement\n",
    "    clf = RandomForestClassifier(\n",
    "        n_estimators=1,\n",
    "        max_depth=3,\n",
    "        max_features=None,\n",
    "        bootstrap=True,\n",
    "        criterion='entropy',\n",
    "        random_state=0\n",
    "    )\n",
    "    \n",
    "    clf.fit(X_train.values, y_train)\n",
    "    \n",
    "    return clf"
   ]
  },
  {
   "cell_type": "code",
   "execution_count": 16,
   "metadata": {},
   "outputs": [],
   "source": [
    "clf = instantiate_and_fit_one_tree(X_train, y_train)"
   ]
  },
  {
   "cell_type": "code",
   "execution_count": 17,
   "metadata": {},
   "outputs": [
    {
     "name": "stdout",
     "output_type": "stream",
     "text": [
      "Collecting graphviz\n",
      "\u001b[?25l  Downloading https://files.pythonhosted.org/packages/9d/fb/886e8ec7862989afc0c35d15813b6c665fe134cc6027cdde2fa300abe9a2/graphviz-0.19.1-py3-none-any.whl (46kB)\n",
      "\u001b[K    100% |████████████████████████████████| 51kB 4.7MB/s ta 0:00:011\n",
      "\u001b[?25hInstalling collected packages: graphviz\n",
      "Successfully installed graphviz-0.19.1\n"
     ]
    }
   ],
   "source": [
    "! pip install graphviz"
   ]
  },
  {
   "cell_type": "code",
   "execution_count": 18,
   "metadata": {},
   "outputs": [],
   "source": [
    "import graphviz\n",
    "from sklearn.tree import export_graphviz\n",
    "\n",
    "def export_graph(classifier, feature_names):\n",
    "    \"\"\"\n",
    "    First, export the dot data from the fitted classifier. Then, create a graphviz Source object from the dot data,\n",
    "    and return it.\n",
    "\n",
    "    Parameters\n",
    "    ----------\n",
    "    classifier : DecisionTreeClassifier\n",
    "        The single decision tree you created and fit above.\n",
    "    \n",
    "    Returns\n",
    "    -------\n",
    "    graph : graphviz Source object\n",
    "        The Source object created with the graph information.\n",
    "    \"\"\"\n",
    "    \n",
    "    # TODO: Implement\n",
    "    dot_data = export_graphviz(\n",
    "        clf.estimators_[0],\n",
    "        out_file=None,\n",
    "        feature_names=features,\n",
    "        filled=True, rounded=True,\n",
    "        special_characters=True,\n",
    "        rotate=False\n",
    "    )\n",
    "    \n",
    "    graph = graphviz.Source(dot_data)\n",
    "    \n",
    "    return graph\n"
   ]
  },
  {
   "cell_type": "code",
   "execution_count": 19,
   "metadata": {},
   "outputs": [
    {
     "data": {
      "image/svg+xml": [
       "<?xml version=\"1.0\" encoding=\"UTF-8\" standalone=\"no\"?>\n",
       "<!DOCTYPE svg PUBLIC \"-//W3C//DTD SVG 1.1//EN\"\n",
       " \"http://www.w3.org/Graphics/SVG/1.1/DTD/svg11.dtd\">\n",
       "<!-- Generated by graphviz version 2.38.0 (20140413.2041)\n",
       " -->\n",
       "<!-- Title: Tree Pages: 1 -->\n",
       "<svg width=\"1595pt\" height=\"373pt\"\n",
       " viewBox=\"0.00 0.00 1594.50 373.00\" xmlns=\"http://www.w3.org/2000/svg\" xmlns:xlink=\"http://www.w3.org/1999/xlink\">\n",
       "<g id=\"graph0\" class=\"graph\" transform=\"scale(1 1) rotate(0) translate(4 369)\">\n",
       "<title>Tree</title>\n",
       "<polygon fill=\"white\" stroke=\"none\" points=\"-4,4 -4,-369 1590.5,-369 1590.5,4 -4,4\"/>\n",
       "<!-- 0 -->\n",
       "<g id=\"node1\" class=\"node\"><title>0</title>\n",
       "<path fill=\"#47e539\" fill-opacity=\"0.047059\" stroke=\"black\" d=\"M887.5,-365C887.5,-365 690.5,-365 690.5,-365 684.5,-365 678.5,-359 678.5,-353 678.5,-353 678.5,-309 678.5,-309 678.5,-303 684.5,-297 690.5,-297 690.5,-297 887.5,-297 887.5,-297 893.5,-297 899.5,-303 899.5,-309 899.5,-309 899.5,-353 899.5,-353 899.5,-359 893.5,-365 887.5,-365\"/>\n",
       "<text text-anchor=\"start\" x=\"749.5\" y=\"-349.8\" font-family=\"Helvetica,sans-Serif\" font-size=\"14.00\">D ≤ &#45;0.419</text>\n",
       "<text text-anchor=\"start\" x=\"731\" y=\"-334.8\" font-family=\"Helvetica,sans-Serif\" font-size=\"14.00\">entropy = 1.991</text>\n",
       "<text text-anchor=\"start\" x=\"733\" y=\"-319.8\" font-family=\"Helvetica,sans-Serif\" font-size=\"14.00\">samples = 1896</text>\n",
       "<text text-anchor=\"start\" x=\"686.5\" y=\"-304.8\" font-family=\"Helvetica,sans-Serif\" font-size=\"14.00\">value = [768, 875, 658, 699]</text>\n",
       "</g>\n",
       "<!-- 1 -->\n",
       "<g id=\"node2\" class=\"node\"><title>1</title>\n",
       "<path fill=\"#e58139\" fill-opacity=\"0.325490\" stroke=\"black\" d=\"M723,-261C723,-261 535,-261 535,-261 529,-261 523,-255 523,-249 523,-249 523,-205 523,-205 523,-199 529,-193 535,-193 535,-193 723,-193 723,-193 729,-193 735,-199 735,-205 735,-205 735,-249 735,-249 735,-255 729,-261 723,-261\"/>\n",
       "<text text-anchor=\"start\" x=\"590.5\" y=\"-245.8\" font-family=\"Helvetica,sans-Serif\" font-size=\"14.00\">A ≤ &#45;0.853</text>\n",
       "<text text-anchor=\"start\" x=\"571\" y=\"-230.8\" font-family=\"Helvetica,sans-Serif\" font-size=\"14.00\">entropy = 1.518</text>\n",
       "<text text-anchor=\"start\" x=\"577.5\" y=\"-215.8\" font-family=\"Helvetica,sans-Serif\" font-size=\"14.00\">samples = 811</text>\n",
       "<text text-anchor=\"start\" x=\"531\" y=\"-200.8\" font-family=\"Helvetica,sans-Serif\" font-size=\"14.00\">value = [678, 389, 181, 25]</text>\n",
       "</g>\n",
       "<!-- 0&#45;&gt;1 -->\n",
       "<g id=\"edge1\" class=\"edge\"><title>0&#45;&gt;1</title>\n",
       "<path fill=\"none\" stroke=\"black\" d=\"M737.053,-296.884C721.885,-287.214 705.178,-276.563 689.529,-266.587\"/>\n",
       "<polygon fill=\"black\" stroke=\"black\" points=\"691.274,-263.549 680.96,-261.125 687.511,-269.452 691.274,-263.549\"/>\n",
       "<text text-anchor=\"middle\" x=\"686.364\" y=\"-281.834\" font-family=\"Helvetica,sans-Serif\" font-size=\"14.00\">True</text>\n",
       "</g>\n",
       "<!-- 8 -->\n",
       "<g id=\"node9\" class=\"node\"><title>8</title>\n",
       "<path fill=\"#d739e5\" fill-opacity=\"0.152941\" stroke=\"black\" d=\"M1043,-261C1043,-261 855,-261 855,-261 849,-261 843,-255 843,-249 843,-249 843,-205 843,-205 843,-199 849,-193 855,-193 855,-193 1043,-193 1043,-193 1049,-193 1055,-199 1055,-205 1055,-205 1055,-249 1055,-249 1055,-255 1049,-261 1043,-261\"/>\n",
       "<text text-anchor=\"start\" x=\"910.5\" y=\"-245.8\" font-family=\"Helvetica,sans-Serif\" font-size=\"14.00\">A ≤ &#45;0.629</text>\n",
       "<text text-anchor=\"start\" x=\"891\" y=\"-230.8\" font-family=\"Helvetica,sans-Serif\" font-size=\"14.00\">entropy = 1.779</text>\n",
       "<text text-anchor=\"start\" x=\"893\" y=\"-215.8\" font-family=\"Helvetica,sans-Serif\" font-size=\"14.00\">samples = 1085</text>\n",
       "<text text-anchor=\"start\" x=\"851\" y=\"-200.8\" font-family=\"Helvetica,sans-Serif\" font-size=\"14.00\">value = [90, 486, 477, 674]</text>\n",
       "</g>\n",
       "<!-- 0&#45;&gt;8 -->\n",
       "<g id=\"edge8\" class=\"edge\"><title>0&#45;&gt;8</title>\n",
       "<path fill=\"none\" stroke=\"black\" d=\"M840.947,-296.884C856.115,-287.214 872.822,-276.563 888.471,-266.587\"/>\n",
       "<polygon fill=\"black\" stroke=\"black\" points=\"890.489,-269.452 897.04,-261.125 886.726,-263.549 890.489,-269.452\"/>\n",
       "<text text-anchor=\"middle\" x=\"891.636\" y=\"-281.834\" font-family=\"Helvetica,sans-Serif\" font-size=\"14.00\">False</text>\n",
       "</g>\n",
       "<!-- 2 -->\n",
       "<g id=\"node3\" class=\"node\"><title>2</title>\n",
       "<path fill=\"#e58139\" fill-opacity=\"0.917647\" stroke=\"black\" d=\"M349,-157C349,-157 197,-157 197,-157 191,-157 185,-151 185,-145 185,-145 185,-101 185,-101 185,-95 191,-89 197,-89 197,-89 349,-89 349,-89 355,-89 361,-95 361,-101 361,-101 361,-145 361,-145 361,-151 355,-157 349,-157\"/>\n",
       "<text text-anchor=\"start\" x=\"237\" y=\"-141.8\" font-family=\"Helvetica,sans-Serif\" font-size=\"14.00\">B ≤ 0.537</text>\n",
       "<text text-anchor=\"start\" x=\"215\" y=\"-126.8\" font-family=\"Helvetica,sans-Serif\" font-size=\"14.00\">entropy = 0.391</text>\n",
       "<text text-anchor=\"start\" x=\"221.5\" y=\"-111.8\" font-family=\"Helvetica,sans-Serif\" font-size=\"14.00\">samples = 326</text>\n",
       "<text text-anchor=\"start\" x=\"193\" y=\"-96.8\" font-family=\"Helvetica,sans-Serif\" font-size=\"14.00\">value = [481, 40, 0, 0]</text>\n",
       "</g>\n",
       "<!-- 1&#45;&gt;2 -->\n",
       "<g id=\"edge2\" class=\"edge\"><title>1&#45;&gt;2</title>\n",
       "<path fill=\"none\" stroke=\"black\" d=\"M522.67,-195.535C474.564,-181.751 418.072,-165.566 371.004,-152.08\"/>\n",
       "<polygon fill=\"black\" stroke=\"black\" points=\"371.687,-148.635 361.109,-149.245 369.759,-155.364 371.687,-148.635\"/>\n",
       "</g>\n",
       "<!-- 5 -->\n",
       "<g id=\"node6\" class=\"node\"><title>5</title>\n",
       "<path fill=\"#47e539\" fill-opacity=\"0.274510\" stroke=\"black\" d=\"M723,-157C723,-157 535,-157 535,-157 529,-157 523,-151 523,-145 523,-145 523,-101 523,-101 523,-95 529,-89 535,-89 535,-89 723,-89 723,-89 729,-89 735,-95 735,-101 735,-101 735,-145 735,-145 735,-151 729,-157 723,-157\"/>\n",
       "<text text-anchor=\"start\" x=\"590.5\" y=\"-141.8\" font-family=\"Helvetica,sans-Serif\" font-size=\"14.00\">C ≤ &#45;1.713</text>\n",
       "<text text-anchor=\"start\" x=\"571\" y=\"-126.8\" font-family=\"Helvetica,sans-Serif\" font-size=\"14.00\">entropy = 1.678</text>\n",
       "<text text-anchor=\"start\" x=\"577.5\" y=\"-111.8\" font-family=\"Helvetica,sans-Serif\" font-size=\"14.00\">samples = 485</text>\n",
       "<text text-anchor=\"start\" x=\"531\" y=\"-96.8\" font-family=\"Helvetica,sans-Serif\" font-size=\"14.00\">value = [197, 349, 181, 25]</text>\n",
       "</g>\n",
       "<!-- 1&#45;&gt;5 -->\n",
       "<g id=\"edge5\" class=\"edge\"><title>1&#45;&gt;5</title>\n",
       "<path fill=\"none\" stroke=\"black\" d=\"M629,-192.884C629,-184.778 629,-175.982 629,-167.472\"/>\n",
       "<polygon fill=\"black\" stroke=\"black\" points=\"632.5,-167.299 629,-157.299 625.5,-167.299 632.5,-167.299\"/>\n",
       "</g>\n",
       "<!-- 3 -->\n",
       "<g id=\"node4\" class=\"node\"><title>3</title>\n",
       "<path fill=\"#e58139\" fill-opacity=\"0.976471\" stroke=\"black\" d=\"M164,-53C164,-53 12,-53 12,-53 6,-53 1.42109e-14,-47 1.42109e-14,-41 1.42109e-14,-41 1.42109e-14,-12 1.42109e-14,-12 1.42109e-14,-6 6,-0 12,-0 12,-0 164,-0 164,-0 170,-0 176,-6 176,-12 176,-12 176,-41 176,-41 176,-47 170,-53 164,-53\"/>\n",
       "<text text-anchor=\"start\" x=\"30\" y=\"-37.8\" font-family=\"Helvetica,sans-Serif\" font-size=\"14.00\">entropy = 0.167</text>\n",
       "<text text-anchor=\"start\" x=\"36.5\" y=\"-22.8\" font-family=\"Helvetica,sans-Serif\" font-size=\"14.00\">samples = 308</text>\n",
       "<text text-anchor=\"start\" x=\"8\" y=\"-7.8\" font-family=\"Helvetica,sans-Serif\" font-size=\"14.00\">value = [474, 12, 0, 0]</text>\n",
       "</g>\n",
       "<!-- 2&#45;&gt;3 -->\n",
       "<g id=\"edge3\" class=\"edge\"><title>2&#45;&gt;3</title>\n",
       "<path fill=\"none\" stroke=\"black\" d=\"M208.296,-88.9485C188.417,-78.794 166.649,-67.675 147.161,-57.7203\"/>\n",
       "<polygon fill=\"black\" stroke=\"black\" points=\"148.588,-54.5188 138.09,-53.0867 145.404,-60.7526 148.588,-54.5188\"/>\n",
       "</g>\n",
       "<!-- 4 -->\n",
       "<g id=\"node5\" class=\"node\"><title>4</title>\n",
       "<path fill=\"#47e539\" fill-opacity=\"0.749020\" stroke=\"black\" d=\"M340,-53C340,-53 206,-53 206,-53 200,-53 194,-47 194,-41 194,-41 194,-12 194,-12 194,-6 200,-0 206,-0 206,-0 340,-0 340,-0 346,-0 352,-6 352,-12 352,-12 352,-41 352,-41 352,-47 346,-53 340,-53\"/>\n",
       "<text text-anchor=\"start\" x=\"215\" y=\"-37.8\" font-family=\"Helvetica,sans-Serif\" font-size=\"14.00\">entropy = 0.722</text>\n",
       "<text text-anchor=\"start\" x=\"226\" y=\"-22.8\" font-family=\"Helvetica,sans-Serif\" font-size=\"14.00\">samples = 18</text>\n",
       "<text text-anchor=\"start\" x=\"202\" y=\"-7.8\" font-family=\"Helvetica,sans-Serif\" font-size=\"14.00\">value = [7, 28, 0, 0]</text>\n",
       "</g>\n",
       "<!-- 2&#45;&gt;4 -->\n",
       "<g id=\"edge4\" class=\"edge\"><title>2&#45;&gt;4</title>\n",
       "<path fill=\"none\" stroke=\"black\" d=\"M273,-88.9485C273,-80.7153 273,-71.848 273,-63.4814\"/>\n",
       "<polygon fill=\"black\" stroke=\"black\" points=\"276.5,-63.2367 273,-53.2367 269.5,-63.2367 276.5,-63.2367\"/>\n",
       "</g>\n",
       "<!-- 6 -->\n",
       "<g id=\"node7\" class=\"node\"><title>6</title>\n",
       "<path fill=\"#47e539\" fill-opacity=\"0.309804\" stroke=\"black\" d=\"M552,-53C552,-53 382,-53 382,-53 376,-53 370,-47 370,-41 370,-41 370,-12 370,-12 370,-6 376,-0 382,-0 382,-0 552,-0 552,-0 558,-0 564,-6 564,-12 564,-12 564,-41 564,-41 564,-47 558,-53 552,-53\"/>\n",
       "<text text-anchor=\"start\" x=\"409\" y=\"-37.8\" font-family=\"Helvetica,sans-Serif\" font-size=\"14.00\">entropy = 1.144</text>\n",
       "<text text-anchor=\"start\" x=\"415.5\" y=\"-22.8\" font-family=\"Helvetica,sans-Serif\" font-size=\"14.00\">samples = 266</text>\n",
       "<text text-anchor=\"start\" x=\"378\" y=\"-7.8\" font-family=\"Helvetica,sans-Serif\" font-size=\"14.00\">value = [161, 239, 13, 0]</text>\n",
       "</g>\n",
       "<!-- 5&#45;&gt;6 -->\n",
       "<g id=\"edge6\" class=\"edge\"><title>5&#45;&gt;6</title>\n",
       "<path fill=\"none\" stroke=\"black\" d=\"M572.34,-88.9485C555.169,-78.9318 536.389,-67.9767 519.502,-58.1263\"/>\n",
       "<polygon fill=\"black\" stroke=\"black\" points=\"521.264,-55.1022 510.863,-53.0867 517.737,-61.1487 521.264,-55.1022\"/>\n",
       "</g>\n",
       "<!-- 7 -->\n",
       "<g id=\"node8\" class=\"node\"><title>7</title>\n",
       "<path fill=\"#399de5\" fill-opacity=\"0.254902\" stroke=\"black\" d=\"M772.5,-53C772.5,-53 593.5,-53 593.5,-53 587.5,-53 581.5,-47 581.5,-41 581.5,-41 581.5,-12 581.5,-12 581.5,-6 587.5,-0 593.5,-0 593.5,-0 772.5,-0 772.5,-0 778.5,-0 784.5,-6 784.5,-12 784.5,-12 784.5,-41 784.5,-41 784.5,-47 778.5,-53 772.5,-53\"/>\n",
       "<text text-anchor=\"start\" x=\"629.5\" y=\"-37.8\" font-family=\"Helvetica,sans-Serif\" font-size=\"14.00\">entropy = 1.65</text>\n",
       "<text text-anchor=\"start\" x=\"631.5\" y=\"-22.8\" font-family=\"Helvetica,sans-Serif\" font-size=\"14.00\">samples = 219</text>\n",
       "<text text-anchor=\"start\" x=\"589.5\" y=\"-7.8\" font-family=\"Helvetica,sans-Serif\" font-size=\"14.00\">value = [36, 110, 168, 25]</text>\n",
       "</g>\n",
       "<!-- 5&#45;&gt;7 -->\n",
       "<g id=\"edge7\" class=\"edge\"><title>5&#45;&gt;7</title>\n",
       "<path fill=\"none\" stroke=\"black\" d=\"M647.887,-88.9485C652.853,-80.2579 658.222,-70.8608 663.233,-62.0917\"/>\n",
       "<polygon fill=\"black\" stroke=\"black\" points=\"666.371,-63.6557 668.293,-53.2367 660.293,-60.1826 666.371,-63.6557\"/>\n",
       "</g>\n",
       "<!-- 9 -->\n",
       "<g id=\"node10\" class=\"node\"><title>9</title>\n",
       "<path fill=\"#47e539\" fill-opacity=\"0.423529\" stroke=\"black\" d=\"M1043,-157C1043,-157 855,-157 855,-157 849,-157 843,-151 843,-145 843,-145 843,-101 843,-101 843,-95 849,-89 855,-89 855,-89 1043,-89 1043,-89 1049,-89 1055,-95 1055,-101 1055,-101 1055,-145 1055,-145 1055,-151 1049,-157 1043,-157\"/>\n",
       "<text text-anchor=\"start\" x=\"910.5\" y=\"-141.8\" font-family=\"Helvetica,sans-Serif\" font-size=\"14.00\">C ≤ &#45;0.669</text>\n",
       "<text text-anchor=\"start\" x=\"891\" y=\"-126.8\" font-family=\"Helvetica,sans-Serif\" font-size=\"14.00\">entropy = 1.729</text>\n",
       "<text text-anchor=\"start\" x=\"897.5\" y=\"-111.8\" font-family=\"Helvetica,sans-Serif\" font-size=\"14.00\">samples = 437</text>\n",
       "<text text-anchor=\"start\" x=\"851\" y=\"-96.8\" font-family=\"Helvetica,sans-Serif\" font-size=\"14.00\">value = [90, 365, 130, 100]</text>\n",
       "</g>\n",
       "<!-- 8&#45;&gt;9 -->\n",
       "<g id=\"edge9\" class=\"edge\"><title>8&#45;&gt;9</title>\n",
       "<path fill=\"none\" stroke=\"black\" d=\"M949,-192.884C949,-184.778 949,-175.982 949,-167.472\"/>\n",
       "<polygon fill=\"black\" stroke=\"black\" points=\"952.5,-167.299 949,-157.299 945.5,-167.299 952.5,-167.299\"/>\n",
       "</g>\n",
       "<!-- 12 -->\n",
       "<g id=\"node13\" class=\"node\"><title>12</title>\n",
       "<path fill=\"#d739e5\" fill-opacity=\"0.325490\" stroke=\"black\" d=\"M1376.5,-157C1376.5,-157 1197.5,-157 1197.5,-157 1191.5,-157 1185.5,-151 1185.5,-145 1185.5,-145 1185.5,-101 1185.5,-101 1185.5,-95 1191.5,-89 1197.5,-89 1197.5,-89 1376.5,-89 1376.5,-89 1382.5,-89 1388.5,-95 1388.5,-101 1388.5,-101 1388.5,-145 1388.5,-145 1388.5,-151 1382.5,-157 1376.5,-157\"/>\n",
       "<text text-anchor=\"start\" x=\"1248.5\" y=\"-141.8\" font-family=\"Helvetica,sans-Serif\" font-size=\"14.00\">B ≤ &#45;0.894</text>\n",
       "<text text-anchor=\"start\" x=\"1229\" y=\"-126.8\" font-family=\"Helvetica,sans-Serif\" font-size=\"14.00\">entropy = 1.363</text>\n",
       "<text text-anchor=\"start\" x=\"1235.5\" y=\"-111.8\" font-family=\"Helvetica,sans-Serif\" font-size=\"14.00\">samples = 648</text>\n",
       "<text text-anchor=\"start\" x=\"1193.5\" y=\"-96.8\" font-family=\"Helvetica,sans-Serif\" font-size=\"14.00\">value = [0, 121, 347, 574]</text>\n",
       "</g>\n",
       "<!-- 8&#45;&gt;12 -->\n",
       "<g id=\"edge12\" class=\"edge\"><title>8&#45;&gt;12</title>\n",
       "<path fill=\"none\" stroke=\"black\" d=\"M1055.02,-194.006C1093.39,-182.427 1136.82,-169.321 1175.64,-157.607\"/>\n",
       "<polygon fill=\"black\" stroke=\"black\" points=\"1176.84,-160.9 1185.4,-154.66 1174.82,-154.198 1176.84,-160.9\"/>\n",
       "</g>\n",
       "<!-- 10 -->\n",
       "<g id=\"node11\" class=\"node\"><title>10</title>\n",
       "<path fill=\"#47e539\" fill-opacity=\"0.592157\" stroke=\"black\" d=\"M975.5,-53C975.5,-53 814.5,-53 814.5,-53 808.5,-53 802.5,-47 802.5,-41 802.5,-41 802.5,-12 802.5,-12 802.5,-6 808.5,-0 814.5,-0 814.5,-0 975.5,-0 975.5,-0 981.5,-0 987.5,-6 987.5,-12 987.5,-12 987.5,-41 987.5,-41 987.5,-47 981.5,-53 975.5,-53\"/>\n",
       "<text text-anchor=\"start\" x=\"837\" y=\"-37.8\" font-family=\"Helvetica,sans-Serif\" font-size=\"14.00\">entropy = 1.297</text>\n",
       "<text text-anchor=\"start\" x=\"843.5\" y=\"-22.8\" font-family=\"Helvetica,sans-Serif\" font-size=\"14.00\">samples = 355</text>\n",
       "<text text-anchor=\"start\" x=\"810.5\" y=\"-7.8\" font-family=\"Helvetica,sans-Serif\" font-size=\"14.00\">value = [90, 365, 94, 3]</text>\n",
       "</g>\n",
       "<!-- 9&#45;&gt;10 -->\n",
       "<g id=\"edge10\" class=\"edge\"><title>9&#45;&gt;10</title>\n",
       "<path fill=\"none\" stroke=\"black\" d=\"M930.113,-88.9485C925.147,-80.2579 919.778,-70.8608 914.767,-62.0917\"/>\n",
       "<polygon fill=\"black\" stroke=\"black\" points=\"917.707,-60.1826 909.707,-53.2367 911.629,-63.6557 917.707,-60.1826\"/>\n",
       "</g>\n",
       "<!-- 11 -->\n",
       "<g id=\"node12\" class=\"node\"><title>11</title>\n",
       "<path fill=\"#d739e5\" fill-opacity=\"0.627451\" stroke=\"black\" d=\"M1160.5,-53C1160.5,-53 1017.5,-53 1017.5,-53 1011.5,-53 1005.5,-47 1005.5,-41 1005.5,-41 1005.5,-12 1005.5,-12 1005.5,-6 1011.5,-0 1017.5,-0 1017.5,-0 1160.5,-0 1160.5,-0 1166.5,-0 1172.5,-6 1172.5,-12 1172.5,-12 1172.5,-41 1172.5,-41 1172.5,-47 1166.5,-53 1160.5,-53\"/>\n",
       "<text text-anchor=\"start\" x=\"1031\" y=\"-37.8\" font-family=\"Helvetica,sans-Serif\" font-size=\"14.00\">entropy = 0.842</text>\n",
       "<text text-anchor=\"start\" x=\"1042\" y=\"-22.8\" font-family=\"Helvetica,sans-Serif\" font-size=\"14.00\">samples = 82</text>\n",
       "<text text-anchor=\"start\" x=\"1013.5\" y=\"-7.8\" font-family=\"Helvetica,sans-Serif\" font-size=\"14.00\">value = [0, 0, 36, 97]</text>\n",
       "</g>\n",
       "<!-- 9&#45;&gt;11 -->\n",
       "<g id=\"edge11\" class=\"edge\"><title>9&#45;&gt;11</title>\n",
       "<path fill=\"none\" stroke=\"black\" d=\"M997.965,-88.9485C1012.33,-79.2516 1028,-68.6752 1042.23,-59.073\"/>\n",
       "<polygon fill=\"black\" stroke=\"black\" points=\"1044.54,-61.7325 1050.87,-53.2367 1040.62,-55.9305 1044.54,-61.7325\"/>\n",
       "</g>\n",
       "<!-- 13 -->\n",
       "<g id=\"node14\" class=\"node\"><title>13</title>\n",
       "<path fill=\"#399de5\" fill-opacity=\"0.301961\" stroke=\"black\" d=\"M1372,-53C1372,-53 1202,-53 1202,-53 1196,-53 1190,-47 1190,-41 1190,-41 1190,-12 1190,-12 1190,-6 1196,-0 1202,-0 1202,-0 1372,-0 1372,-0 1378,-0 1384,-6 1384,-12 1384,-12 1384,-41 1384,-41 1384,-47 1378,-53 1372,-53\"/>\n",
       "<text text-anchor=\"start\" x=\"1229\" y=\"-37.8\" font-family=\"Helvetica,sans-Serif\" font-size=\"14.00\">entropy = 1.368</text>\n",
       "<text text-anchor=\"start\" x=\"1235.5\" y=\"-22.8\" font-family=\"Helvetica,sans-Serif\" font-size=\"14.00\">samples = 214</text>\n",
       "<text text-anchor=\"start\" x=\"1198\" y=\"-7.8\" font-family=\"Helvetica,sans-Serif\" font-size=\"14.00\">value = [0, 119, 188, 40]</text>\n",
       "</g>\n",
       "<!-- 12&#45;&gt;13 -->\n",
       "<g id=\"edge13\" class=\"edge\"><title>12&#45;&gt;13</title>\n",
       "<path fill=\"none\" stroke=\"black\" d=\"M1287,-88.9485C1287,-80.7153 1287,-71.848 1287,-63.4814\"/>\n",
       "<polygon fill=\"black\" stroke=\"black\" points=\"1290.5,-63.2367 1287,-53.2367 1283.5,-63.2367 1290.5,-63.2367\"/>\n",
       "</g>\n",
       "<!-- 14 -->\n",
       "<g id=\"node15\" class=\"node\"><title>14</title>\n",
       "<path fill=\"#d739e5\" fill-opacity=\"0.698039\" stroke=\"black\" d=\"M1574.5,-53C1574.5,-53 1413.5,-53 1413.5,-53 1407.5,-53 1401.5,-47 1401.5,-41 1401.5,-41 1401.5,-12 1401.5,-12 1401.5,-6 1407.5,-0 1413.5,-0 1413.5,-0 1574.5,-0 1574.5,-0 1580.5,-0 1586.5,-6 1586.5,-12 1586.5,-12 1586.5,-41 1586.5,-41 1586.5,-47 1580.5,-53 1574.5,-53\"/>\n",
       "<text text-anchor=\"start\" x=\"1436\" y=\"-37.8\" font-family=\"Helvetica,sans-Serif\" font-size=\"14.00\">entropy = 0.803</text>\n",
       "<text text-anchor=\"start\" x=\"1442.5\" y=\"-22.8\" font-family=\"Helvetica,sans-Serif\" font-size=\"14.00\">samples = 434</text>\n",
       "<text text-anchor=\"start\" x=\"1409.5\" y=\"-7.8\" font-family=\"Helvetica,sans-Serif\" font-size=\"14.00\">value = [0, 2, 159, 534]</text>\n",
       "</g>\n",
       "<!-- 12&#45;&gt;14 -->\n",
       "<g id=\"edge14\" class=\"edge\"><title>12&#45;&gt;14</title>\n",
       "<path fill=\"none\" stroke=\"black\" d=\"M1359.4,-88.9485C1381.94,-78.6562 1406.66,-67.3729 1428.69,-57.3155\"/>\n",
       "<polygon fill=\"black\" stroke=\"black\" points=\"1430.31,-60.4236 1437.95,-53.0867 1427.4,-54.0558 1430.31,-60.4236\"/>\n",
       "</g>\n",
       "</g>\n",
       "</svg>\n"
      ],
      "text/plain": [
       "<graphviz.sources.Source at 0x7ff458f9c7b8>"
      ]
     },
     "execution_count": 19,
     "metadata": {},
     "output_type": "execute_result"
    }
   ],
   "source": [
    "# display the single decision tree graph in the notebook\n",
    "graph = export_graph(clf, features)\n",
    "graph"
   ]
  },
  {
   "cell_type": "markdown",
   "metadata": {},
   "source": [
    "## Redundant labels\n",
    "Let's see what happens when we train a full random forest on these redundant data."
   ]
  },
  {
   "cell_type": "code",
   "execution_count": 22,
   "metadata": {},
   "outputs": [],
   "source": [
    "def instantiate_and_fit_a_rf(n_estimators, X_train, y_train, min_samples_leaf=5):\n",
    "    \"\"\"\n",
    "    Instantiate a random forest classifier and fit it on the training data. Return the fitted classifier.\n",
    "    Make sure you use bootstrapping and calculate an out-of-bag score. Set `random_state` equal to an integer so that\n",
    "    when you fit the model again you get the same result. \n",
    "    \n",
    "    Parameters\n",
    "    ----------\n",
    "    n_estimators : int\n",
    "        The number of trees.\n",
    "    \n",
    "    X_train : pandas DataFrame\n",
    "        The training features.\n",
    "        \n",
    "    y_train : pandas Series\n",
    "        The training labels.\n",
    "    \n",
    "    Returns\n",
    "    -------\n",
    "    clf : RandomForestClassifier\n",
    "        The fitted classifier instance.\n",
    "    \"\"\"\n",
    "    \n",
    "    # TODO: Implement\n",
    "    clf = RandomForestClassifier(\n",
    "        n_estimators=n_estimators,\n",
    "        max_features='sqrt',\n",
    "        min_samples_leaf=min_samples_leaf,\n",
    "        bootstrap=True,\n",
    "        oob_score=True,\n",
    "        n_jobs=-1,\n",
    "        criterion='entropy',\n",
    "        verbose=0,\n",
    "        random_state=0\n",
    "    )\n",
    "    clf.fit(X_train, y_train)\n",
    "    \n",
    "    return clf"
   ]
  },
  {
   "cell_type": "code",
   "execution_count": 23,
   "metadata": {},
   "outputs": [
    {
     "data": {
      "application/vnd.jupyter.widget-view+json": {
       "model_id": "ce51ddd151994f52bcaa6f1a6927ebd1",
       "version_major": 2,
       "version_minor": 0
      },
      "text/html": [
       "<p>Failed to display Jupyter Widget of type <code>HBox</code>.</p>\n",
       "<p>\n",
       "  If you're reading this message in the Jupyter Notebook or JupyterLab Notebook, it may mean\n",
       "  that the widgets JavaScript is still loading. If this message persists, it\n",
       "  likely means that the widgets JavaScript library is either not installed or\n",
       "  not enabled. See the <a href=\"https://ipywidgets.readthedocs.io/en/stable/user_install.html\">Jupyter\n",
       "  Widgets Documentation</a> for setup instructions.\n",
       "</p>\n",
       "<p>\n",
       "  If you're reading this message in another frontend (for example, a static\n",
       "  rendering on GitHub or <a href=\"https://nbviewer.jupyter.org/\">NBViewer</a>),\n",
       "  it may mean that your frontend doesn't currently support widgets.\n",
       "</p>\n"
      ],
      "text/plain": [
       "HBox(children=(IntProgress(value=0, max=4), HTML(value='')))"
      ]
     },
     "metadata": {},
     "output_type": "display_data"
    },
    {
     "name": "stderr",
     "output_type": "stream",
     "text": [
      "/opt/conda/lib/python3.6/site-packages/sklearn/ensemble/forest.py:453: UserWarning: Some inputs do not have OOB scores. This probably means too few trees were used to compute any reliable oob estimates.\n",
      "  warn(\"Some inputs do not have OOB scores. \"\n",
      "/opt/conda/lib/python3.6/site-packages/sklearn/ensemble/forest.py:458: RuntimeWarning: invalid value encountered in true_divide\n",
      "  predictions[k].sum(axis=1)[:, np.newaxis])\n"
     ]
    },
    {
     "name": "stdout",
     "output_type": "stream",
     "text": [
      "train: 1.000000, oob: 0.975667, valid: 0.664665\n",
      "train: 1.000000, oob: 0.999667, valid: 0.684685\n",
      "train: 1.000000, oob: 0.999333, valid: 0.649650\n",
      "train: 1.000000, oob: 1.000000, valid: 0.664665\n",
      "\n"
     ]
    }
   ],
   "source": [
    "train_score = []\n",
    "valid_score = []\n",
    "oob_score = []\n",
    "tree_sizes = [10, 50, 100, 250]\n",
    "\n",
    "for trees in tqdm(tree_sizes):\n",
    "    clf_red = instantiate_and_fit_a_rf(trees, X_train, y_train)\n",
    "    \n",
    "    tr, va, oob = model_score(clf_red, X_train, y_train, X_valid, y_valid)\n",
    "    train_score.append(tr); valid_score.append(va); oob_score.append(oob)\n"
   ]
  },
  {
   "cell_type": "code",
   "execution_count": 24,
   "metadata": {},
   "outputs": [],
   "source": [
    "def plot_results(tree_sizes, train_score, oob_score, valid_score, title, y_range):\n",
    "    plt.plot(tree_sizes, train_score, 'xb-');\n",
    "    plt.plot(tree_sizes, oob_score, 'xg-');\n",
    "    plt.plot(tree_sizes, valid_score, 'xr-');\n",
    "    plt.title(title);\n",
    "    plt.xlabel('Number of Trees');\n",
    "    plt.ylabel('Accuracy')\n",
    "    plt.legend(['train','oob', 'valid'])\n",
    "    plt.ylim(y_range[0], y_range[1]);"
   ]
  },
  {
   "cell_type": "code",
   "execution_count": 25,
   "metadata": {},
   "outputs": [],
   "source": [
    "y_range = []\n",
    "y_range.append(0.45)\n",
    "y_range.append(1.005)"
   ]
  },
  {
   "cell_type": "code",
   "execution_count": 26,
   "metadata": {},
   "outputs": [
    {
     "data": {
      "image/png": "[encoded data removed]",
      "text/plain": [
       "<matplotlib.figure.Figure at 0x7ff41a37a748>"
      ]
     },
     "metadata": {
      "needs_background": "light"
     },
     "output_type": "display_data"
    }
   ],
   "source": [
    "plot_results(tree_sizes, train_score, oob_score, valid_score, 'Random Forest with Redundant Data (accuracy): train, validation, oob', y_range)"
   ]
  },
  {
   "cell_type": "markdown",
   "metadata": {},
   "source": [
    "What you can see from this run is that the OOB score virtually tracks the training score because the OOB data contains the same information as the training data. The validation score, calculated on unseen data, is much lower."
   ]
  },
  {
   "cell_type": "markdown",
   "metadata": {},
   "source": [
    "## Solution #1: use every 5th row\n",
    "In this section, implement the first solution to the redundancy issue by sub-sampling every 5th row of the data."
   ]
  },
  {
   "cell_type": "code",
   "execution_count": 27,
   "metadata": {},
   "outputs": [],
   "source": [
    "def create_subsampled_dataset(num_duplicates, X_train, y_train):\n",
    "    \"\"\"\n",
    "    Create the sub-sampled dataset according to the first solution proposed to the problem of overlapping labels. \n",
    "    \n",
    "    Parameters\n",
    "    ----------\n",
    "    num_duplicates : int\n",
    "        The number of duplications made earlier.\n",
    "    \n",
    "    X_train : pandas DataFrame\n",
    "        The training features.\n",
    "        \n",
    "    y_train : pandas Series\n",
    "        The training labels.\n",
    "    \n",
    "    Returns\n",
    "    -------\n",
    "    X_train_sub : pandas DataFrame\n",
    "        The training features, subsampled.\n",
    "        \n",
    "    y_train_sub : pandas Series\n",
    "        The training labels, subsampled.\n",
    "    \"\"\"\n",
    "    \n",
    "    # TODO: Implement\n",
    "    X_train_sub = X_train[::5]\n",
    "    y_train_sub = y_train[::5]\n",
    "    \n",
    "    return X_train_sub, y_train_sub"
   ]
  },
  {
   "cell_type": "code",
   "execution_count": 28,
   "metadata": {},
   "outputs": [],
   "source": [
    "X_train_sub, y_train_sub = create_subsampled_dataset(5, X_train, y_train)"
   ]
  },
  {
   "cell_type": "code",
   "execution_count": 29,
   "metadata": {},
   "outputs": [
    {
     "data": {
      "application/vnd.jupyter.widget-view+json": {
       "model_id": "5db2e5a888d94b0295cf166e5ff84357",
       "version_major": 2,
       "version_minor": 0
      },
      "text/html": [
       "<p>Failed to display Jupyter Widget of type <code>HBox</code>.</p>\n",
       "<p>\n",
       "  If you're reading this message in the Jupyter Notebook or JupyterLab Notebook, it may mean\n",
       "  that the widgets JavaScript is still loading. If this message persists, it\n",
       "  likely means that the widgets JavaScript library is either not installed or\n",
       "  not enabled. See the <a href=\"https://ipywidgets.readthedocs.io/en/stable/user_install.html\">Jupyter\n",
       "  Widgets Documentation</a> for setup instructions.\n",
       "</p>\n",
       "<p>\n",
       "  If you're reading this message in another frontend (for example, a static\n",
       "  rendering on GitHub or <a href=\"https://nbviewer.jupyter.org/\">NBViewer</a>),\n",
       "  it may mean that your frontend doesn't currently support widgets.\n",
       "</p>\n"
      ],
      "text/plain": [
       "HBox(children=(IntProgress(value=0, max=4), HTML(value='')))"
      ]
     },
     "metadata": {},
     "output_type": "display_data"
    },
    {
     "name": "stderr",
     "output_type": "stream",
     "text": [
      "/opt/conda/lib/python3.6/site-packages/sklearn/ensemble/forest.py:453: UserWarning: Some inputs do not have OOB scores. This probably means too few trees were used to compute any reliable oob estimates.\n",
      "  warn(\"Some inputs do not have OOB scores. \"\n",
      "/opt/conda/lib/python3.6/site-packages/sklearn/ensemble/forest.py:458: RuntimeWarning: invalid value encountered in true_divide\n",
      "  predictions[k].sum(axis=1)[:, np.newaxis])\n"
     ]
    },
    {
     "name": "stdout",
     "output_type": "stream",
     "text": [
      "train: 0.946667, oob: 0.781667, valid: 0.629630\n",
      "train: 0.965000, oob: 0.835000, valid: 0.659660\n",
      "train: 0.966667, oob: 0.841667, valid: 0.669670\n",
      "train: 0.960000, oob: 0.850000, valid: 0.664665\n",
      "\n"
     ]
    }
   ],
   "source": [
    "train_score = []\n",
    "valid_score = []\n",
    "oob_score = []\n",
    "tree_sizes = [10, 50, 100, 250]\n",
    "\n",
    "for trees in tqdm(tree_sizes):\n",
    "    clf_sub = instantiate_and_fit_a_rf(trees, X_train_sub, y_train_sub)\n",
    "    \n",
    "    tr, va, oob = model_score(clf_sub, X_train_sub, y_train_sub, X_valid, y_valid)\n",
    "    train_score.append(tr); valid_score.append(va); oob_score.append(oob)\n"
   ]
  },
  {
   "cell_type": "code",
   "execution_count": 30,
   "metadata": {},
   "outputs": [
    {
     "data": {
      "image/png": "[encoded data removed]",
      "text/plain": [
       "<matplotlib.figure.Figure at 0x7ff425523e80>"
      ]
     },
     "metadata": {
      "needs_background": "light"
     },
     "output_type": "display_data"
    }
   ],
   "source": [
    "plot_results(tree_sizes, train_score, oob_score, valid_score, 'Random Forest on Redundant Data, with Subsampling (accuracy): train, validation, oob', y_range)"
   ]
  },
  {
   "cell_type": "markdown",
   "metadata": {},
   "source": [
    "In the case of our artificial dataset, this completely removes the redundancy."
   ]
  },
  {
   "cell_type": "markdown",
   "metadata": {},
   "source": [
    "## Solution #2: reduce bag size\n",
    "In this section, implement the second solution we proposed—to use `BaggingClassifier` to randomly draw a smaller fraction of the original dataset's rows when creating each tree's dataset."
   ]
  },
  {
   "cell_type": "code",
   "execution_count": 31,
   "metadata": {},
   "outputs": [],
   "source": [
    "from sklearn.ensemble import BaggingClassifier\n",
    "from sklearn.tree import DecisionTreeClassifier"
   ]
  },
  {
   "cell_type": "code",
   "execution_count": 32,
   "metadata": {},
   "outputs": [],
   "source": [
    "base_clf = DecisionTreeClassifier(\n",
    "    criterion='entropy',\n",
    "    max_features='sqrt',\n",
    "    min_samples_leaf=5\n",
    ")"
   ]
  },
  {
   "cell_type": "code",
   "execution_count": 34,
   "metadata": {},
   "outputs": [],
   "source": [
    "def instantiate_and_fit_a_BaggingClassifier(n_estimators, base_estimator, X_train, y_train, max_samples = 0.2):\n",
    "    \"\"\"\n",
    "    Instantiate a Bagging Classifier and fit it on the training data. Return the fitted classifier.\n",
    "    Make sure you use bootstrapping and calculate an out-of-bag score. Set `random_state` equal to an integer so that\n",
    "    when you fit the model again you get the same result. \n",
    "    \n",
    "    Parameters\n",
    "    ----------\n",
    "    n_estimators : int\n",
    "        The number of trees.\n",
    "        \n",
    "    base_estimator : DecisionTreeClassifier\n",
    "        The base estimator of the BaggingClassifier.\n",
    "        \n",
    "    max_samples : float\n",
    "        The percentage of the number of original rows to draw for each bag.\n",
    "    \n",
    "    X_train : pandas DataFrame\n",
    "        The training features.\n",
    "        \n",
    "    y_train : pandas Series\n",
    "        The training labels.\n",
    "    \n",
    "    Returns\n",
    "    -------\n",
    "    clf : BaggingClassifier\n",
    "        The fitted classifier instance.\n",
    "    \"\"\"\n",
    "    \n",
    "    # TODO: Implement\n",
    "    clf = BaggingClassifier(\n",
    "        base_estimator = base_estimator,\n",
    "        n_estimators = n_estimators,\n",
    "        max_samples = max_samples,\n",
    "        bootstrap = True,\n",
    "        oob_score = True,\n",
    "        n_jobs = -1,\n",
    "        verbose = 0,\n",
    "        random_state = 0\n",
    "    )\n",
    "    \n",
    "    clf.fit(X_train, y_train)\n",
    "    \n",
    "    return clf"
   ]
  },
  {
   "cell_type": "code",
   "execution_count": 35,
   "metadata": {},
   "outputs": [
    {
     "data": {
      "application/vnd.jupyter.widget-view+json": {
       "model_id": "b65d3a2a7a3448ab92f2ffd7fd7f1d33",
       "version_major": 2,
       "version_minor": 0
      },
      "text/html": [
       "<p>Failed to display Jupyter Widget of type <code>HBox</code>.</p>\n",
       "<p>\n",
       "  If you're reading this message in the Jupyter Notebook or JupyterLab Notebook, it may mean\n",
       "  that the widgets JavaScript is still loading. If this message persists, it\n",
       "  likely means that the widgets JavaScript library is either not installed or\n",
       "  not enabled. See the <a href=\"https://ipywidgets.readthedocs.io/en/stable/user_install.html\">Jupyter\n",
       "  Widgets Documentation</a> for setup instructions.\n",
       "</p>\n",
       "<p>\n",
       "  If you're reading this message in another frontend (for example, a static\n",
       "  rendering on GitHub or <a href=\"https://nbviewer.jupyter.org/\">NBViewer</a>),\n",
       "  it may mean that your frontend doesn't currently support widgets.\n",
       "</p>\n"
      ],
      "text/plain": [
       "HBox(children=(IntProgress(value=0, max=4), HTML(value='')))"
      ]
     },
     "metadata": {},
     "output_type": "display_data"
    },
    {
     "name": "stdout",
     "output_type": "stream",
     "text": [
      "train: 0.956667, oob: 0.930333, valid: 0.604605\n",
      "train: 0.970000, oob: 0.959333, valid: 0.659660\n",
      "train: 0.976667, oob: 0.956333, valid: 0.654655\n",
      "train: 0.976667, oob: 0.962333, valid: 0.659660\n",
      "\n"
     ]
    }
   ],
   "source": [
    "train_score = []\n",
    "valid_score = []\n",
    "oob_score = []\n",
    "tree_sizes = [10, 50, 100, 250]\n",
    "\n",
    "for trees in tqdm(tree_sizes):\n",
    "    clf_bag = instantiate_and_fit_a_BaggingClassifier(trees, base_clf, X_train, y_train)\n",
    "    \n",
    "    tr, va, oob = model_score(clf_bag, X_train, y_train, X_valid, y_valid)\n",
    "    train_score.append(tr); valid_score.append(va); oob_score.append(oob)"
   ]
  },
  {
   "cell_type": "code",
   "execution_count": 36,
   "metadata": {},
   "outputs": [
    {
     "data": {
      "image/png": "[encoded data removed]",
      "text/plain": [
       "<matplotlib.figure.Figure at 0x7ff41a238cc0>"
      ]
     },
     "metadata": {
      "needs_background": "light"
     },
     "output_type": "display_data"
    }
   ],
   "source": [
    "plot_results(tree_sizes, train_score, oob_score, valid_score, 'Random Forest on Redundant Data, with Reduced Bag Size (accuracy): train, validation, oob', y_range)"
   ]
  },
  {
   "cell_type": "markdown",
   "metadata": {},
   "source": [
    "As you can see, in the case of this small artificial dataset, this helped but didn't fully resolve the problem. The OOB score still vastly overestimates the validation score."
   ]
  },
  {
   "cell_type": "markdown",
   "metadata": {},
   "source": [
    "## Solution #3: bagged non-overlapping labels\n",
    "Finally, let's look at the last solution we proposed to this problem. We'll do this one for you for this small exercise, but you'll have the opportunity to work on it yourself later. We will fit separate models on each non-redundant subset of data, and then ensemble them together."
   ]
  },
  {
   "cell_type": "code",
   "execution_count": 37,
   "metadata": {},
   "outputs": [],
   "source": [
    "from sklearn.ensemble import VotingClassifier\n",
    "from sklearn.base import clone\n",
    "from sklearn.preprocessing import LabelEncoder\n",
    "from sklearn.utils.validation import has_fit_parameter, check_is_fitted\n",
    "from sklearn.utils.metaestimators import _BaseComposition\n",
    "from sklearn.utils import Bunch"
   ]
  },
  {
   "cell_type": "code",
   "execution_count": 38,
   "metadata": {},
   "outputs": [],
   "source": [
    "class NoOverlapVoter(VotingClassifier):\n",
    "    def __init__(self, base_estimator, overlap_increment=5):\n",
    "        self.est_list = []\n",
    "        for i in range(overlap_increment):\n",
    "            self.est_list.append(('clf'+str(i), clone(base_estimator)))\n",
    "        self.overlap_increment = overlap_increment\n",
    "        super().__init__(\n",
    "            self.est_list,\n",
    "            voting='soft'\n",
    "        )\n",
    "    \n",
    "    @property\n",
    "    def oob_score_(self):\n",
    "        oob = 0\n",
    "        for clf in self.estimators_:\n",
    "            oob = oob + clf.oob_score_\n",
    "        return oob / len(self.estimators_)\n",
    "    \n",
    "    def fit(self, X, y, sample_weight=None):\n",
    "        names, clfs = zip(*self.estimators)\n",
    "        self._validate_names(names)\n",
    "\n",
    "        self.le_ = LabelEncoder().fit(y)\n",
    "        self.classes_ = self.le_.classes_\n",
    "        self.estimators_ = []\n",
    "\n",
    "        transformed_y = self.le_.transform(y)\n",
    "\n",
    "        self.estimators_ = []\n",
    "        for i in range(self.overlap_increment):\n",
    "            self.estimators_.append(\n",
    "                clfs[i].fit(X[i::self.overlap_increment], transformed_y[i::self.overlap_increment])\n",
    "            )\n",
    "        \n",
    "        self.named_estimators_ = Bunch(**dict())\n",
    "        for k, e in zip(self.estimators, self.estimators_):\n",
    "            self.named_estimators_[k[0]] = e\n",
    "        return self"
   ]
  },
  {
   "cell_type": "code",
   "execution_count": 39,
   "metadata": {
    "scrolled": true
   },
   "outputs": [
    {
     "data": {
      "application/vnd.jupyter.widget-view+json": {
       "model_id": "dd4e41d1bd684c5f9aaeee4d5268e624",
       "version_major": 2,
       "version_minor": 0
      },
      "text/html": [
       "<p>Failed to display Jupyter Widget of type <code>HBox</code>.</p>\n",
       "<p>\n",
       "  If you're reading this message in the Jupyter Notebook or JupyterLab Notebook, it may mean\n",
       "  that the widgets JavaScript is still loading. If this message persists, it\n",
       "  likely means that the widgets JavaScript library is either not installed or\n",
       "  not enabled. See the <a href=\"https://ipywidgets.readthedocs.io/en/stable/user_install.html\">Jupyter\n",
       "  Widgets Documentation</a> for setup instructions.\n",
       "</p>\n",
       "<p>\n",
       "  If you're reading this message in another frontend (for example, a static\n",
       "  rendering on GitHub or <a href=\"https://nbviewer.jupyter.org/\">NBViewer</a>),\n",
       "  it may mean that your frontend doesn't currently support widgets.\n",
       "</p>\n"
      ],
      "text/plain": [
       "HBox(children=(IntProgress(value=0, max=4), HTML(value='')))"
      ]
     },
     "metadata": {},
     "output_type": "display_data"
    },
    {
     "name": "stderr",
     "output_type": "stream",
     "text": [
      "/opt/conda/lib/python3.6/site-packages/sklearn/ensemble/forest.py:453: UserWarning: Some inputs do not have OOB scores. This probably means too few trees were used to compute any reliable oob estimates.\n",
      "  warn(\"Some inputs do not have OOB scores. \"\n",
      "/opt/conda/lib/python3.6/site-packages/sklearn/ensemble/forest.py:458: RuntimeWarning: invalid value encountered in true_divide\n",
      "  predictions[k].sum(axis=1)[:, np.newaxis])\n",
      "/opt/conda/lib/python3.6/site-packages/sklearn/ensemble/forest.py:453: UserWarning: Some inputs do not have OOB scores. This probably means too few trees were used to compute any reliable oob estimates.\n",
      "  warn(\"Some inputs do not have OOB scores. \"\n",
      "/opt/conda/lib/python3.6/site-packages/sklearn/ensemble/forest.py:458: RuntimeWarning: invalid value encountered in true_divide\n",
      "  predictions[k].sum(axis=1)[:, np.newaxis])\n",
      "/opt/conda/lib/python3.6/site-packages/sklearn/ensemble/forest.py:453: UserWarning: Some inputs do not have OOB scores. This probably means too few trees were used to compute any reliable oob estimates.\n",
      "  warn(\"Some inputs do not have OOB scores. \"\n",
      "/opt/conda/lib/python3.6/site-packages/sklearn/ensemble/forest.py:458: RuntimeWarning: invalid value encountered in true_divide\n",
      "  predictions[k].sum(axis=1)[:, np.newaxis])\n",
      "/opt/conda/lib/python3.6/site-packages/sklearn/ensemble/forest.py:453: UserWarning: Some inputs do not have OOB scores. This probably means too few trees were used to compute any reliable oob estimates.\n",
      "  warn(\"Some inputs do not have OOB scores. \"\n",
      "/opt/conda/lib/python3.6/site-packages/sklearn/ensemble/forest.py:458: RuntimeWarning: invalid value encountered in true_divide\n",
      "  predictions[k].sum(axis=1)[:, np.newaxis])\n",
      "/opt/conda/lib/python3.6/site-packages/sklearn/ensemble/forest.py:453: UserWarning: Some inputs do not have OOB scores. This probably means too few trees were used to compute any reliable oob estimates.\n",
      "  warn(\"Some inputs do not have OOB scores. \"\n",
      "/opt/conda/lib/python3.6/site-packages/sklearn/ensemble/forest.py:458: RuntimeWarning: invalid value encountered in true_divide\n",
      "  predictions[k].sum(axis=1)[:, np.newaxis])\n"
     ]
    },
    {
     "name": "stdout",
     "output_type": "stream",
     "text": [
      "train: 0.946667, oob: 0.781667, valid: 0.629630\n",
      "train: 0.965000, oob: 0.835000, valid: 0.659660\n",
      "train: 0.966667, oob: 0.841667, valid: 0.669670\n",
      "train: 0.960000, oob: 0.850000, valid: 0.664665\n",
      "\n"
     ]
    }
   ],
   "source": [
    "train_score = []\n",
    "valid_score = []\n",
    "oob_score = []\n",
    "tree_sizes = [10, 50, 100, 250]\n",
    "\n",
    "for trees in tqdm(tree_sizes):\n",
    "    clf = RandomForestClassifier(\n",
    "        n_estimators=trees,\n",
    "        max_features='sqrt',\n",
    "        min_samples_leaf=5,\n",
    "        bootstrap=True,\n",
    "        oob_score=True,\n",
    "        n_jobs=-1,\n",
    "        criterion='entropy',\n",
    "        verbose=0,\n",
    "        random_state=0\n",
    "    )\n",
    "    \n",
    "    clf_nov = NoOverlapVoter(clf)\n",
    "    clf_nov.fit(X_train.reset_index()[['A','B','C','D']], y_train)\n",
    "    t, v, o = model_score(clf_nov, X_train, y_train, X_valid, y_valid)\n",
    "    train_score.append(t); valid_score.append(v); oob_score.append(o)"
   ]
  },
  {
   "cell_type": "code",
   "execution_count": 40,
   "metadata": {},
   "outputs": [
    {
     "data": {
      "image/png": "[encoded data removed]",
      "text/plain": [
       "<matplotlib.figure.Figure at 0x7ff41a175748>"
      ]
     },
     "metadata": {
      "needs_background": "light"
     },
     "output_type": "display_data"
    }
   ],
   "source": [
    "plot_results(tree_sizes, train_score, oob_score, valid_score, 'Random Forest on Redundant Data, with NoOverlapVoter (accuracy): train, validation, oob', y_range)"
   ]
  },
  {
   "cell_type": "markdown",
   "metadata": {},
   "source": [
    "So in the case of this artificial dataset, this method performs as well as the first method, but this makes sense because each of the separate classifiers has the exact same information as the others. Combining them together should not yield much performance enhancement. You can then compare this result to the result that you'll see in the project, when this method is applied to real financial data."
   ]
  },
  {
   "cell_type": "markdown",
   "metadata": {},
   "source": [
    "## Check the performance on test set"
   ]
  },
  {
   "cell_type": "markdown",
   "metadata": {},
   "source": [
    "Finally, let's look at the performance of the third method on the held-out test set. For this, we'll train on all of the previous training and validation data."
   ]
  },
  {
   "cell_type": "code",
   "execution_count": 41,
   "metadata": {},
   "outputs": [],
   "source": [
    "X, X_train, X_valid, X_test, y_train, y_valid, y_test = make_splits(\n",
    "    redundant_df,\n",
    "    features,\n",
    "    'E',\n",
    "    split_valid = 0\n",
    ")"
   ]
  },
  {
   "cell_type": "code",
   "execution_count": 42,
   "metadata": {},
   "outputs": [
    {
     "name": "stdout",
     "output_type": "stream",
     "text": [
      "train: 0.963750, oob: 0.856250, valid: 0.694695\n"
     ]
    }
   ],
   "source": [
    "clf = RandomForestClassifier(\n",
    "        n_estimators=150,\n",
    "        max_features='sqrt',\n",
    "        min_samples_leaf=5,\n",
    "        bootstrap=True,\n",
    "        oob_score=True,\n",
    "        n_jobs=-1,\n",
    "        criterion='entropy',\n",
    "        verbose=False,\n",
    "        random_state=0\n",
    "    )\n",
    "    \n",
    "clf_nov = NoOverlapVoter(clf)\n",
    "clf_nov.fit(X_train.reset_index()[['A','B','C','D']], y_train)\n",
    "t, v, o = model_score(clf_nov, X_train, y_train, X_test, y_test)\n",
    "train_score.append(t); valid_score.append(v); oob_score.append(o)"
   ]
  },
  {
   "cell_type": "markdown",
   "metadata": {},
   "source": [
    "We see that the result on the held-out test set has improved somewhat."
   ]
  },
  {
   "cell_type": "markdown",
   "metadata": {},
   "source": [
    "If you're stuck, check out the [solution notebook](dependent_labels_solution.ipynb)."
   ]
  },
  {
   "cell_type": "code",
   "execution_count": null,
   "metadata": {
    "collapsed": true,
    "jupyter": {
     "outputs_hidden": true
    }
   },
   "outputs": [],
   "source": []
  }
 ],
 "metadata": {
  "kernelspec": {
   "display_name": "UdacityAI (3.6)",
   "language": "python",
   "name": "udacityai"
  },
  "language_info": {
   "codemirror_mode": {
    "name": "ipython",
    "version": 3
   },
   "file_extension": ".py",
   "mimetype": "text/x-python",
   "name": "python",
   "nbconvert_exporter": "python",
   "pygments_lexer": "ipython3",
   "version": "3.6.15"
  }
 },
 "nbformat": 4,
 "nbformat_minor": 4
}
