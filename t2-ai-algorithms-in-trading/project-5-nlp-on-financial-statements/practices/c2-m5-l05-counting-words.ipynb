{
 "cells": [
  {
   "cell_type": "markdown",
   "id": "7f4666ec-d975-45d8-a3a8-e7d606261aaf",
   "metadata": {},
   "source": [
    "# AI for Trading | Module 5 | L05: Counting Words"
   ]
  },
  {
   "cell_type": "markdown",
   "id": "cdc93277-03ab-4179-b0ff-494dac1500ab",
   "metadata": {},
   "source": [
    "Let's implement a simple function that is often used in Natural Language Processing: Counting word frequencies.\n",
    "\n",
    "Consider this passage of text:\n",
    "\n",
    "> As I was waiting, a man came out of a side room, and at a glance I was sure he must be Long John. His left leg was cut off close by the hip, and under the left shoulder he carried a crutch, which he managed with wonderful dexterity, hopping about upon it like a bird. He was very tall and strong, with a face as big as a ham—plain and pale, but intelligent and smiling. Indeed, he seemed in the most cheerful spirits, whistling as he moved about among the tables, with a merry word or a slap on the shoulder for the more favoured of his guests.\n",
    "\n",
    "— Excerpt from Treasure Island, by Robert Louis Stevenson.\n",
    "\n",
    "In the following coding exercise, we have provided code to load the text from a file, call the function ```count_words()``` to obtain word counts (which you need to implement), and print the 10 most common and least common unique words.\n",
    "\n",
    "*Complete the portions marked as TODO to count how many times each unique word occurs in the text.*\n"
   ]
  },
  {
   "cell_type": "code",
   "execution_count": 3,
   "id": "6620765c-9b64-460c-8c73-bb9b35b03d73",
   "metadata": {},
   "outputs": [
    {
     "name": "stdout",
     "output_type": "stream",
     "text": [
      "10 most common words:\n",
      "Word\tCount\n",
      "a\t9\n",
      "he\t6\n",
      "the\t6\n",
      "and\t5\n",
      "as\t4\n",
      "was\t4\n",
      "with\t3\n",
      "i\t2\n",
      "of\t2\n",
      "his\t2\n",
      "\n",
      "10 least common words:\n",
      "Word\tCount\n",
      "tables\t1\n",
      "merry\t1\n",
      "word\t1\n",
      "or\t1\n",
      "slap\t1\n",
      "on\t1\n",
      "for\t1\n",
      "more\t1\n",
      "favoured\t1\n",
      "guests\t1\n"
     ]
    }
   ],
   "source": [
    "\"\"\"Count words.\"\"\"\n",
    "\n",
    "import re\n",
    "from collections import Counter\n",
    "\n",
    "def count_words(text):\n",
    "    \"\"\"Count how many times each unique word occurs in text.\"\"\"\n",
    "    counts = dict()  # dictionary of { <word>: <count> } pairs to return\n",
    "    \n",
    "    # TODO: Convert to lowercase\n",
    "    lower_text = text.lower()\n",
    "    \n",
    "    # TODO: Split text into tokens (words), leaving out punctuation\n",
    "    # (Hint: Use regex to split on non-alphanumeric characters)\n",
    "    split = re.split(\"[ .,!?:;'\\\"\\-]+\", lower_text)\n",
    "    #print(split)\n",
    "    \n",
    "    # TODO: Aggregate word counts using a dictionary\n",
    "    counts = Counter(filter(None, split) )\n",
    "    \n",
    "    return counts\n",
    "\n",
    "\n",
    "def test_run():\n",
    "    with open(\"../data/c2-m5-l05-counting-words.txt\", \"r\") as f:\n",
    "        text = f.read()\n",
    "        counts = count_words(text)\n",
    "        sorted_counts = sorted(counts.items(), key=lambda pair: pair[1], reverse=True)\n",
    "        \n",
    "        print(\"10 most common words:\\nWord\\tCount\")\n",
    "        for word, count in sorted_counts[:10]:\n",
    "            print(\"{}\\t{}\".format(word, count))\n",
    "        \n",
    "        print(\"\\n10 least common words:\\nWord\\tCount\")\n",
    "        for word, count in sorted_counts[-10:]:\n",
    "            print(\"{}\\t{}\".format(word, count))\n",
    "\n",
    "\n",
    "if __name__ == \"__main__\":\n",
    "    test_run()\n"
   ]
  },
  {
   "cell_type": "code",
   "execution_count": null,
   "id": "044ac3e2-a28c-4876-a013-c4bc8f70e4af",
   "metadata": {},
   "outputs": [],
   "source": []
  }
 ],
 "metadata": {
  "kernelspec": {
   "display_name": "UdacityAI",
   "language": "python",
   "name": "udacityai"
  },
  "language_info": {
   "codemirror_mode": {
    "name": "ipython",
    "version": 3
   },
   "file_extension": ".py",
   "mimetype": "text/x-python",
   "name": "python",
   "nbconvert_exporter": "python",
   "pygments_lexer": "ipython3",
   "version": "3.6.13"
  }
 },
 "nbformat": 4,
 "nbformat_minor": 5
}
