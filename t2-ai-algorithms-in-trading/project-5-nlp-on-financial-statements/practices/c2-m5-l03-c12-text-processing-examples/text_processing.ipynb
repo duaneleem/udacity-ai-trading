{
 "cells": [
  {
   "cell_type": "markdown",
   "metadata": {},
   "source": [
    "# Text Processing\n",
    "\n",
    "## Capturing Text Data\n",
    "\n",
    "### Plain Text"
   ]
  },
  {
   "cell_type": "code",
   "execution_count": 1,
   "metadata": {},
   "outputs": [
    {
     "name": "stdout",
     "output_type": "stream",
     "text": [
      "Hieroglyphic writing dates from c. 3000 BC, and is composed of hundreds of symbols. A hieroglyph can represent a word, a sound, or a silent determinative; and the same symbol can serve different purposes in different contexts. Hieroglyphs were a formal script, used on stone monuments and in tombs, that could be as detailed as individual works of art.\n",
      "\n"
     ]
    }
   ],
   "source": [
    "import os\n",
    "\n",
    "# Read in a plain text file\n",
    "with open(os.path.join(\"data\", \"hieroglyph.txt\"), \"r\") as f:\n",
    "    text = f.read()\n",
    "    print(text)"
   ]
  },
  {
   "cell_type": "markdown",
   "metadata": {},
   "source": [
    "### Tabular Data"
   ]
  },
  {
   "cell_type": "code",
   "execution_count": 2,
   "metadata": {
    "scrolled": true
   },
   "outputs": [
    {
     "data": {
      "text/html": [
       "<div>\n",
       "<style scoped>\n",
       "    .dataframe tbody tr th:only-of-type {\n",
       "        vertical-align: middle;\n",
       "    }\n",
       "\n",
       "    .dataframe tbody tr th {\n",
       "        vertical-align: top;\n",
       "    }\n",
       "\n",
       "    .dataframe thead th {\n",
       "        text-align: right;\n",
       "    }\n",
       "</style>\n",
       "<table border=\"1\" class=\"dataframe\">\n",
       "  <thead>\n",
       "    <tr style=\"text-align: right;\">\n",
       "      <th></th>\n",
       "      <th>publisher</th>\n",
       "      <th>title</th>\n",
       "    </tr>\n",
       "  </thead>\n",
       "  <tbody>\n",
       "    <tr>\n",
       "      <th>0</th>\n",
       "      <td>Livemint</td>\n",
       "      <td>fed's charles plosser sees high bar for change...</td>\n",
       "    </tr>\n",
       "    <tr>\n",
       "      <th>1</th>\n",
       "      <td>IFA Magazine</td>\n",
       "      <td>us open: stocks fall after fed official hints ...</td>\n",
       "    </tr>\n",
       "    <tr>\n",
       "      <th>2</th>\n",
       "      <td>IFA Magazine</td>\n",
       "      <td>fed risks falling 'behind the curve', charles ...</td>\n",
       "    </tr>\n",
       "    <tr>\n",
       "      <th>3</th>\n",
       "      <td>Moneynews</td>\n",
       "      <td>fed's plosser: nasty weather has curbed job gr...</td>\n",
       "    </tr>\n",
       "    <tr>\n",
       "      <th>4</th>\n",
       "      <td>NASDAQ</td>\n",
       "      <td>plosser: fed may have to accelerate tapering pace</td>\n",
       "    </tr>\n",
       "  </tbody>\n",
       "</table>\n",
       "</div>"
      ],
      "text/plain": [
       "      publisher                                              title\n",
       "0      Livemint  fed's charles plosser sees high bar for change...\n",
       "1  IFA Magazine  us open: stocks fall after fed official hints ...\n",
       "2  IFA Magazine  fed risks falling 'behind the curve', charles ...\n",
       "3     Moneynews  fed's plosser: nasty weather has curbed job gr...\n",
       "4        NASDAQ  plosser: fed may have to accelerate tapering pace"
      ]
     },
     "execution_count": 2,
     "metadata": {},
     "output_type": "execute_result"
    }
   ],
   "source": [
    "import pandas as pd\n",
    "\n",
    "# Extract text column from a dataframe\n",
    "df = pd.read_csv(os.path.join(\"data\", \"news.csv\"))\n",
    "df.head()[['publisher', 'title']]\n",
    "\n",
    "# Convert text column to lowercase\n",
    "df['title'] = df['title'].str.lower()\n",
    "df.head()[['publisher', 'title']]"
   ]
  },
  {
   "cell_type": "markdown",
   "metadata": {},
   "source": [
    "### Online Resource"
   ]
  },
  {
   "cell_type": "code",
   "execution_count": 5,
   "metadata": {
    "scrolled": true
   },
   "outputs": [
    {
     "name": "stderr",
     "output_type": "stream",
     "text": [
      "/opt/conda/lib/python3.6/site-packages/urllib3/connectionpool.py:858: InsecureRequestWarning: Unverified HTTPS request is being made. Adding certificate verification is strongly advised. See: https://urllib3.readthedocs.io/en/latest/advanced-usage.html#ssl-warnings\n",
      "  InsecureRequestWarning)\n"
     ]
    },
    {
     "name": "stdout",
     "output_type": "stream",
     "text": [
      "{\n",
      "    \"success\": {\n",
      "        \"total\": 1\n",
      "    },\n",
      "    \"contents\": {\n",
      "        \"quotes\": [\n",
      "            {\n",
      "                \"quote\": \"It isn't what you have, or who you are, or where you are, or what you are doing that makes you happy or unhappy. It is what you think about.\",\n",
      "                \"length\": \"140\",\n",
      "                \"author\": \"Dale Carnegie\",\n",
      "                \"tags\": [\n",
      "                    \"happiness\",\n",
      "                    \"inspire\",\n",
      "                    \"thought\"\n",
      "                ],\n",
      "                \"category\": \"inspire\",\n",
      "                \"language\": \"en\",\n",
      "                \"date\": \"2021-10-10\",\n",
      "                \"permalink\": \"https://theysaidso.com/quote/dale-carnegie-it-isnt-what-you-have-or-who-you-are-or-where-you-are-or-what-you\",\n",
      "                \"id\": \"2CNTJ3GR8Gx7Bi6UA0qtqgeF\",\n",
      "                \"background\": \"https://theysaidso.com/img/qod/qod-inspire.jpg\",\n",
      "                \"title\": \"Inspiring Quote of the day\"\n",
      "            }\n",
      "        ]\n",
      "    },\n",
      "    \"baseurl\": \"https://theysaidso.com\",\n",
      "    \"copyright\": {\n",
      "        \"year\": 2023,\n",
      "        \"url\": \"https://theysaidso.com\"\n",
      "    }\n",
      "}\n",
      "It isn't what you have, or who you are, or where you are, or what you are doing that makes you happy or unhappy. It is what you think about. \n",
      "-- Dale Carnegie\n"
     ]
    }
   ],
   "source": [
    "import requests\n",
    "import json\n",
    "\n",
    "# Fetch data from a REST API\n",
    "r = requests.get(\n",
    "    \"https://quotes.rest/qod.json\", verify=False)\n",
    "res = r.json()\n",
    "print(json.dumps(res, indent=4))\n",
    "\n",
    "# Extract relevant object and field\n",
    "q = res[\"contents\"][\"quotes\"][0]\n",
    "print(q[\"quote\"], \"\\n--\", q[\"author\"])"
   ]
  },
  {
   "cell_type": "markdown",
   "metadata": {},
   "source": [
    "## Cleaning"
   ]
  },
  {
   "cell_type": "code",
   "execution_count": 6,
   "metadata": {
    "scrolled": true
   },
   "outputs": [
    {
     "name": "stdout",
     "output_type": "stream",
     "text": [
      "<html lang=\"en\" op=\"news\"><head><meta name=\"referrer\" content=\"origin\"><meta name=\"viewport\" content=\"width=device-width, initial-scale=1.0\"><link rel=\"stylesheet\" type=\"text/css\" href=\"news.css?uwxCMEKQCdb9AkfLO0OS\">\n",
      "        <link rel=\"shortcut icon\" href=\"favicon.ico\">\n",
      "          <link rel=\"alternate\" type=\"application/rss+xml\" title=\"RSS\" href=\"rss\">\n",
      "        <title>Hacker News</title></head><body><center><table id=\"hnmain\" border=\"0\" cellpadding=\"0\" cellspacing=\"0\" width=\"85%\" bgcolor=\"#f6f6ef\">\n",
      "        <tr><td bgcolor=\"#ff6600\"><table border=\"0\" cellpadding=\"0\" cellspacing=\"0\" width=\"100%\" style=\"padding:2px\"><tr><td style=\"width:18px;padding-right:4px\"><a href=\"https://news.ycombinator.com\"><img src=\"y18.gif\" width=\"18\" height=\"18\" style=\"border:1px white solid;\"></a></td>\n",
      "                  <td style=\"line-height:12pt; height:10px;\"><span class=\"pagetop\"><b class=\"hnname\"><a href=\"news\">Hacker News</a></b>\n",
      "              <a href=\"newest\">new</a> | <a href=\"front\">past</a> | <a href=\"newcomments\">comments</a> | <a href=\"ask\">ask</a> | <a href=\"show\">show</a> | <a href=\"jobs\">jobs</a> | <a href=\"submit\">submit</a>            </span></td><td style=\"text-align:right;padding-right:4px;\"><span class=\"pagetop\">\n",
      "                              <a href=\"login?goto=news\">login</a>\n",
      "                          </span></td>\n",
      "              </tr></table></td></tr>\n",
      "<tr id=\"pagespace\" title=\"\" style=\"height:10px\"></tr><tr><td><table border=\"0\" cellpadding=\"0\" cellspacing=\"0\" class=\"itemlist\">\n",
      "              <tr class='athing' id='28814352'>\n",
      "      <td align=\"right\" valign=\"top\" class=\"title\"><span class=\"rank\">1.</span></td>      <td valign=\"top\" class=\"votelinks\"><center><a id='up_28814352' href='vote?id=28814352&amp;how=up&amp;goto=news'><div class='votearrow' title='upvote'></div></a></center></td><td class=\"title\"><a href=\"https://news.ycombinator.com/front?day=2006-10-09\" class=\"storylink\">HN 15 Years ago</a><span class=\"sitebit comhead\"> (<a href=\"from?site=ycombinator.com\"><span class=\"sitestr\">ycombinator.com</span></a>)</span></td></tr><tr><td colspan=\"2\"></td><td class=\"subtext\">\n",
      "        <span class=\"score\" id=\"score_28814352\">315 points</span> by <a href=\"user?id=agustif\" class=\"hnuser\">agustif</a> <span class=\"age\" title=\"2021-10-09T23:41:54\"><a href=\"item?id=28814352\">7 hours ago</a></span> <span id=\"unv_28814352\"></span> | <a href=\"hide?id=28814352&amp;goto=news\">hide</a> | <a href=\"item?id=28814352\">91&nbsp;comments</a>              </td></tr>\n",
      "      <tr class=\"spacer\" style=\"height:5px\"></tr>\n",
      "                <tr class='athing' id='28815502'>\n",
      "      <td align=\"right\" valign=\"top\" class=\"title\"><span class=\"rank\">2.</span></td>      <td valign=\"top\" class=\"votelinks\"><center><a id='up_28815502' href='vote?id=28815502&amp;how=up&amp;goto=news'><div class='votearrow' title='upvote'></div></a></center></td><td class=\"title\"><a href=\"https://www.electrospaces.net/2014/11/incenser-or-how-nsa-and-gchq-are.html\" class=\"storylink\">Incenser, or how NSA and GCHQ are tapping internet cables (2014)</a><span class=\"sitebit comhead\"> (<a href=\"from?site=electrospaces.net\"><span class=\"sitestr\">electrospaces.net</span></a>)</span></td></tr><tr><td colspan=\"2\"></td><td class=\"subtext\">\n",
      "        <span class=\"score\" id=\"score_28815502\">61 points</span> by <a href=\"user?id=intunderflow\" class=\"hnuser\">intunderflow</a> <span class=\"age\" title=\"2021-10-10T03:28:19\"><a href=\"item?id=28815502\">3 hours ago</a></span> <span id=\"unv_28815502\"></span> | <a href=\"hide?id=28815502&amp;goto=news\">hide</a> | <a href=\"item?id=28815502\">5&nbsp;comments</a>              </td></tr>\n",
      "      <tr class=\"spacer\" style=\"height:5px\"></tr>\n",
      "                <tr class='athing' id='28814438'>\n",
      "      <td align=\"right\" valign=\"top\" class=\"title\"><span class=\"rank\">3.</span></td>      <td valign=\"top\" class=\"votelinks\"><center><a id='up_28814438' href='vote?id=28814438&amp;how=up&amp;goto=news'><div class='votearrow' title='upvote'></div></a></center></td><td class=\"title\"><a href=\"https://www.aerzteblatt.de/nachrichten/127272/Blaues-Licht-von-Monitoren-laut-Fachgesellschaft-keine-Gefahr-fuer-Augen-oder-Schlaf\" class=\"storylink\">Blue light from monitors no danger to eyes or sleep</a><span class=\"sitebit comhead\"> (<a href=\"from?site=aerzteblatt.de\"><span class=\"sitestr\">aerzteblatt.de</span></a>)</span></td></tr><tr><td colspan=\"2\"></td><td class=\"subtext\">\n",
      "        <span class=\"score\" id=\"score_28814438\">203 points</span> by <a href=\"user?id=mahathu\" class=\"hnuser\">mahathu</a> <span class=\"age\" title=\"2021-10-09T23:56:49\"><a href=\"item?id=28814438\">7 hours ago</a></span> <span id=\"unv_28814438\"></span> | <a href=\"hide?id=28814438&amp;goto=news\">hide</a> | <a href=\"item?id=28814438\">103&nbsp;comments</a>              </td></tr>\n",
      "      <tr class=\"spacer\" style=\"height:5px\"></tr>\n",
      "                <tr class='athing' id='28814469'>\n",
      "      <td align=\"right\" valign=\"top\" class=\"title\"><span class=\"rank\">4.</span></td>      <td valign=\"top\" class=\"votelinks\"><center><a id='up_28814469' href='vote?id=28814469&amp;how=up&amp;goto=news'><div class='votearrow' title='upvote'></div></a></center></td><td class=\"title\"><a href=\"https://evanhatch.medium.com/len-sassaman-and-satoshi-e483c85c2b10\" class=\"storylink\">Len Sassaman and Satoshi: A cypherpunk history</a><span class=\"sitebit comhead\"> (<a href=\"from?site=evanhatch.medium.com\"><span class=\"sitestr\">evanhatch.medium.com</span></a>)</span></td></tr><tr><td colspan=\"2\"></td><td class=\"subtext\">\n",
      "        <span class=\"score\" id=\"score_28814469\">171 points</span> by <a href=\"user?id=anonporridge\" class=\"hnuser\">anonporridge</a> <span class=\"age\" title=\"2021-10-10T00:01:10\"><a href=\"item?id=28814469\">6 hours ago</a></span> <span id=\"unv_28814469\"></span> | <a href=\"hide?id=28814469&amp;goto=news\">hide</a> | <a href=\"item?id=28814469\">95&nbsp;comments</a>              </td></tr>\n",
      "      <tr class=\"spacer\" style=\"height:5px\"></tr>\n",
      "                <tr class='athing' id='28815747'>\n",
      "      <td align=\"right\" valign=\"top\" class=\"title\"><span class=\"rank\">5.</span></td>      <td valign=\"top\" class=\"votelinks\"><center><a id='up_28815747' href='vote?id=28815747&amp;how=up&amp;goto=news'><div class='votearrow' title='upvote'></div></a></center></td><td class=\"title\"><a href=\"https://www.waterfox.net/\" class=\"storylink\">Waterfox</a><span class=\"sitebit comhead\"> (<a href=\"from?site=waterfox.net\"><span class=\"sitestr\">waterfox.net</span></a>)</span></td></tr><tr><td colspan=\"2\"></td><td class=\"subtext\">\n",
      "        <span class=\"score\" id=\"score_28815747\">28 points</span> by <a href=\"user?id=isaac21259\" class=\"hnuser\">isaac21259</a> <span class=\"age\" title=\"2021-10-10T04:27:24\"><a href=\"item?id=28815747\">2 hours ago</a></span> <span id=\"unv_28815747\"></span> | <a href=\"hide?id=28815747&amp;goto=news\">hide</a> | <a href=\"item?id=28815747\">17&nbsp;comments</a>              </td></tr>\n",
      "      <tr class=\"spacer\" style=\"height:5px\"></tr>\n",
      "                <tr class='athing' id='28812403'>\n",
      "      <td align=\"right\" valign=\"top\" class=\"title\"><span class=\"rank\">6.</span></td>      <td valign=\"top\" class=\"votelinks\"><center><a id='up_28812403' href='vote?id=28812403&amp;how=up&amp;goto=news'><div class='votearrow' title='upvote'></div></a></center></td><td class=\"title\"><a href=\"https://www.scummvm.org/news/20211009/\" class=\"storylink\">ScummVM 2.5 “Twenty years ago today”</a><span class=\"sitebit comhead\"> (<a href=\"from?site=scummvm.org\"><span class=\"sitestr\">scummvm.org</span></a>)</span></td></tr><tr><td colspan=\"2\"></td><td class=\"subtext\">\n",
      "        <span class=\"score\" id=\"score_28812403\">250 points</span> by <a href=\"user?id=galapago\" class=\"hnuser\">galapago</a> <span class=\"age\" title=\"2021-10-09T19:12:44\"><a href=\"item?id=28812403\">11 hours ago</a></span> <span id=\"unv_28812403\"></span> | <a href=\"hide?id=28812403&amp;goto=news\">hide</a> | <a href=\"item?id=28812403\">32&nbsp;comments</a>              </td></tr>\n",
      "      <tr class=\"spacer\" style=\"height:5px\"></tr>\n",
      "                <tr class='athing' id='28815710'>\n",
      "      <td align=\"right\" valign=\"top\" class=\"title\"><span class=\"rank\">7.</span></td>      <td valign=\"top\" class=\"votelinks\"><center><a id='up_28815710' href='vote?id=28815710&amp;how=up&amp;goto=news'><div class='votearrow' title='upvote'></div></a></center></td><td class=\"title\"><a href=\"https://www.cbc.ca/news/health/canada-vaccine-effectiveness-data-delayed-doses-mixing-matching-covid-19-vaccines-1.6205993\" class=\"storylink\">Canada's 'gamble' on delaying, mixing and matching Covid-19 vaccines paid off</a><span class=\"sitebit comhead\"> (<a href=\"from?site=cbc.ca\"><span class=\"sitestr\">cbc.ca</span></a>)</span></td></tr><tr><td colspan=\"2\"></td><td class=\"subtext\">\n",
      "        <span class=\"score\" id=\"score_28815710\">47 points</span> by <a href=\"user?id=colinprince\" class=\"hnuser\">colinprince</a> <span class=\"age\" title=\"2021-10-10T04:17:14\"><a href=\"item?id=28815710\">2 hours ago</a></span> <span id=\"unv_28815710\"></span> | <a href=\"hide?id=28815710&amp;goto=news\">hide</a> | <a href=\"item?id=28815710\">32&nbsp;comments</a>              </td></tr>\n",
      "      <tr class=\"spacer\" style=\"height:5px\"></tr>\n",
      "                <tr class='athing' id='28814566'>\n",
      "      <td align=\"right\" valign=\"top\" class=\"title\"><span class=\"rank\">8.</span></td>      <td valign=\"top\" class=\"votelinks\"><center><a id='up_28814566' href='vote?id=28814566&amp;how=up&amp;goto=news'><div class='votearrow' title='upvote'></div></a></center></td><td class=\"title\"><a href=\"https://www.obdev.at/products/vusb/index.html\" class=\"storylink\">V-USB – A Firmware-Only USB Driver for Atmel AVR Microcontrollers</a><span class=\"sitebit comhead\"> (<a href=\"from?site=obdev.at\"><span class=\"sitestr\">obdev.at</span></a>)</span></td></tr><tr><td colspan=\"2\"></td><td class=\"subtext\">\n",
      "        <span class=\"score\" id=\"score_28814566\">78 points</span> by <a href=\"user?id=colinprince\" class=\"hnuser\">colinprince</a> <span class=\"age\" title=\"2021-10-10T00:16:17\"><a href=\"item?id=28814566\">6 hours ago</a></span> <span id=\"unv_28814566\"></span> | <a href=\"hide?id=28814566&amp;goto=news\">hide</a> | <a href=\"item?id=28814566\">16&nbsp;comments</a>              </td></tr>\n",
      "      <tr class=\"spacer\" style=\"height:5px\"></tr>\n",
      "                <tr class='athing' id='28815724'>\n",
      "      <td align=\"right\" valign=\"top\" class=\"title\"><span class=\"rank\">9.</span></td>      <td valign=\"top\" class=\"votelinks\"><center><a id='up_28815724' href='vote?id=28815724&amp;how=up&amp;goto=news'><div class='votearrow' title='upvote'></div></a></center></td><td class=\"title\"><a href=\"https://github.com/fragglet/yoctolisp/blob/master/yoctolisp.md\" class=\"storylink\">Lisp in a Weekend</a><span class=\"sitebit comhead\"> (<a href=\"from?site=github.com/fragglet\"><span class=\"sitestr\">github.com/fragglet</span></a>)</span></td></tr><tr><td colspan=\"2\"></td><td class=\"subtext\">\n",
      "        <span class=\"score\" id=\"score_28815724\">13 points</span> by <a href=\"user?id=kelseyfrog\" class=\"hnuser\">kelseyfrog</a> <span class=\"age\" title=\"2021-10-10T04:20:08\"><a href=\"item?id=28815724\">2 hours ago</a></span> <span id=\"unv_28815724\"></span> | <a href=\"hide?id=28815724&amp;goto=news\">hide</a> | <a href=\"item?id=28815724\">discuss</a>              </td></tr>\n",
      "      <tr class=\"spacer\" style=\"height:5px\"></tr>\n",
      "                <tr class='athing' id='28815108'>\n",
      "      <td align=\"right\" valign=\"top\" class=\"title\"><span class=\"rank\">10.</span></td>      <td valign=\"top\" class=\"votelinks\"><center><a id='up_28815108' href='vote?id=28815108&amp;how=up&amp;goto=news'><div class='votearrow' title='upvote'></div></a></center></td><td class=\"title\"><a href=\"https://tinyprinter.club/\" class=\"storylink\">Tinyprinter.club</a><span class=\"sitebit comhead\"> (<a href=\"from?site=tinyprinter.club\"><span class=\"sitestr\">tinyprinter.club</span></a>)</span></td></tr><tr><td colspan=\"2\"></td><td class=\"subtext\">\n",
      "        <span class=\"score\" id=\"score_28815108\">43 points</span> by <a href=\"user?id=lifthrasiir\" class=\"hnuser\">lifthrasiir</a> <span class=\"age\" title=\"2021-10-10T01:55:40\"><a href=\"item?id=28815108\">5 hours ago</a></span> <span id=\"unv_28815108\"></span> | <a href=\"hide?id=28815108&amp;goto=news\">hide</a> | <a href=\"item?id=28815108\">10&nbsp;comments</a>              </td></tr>\n",
      "      <tr class=\"spacer\" style=\"height:5px\"></tr>\n",
      "                <tr class='athing' id='28800943'>\n",
      "      <td align=\"right\" valign=\"top\" class=\"title\"><span class=\"rank\">11.</span></td>      <td valign=\"top\" class=\"votelinks\"><center><a id='up_28800943' href='vote?id=28800943&amp;how=up&amp;goto=news'><div class='votearrow' title='upvote'></div></a></center></td><td class=\"title\"><a href=\"https://www.youtube.com/playlist?list=PL-i3KPjyWoghwa9ZNAfiKQ-1HGToHn9EJ\" class=\"storylink\">Amiga 68000 Hardware Assembly Programming [video]</a><span class=\"sitebit comhead\"> (<a href=\"from?site=youtube.com\"><span class=\"sitestr\">youtube.com</span></a>)</span></td></tr><tr><td colspan=\"2\"></td><td class=\"subtext\">\n",
      "        <span class=\"score\" id=\"score_28800943\">20 points</span> by <a href=\"user?id=doener\" class=\"hnuser\">doener</a> <span class=\"age\" title=\"2021-10-08T16:16:13\"><a href=\"item?id=28800943\">3 hours ago</a></span> <span id=\"unv_28800943\"></span> | <a href=\"hide?id=28800943&amp;goto=news\">hide</a> | <a href=\"item?id=28800943\">discuss</a>              </td></tr>\n",
      "      <tr class=\"spacer\" style=\"height:5px\"></tr>\n",
      "                <tr class='athing' id='28800743'>\n",
      "      <td align=\"right\" valign=\"top\" class=\"title\"><span class=\"rank\">12.</span></td>      <td valign=\"top\" class=\"votelinks\"><center><a id='up_28800743' href='vote?id=28800743&amp;how=up&amp;goto=news'><div class='votearrow' title='upvote'></div></a></center></td><td class=\"title\"><a href=\"https://www.cbc.ca/news/canada/nova-scotia/seal-camera-lost-at-sea-retrieved-offshore-nova-scotia-1.6204068\" class=\"storylink\">Seal-mounted camera recovered after 3 years on ocean floor yields hours of video</a><span class=\"sitebit comhead\"> (<a href=\"from?site=cbc.ca\"><span class=\"sitestr\">cbc.ca</span></a>)</span></td></tr><tr><td colspan=\"2\"></td><td class=\"subtext\">\n",
      "        <span class=\"score\" id=\"score_28800743\">114 points</span> by <a href=\"user?id=curmudgeon22\" class=\"hnuser\">curmudgeon22</a> <span class=\"age\" title=\"2021-10-08T16:01:33\"><a href=\"item?id=28800743\">9 hours ago</a></span> <span id=\"unv_28800743\"></span> | <a href=\"hide?id=28800743&amp;goto=news\">hide</a> | <a href=\"item?id=28800743\">37&nbsp;comments</a>              </td></tr>\n",
      "      <tr class=\"spacer\" style=\"height:5px\"></tr>\n",
      "                <tr class='athing' id='28800818'>\n",
      "      <td align=\"right\" valign=\"top\" class=\"title\"><span class=\"rank\">13.</span></td>      <td valign=\"top\" class=\"votelinks\"><center><a id='up_28800818' href='vote?id=28800818&amp;how=up&amp;goto=news'><div class='votearrow' title='upvote'></div></a></center></td><td class=\"title\"><a href=\"https://thenewstack.io/web3-architecture-and-how-it-compares-to-traditional-web-apps/\" class=\"storylink\">Web3 Architecture and How It Compares to Traditional Web Apps</a><span class=\"sitebit comhead\"> (<a href=\"from?site=thenewstack.io\"><span class=\"sitestr\">thenewstack.io</span></a>)</span></td></tr><tr><td colspan=\"2\"></td><td class=\"subtext\">\n",
      "        <span class=\"score\" id=\"score_28800818\">52 points</span> by <a href=\"user?id=kiyanwang\" class=\"hnuser\">kiyanwang</a> <span class=\"age\" title=\"2021-10-08T16:06:54\"><a href=\"item?id=28800818\">4 hours ago</a></span> <span id=\"unv_28800818\"></span> | <a href=\"hide?id=28800818&amp;goto=news\">hide</a> | <a href=\"item?id=28800818\">21&nbsp;comments</a>              </td></tr>\n",
      "      <tr class=\"spacer\" style=\"height:5px\"></tr>\n",
      "                <tr class='athing' id='28801507'>\n",
      "      <td align=\"right\" valign=\"top\" class=\"title\"><span class=\"rank\">14.</span></td>      <td valign=\"top\" class=\"votelinks\"><center><a id='up_28801507' href='vote?id=28801507&amp;how=up&amp;goto=news'><div class='votearrow' title='upvote'></div></a></center></td><td class=\"title\"><a href=\"https://www.reddit.com/r/SM64PC/comments/q3nm9f/sm64_has_been_ported_to_ios/\" class=\"storylink\">Super Mario 64 has been ported to iOS</a><span class=\"sitebit comhead\"> (<a href=\"from?site=reddit.com\"><span class=\"sitestr\">reddit.com</span></a>)</span></td></tr><tr><td colspan=\"2\"></td><td class=\"subtext\">\n",
      "        <span class=\"score\" id=\"score_28801507\">202 points</span> by <a href=\"user?id=codetrotter\" class=\"hnuser\">codetrotter</a> <span class=\"age\" title=\"2021-10-08T17:08:35\"><a href=\"item?id=28801507\">11 hours ago</a></span> <span id=\"unv_28801507\"></span> | <a href=\"hide?id=28801507&amp;goto=news\">hide</a> | <a href=\"item?id=28801507\">124&nbsp;comments</a>              </td></tr>\n",
      "      <tr class=\"spacer\" style=\"height:5px\"></tr>\n",
      "                <tr class='athing' id='28815032'>\n",
      "      <td align=\"right\" valign=\"top\" class=\"title\"><span class=\"rank\">15.</span></td>      <td valign=\"top\" class=\"votelinks\"><center><a id='up_28815032' href='vote?id=28815032&amp;how=up&amp;goto=news'><div class='votearrow' title='upvote'></div></a></center></td><td class=\"title\"><a href=\"https://george.mand.is/2021/10/facebook-recruiter-correspondence/\" class=\"storylink\">Facebook Recruiter Correspondence</a><span class=\"sitebit comhead\"> (<a href=\"from?site=mand.is\"><span class=\"sitestr\">mand.is</span></a>)</span></td></tr><tr><td colspan=\"2\"></td><td class=\"subtext\">\n",
      "        <span class=\"score\" id=\"score_28815032\">84 points</span> by <a href=\"user?id=georgemandis\" class=\"hnuser\">georgemandis</a> <span class=\"age\" title=\"2021-10-10T01:42:06\"><a href=\"item?id=28815032\">5 hours ago</a></span> <span id=\"unv_28815032\"></span> | <a href=\"hide?id=28815032&amp;goto=news\">hide</a> | <a href=\"item?id=28815032\">66&nbsp;comments</a>              </td></tr>\n",
      "      <tr class=\"spacer\" style=\"height:5px\"></tr>\n",
      "                <tr class='athing' id='28802789'>\n",
      "      <td align=\"right\" valign=\"top\" class=\"title\"><span class=\"rank\">16.</span></td>      <td valign=\"top\" class=\"votelinks\"><center><a id='up_28802789' href='vote?id=28802789&amp;how=up&amp;goto=news'><div class='votearrow' title='upvote'></div></a></center></td><td class=\"title\"><a href=\"https://www.bloomberg.com/news/features/2021-10-08/the-handpan-s-creators-want-to-keep-their-invention-pure-it-may-not-survive\" class=\"storylink\">The Handpan – A must-have instrument for the Burning Man set</a><span class=\"sitebit comhead\"> (<a href=\"from?site=bloomberg.com\"><span class=\"sitestr\">bloomberg.com</span></a>)</span></td></tr><tr><td colspan=\"2\"></td><td class=\"subtext\">\n",
      "        <span class=\"score\" id=\"score_28802789\">10 points</span> by <a href=\"user?id=laurex\" class=\"hnuser\">laurex</a> <span class=\"age\" title=\"2021-10-08T18:58:16\"><a href=\"item?id=28802789\">2 hours ago</a></span> <span id=\"unv_28802789\"></span> | <a href=\"hide?id=28802789&amp;goto=news\">hide</a> | <a href=\"item?id=28802789\">discuss</a>              </td></tr>\n",
      "      <tr class=\"spacer\" style=\"height:5px\"></tr>\n",
      "                <tr class='athing' id='28791106'>\n",
      "      <td align=\"right\" valign=\"top\" class=\"title\"><span class=\"rank\">17.</span></td>      <td valign=\"top\" class=\"votelinks\"><center><a id='up_28791106' href='vote?id=28791106&amp;how=up&amp;goto=news'><div class='votearrow' title='upvote'></div></a></center></td><td class=\"title\"><a href=\"https://arstechnica.com/gadgets/2021/10/the-best-part-of-windows-11-is-a-revamped-windows-subsystem-for-linux/\" class=\"storylink\">Part of Windows 11 is a revamped Windows Subsystem for Linux</a><span class=\"sitebit comhead\"> (<a href=\"from?site=arstechnica.com\"><span class=\"sitestr\">arstechnica.com</span></a>)</span></td></tr><tr><td colspan=\"2\"></td><td class=\"subtext\">\n",
      "        <span class=\"score\" id=\"score_28791106\">130 points</span> by <a href=\"user?id=Tomte\" class=\"hnuser\">Tomte</a> <span class=\"age\" title=\"2021-10-07T19:38:44\"><a href=\"item?id=28791106\">13 hours ago</a></span> <span id=\"unv_28791106\"></span> | <a href=\"hide?id=28791106&amp;goto=news\">hide</a> | <a href=\"item?id=28791106\">161&nbsp;comments</a>              </td></tr>\n",
      "      <tr class=\"spacer\" style=\"height:5px\"></tr>\n",
      "                <tr class='athing' id='28814844'>\n",
      "      <td align=\"right\" valign=\"top\" class=\"title\"><span class=\"rank\">18.</span></td>      <td></td><td class=\"title\"><a href=\"item?id=28814844\" class=\"storylink\">Generally Intelligent Is Hiring Machine Learning Research Engineers (Remote, SF)</a></td></tr><tr><td colspan=\"2\"></td><td class=\"subtext\">\n",
      "        <span class=\"age\" title=\"2021-10-10T01:04:10\"><a href=\"item?id=28814844\">5 hours ago</a></span> | <a href=\"hide?id=28814844&amp;goto=news\">hide</a>      </td></tr>\n",
      "      <tr class=\"spacer\" style=\"height:5px\"></tr>\n",
      "                <tr class='athing' id='28813041'>\n",
      "      <td align=\"right\" valign=\"top\" class=\"title\"><span class=\"rank\">19.</span></td>      <td valign=\"top\" class=\"votelinks\"><center><a id='up_28813041' href='vote?id=28813041&amp;how=up&amp;goto=news'><div class='votearrow' title='upvote'></div></a></center></td><td class=\"title\"><a href=\"https://www.npr.org/2021/10/06/1043138622/facebook-instagram-teens-mental-health\" class=\"storylink\">Facebook's own data is not as conclusive about teens and mental health</a><span class=\"sitebit comhead\"> (<a href=\"from?site=npr.org\"><span class=\"sitestr\">npr.org</span></a>)</span></td></tr><tr><td colspan=\"2\"></td><td class=\"subtext\">\n",
      "        <span class=\"score\" id=\"score_28813041\">103 points</span> by <a href=\"user?id=zenmaster10665\" class=\"hnuser\">zenmaster10665</a> <span class=\"age\" title=\"2021-10-09T20:35:09\"><a href=\"item?id=28813041\">10 hours ago</a></span> <span id=\"unv_28813041\"></span> | <a href=\"hide?id=28813041&amp;goto=news\">hide</a> | <a href=\"item?id=28813041\">60&nbsp;comments</a>              </td></tr>\n",
      "      <tr class=\"spacer\" style=\"height:5px\"></tr>\n",
      "                <tr class='athing' id='28803900'>\n",
      "      <td align=\"right\" valign=\"top\" class=\"title\"><span class=\"rank\">20.</span></td>      <td valign=\"top\" class=\"votelinks\"><center><a id='up_28803900' href='vote?id=28803900&amp;how=up&amp;goto=news'><div class='votearrow' title='upvote'></div></a></center></td><td class=\"title\"><a href=\"https://www.bookforum.com/print/2803/mark-e-smith-s-lyrical-stage-rants-24624\" class=\"storylink\" rel=\"nofollow\">Perverted by Language: Mark E. Smith’s lyrical stage rants</a><span class=\"sitebit comhead\"> (<a href=\"from?site=bookforum.com\"><span class=\"sitestr\">bookforum.com</span></a>)</span></td></tr><tr><td colspan=\"2\"></td><td class=\"subtext\">\n",
      "        <span class=\"score\" id=\"score_28803900\">4 points</span> by <a href=\"user?id=tintinnabula\" class=\"hnuser\">tintinnabula</a> <span class=\"age\" title=\"2021-10-08T20:37:16\"><a href=\"item?id=28803900\">1 hour ago</a></span> <span id=\"unv_28803900\"></span> | <a href=\"hide?id=28803900&amp;goto=news\">hide</a> | <a href=\"item?id=28803900\">discuss</a>              </td></tr>\n",
      "      <tr class=\"spacer\" style=\"height:5px\"></tr>\n",
      "                <tr class='athing' id='28814141'>\n",
      "      <td align=\"right\" valign=\"top\" class=\"title\"><span class=\"rank\">21.</span></td>      <td valign=\"top\" class=\"votelinks\"><center><a id='up_28814141' href='vote?id=28814141&amp;how=up&amp;goto=news'><div class='votearrow' title='upvote'></div></a></center></td><td class=\"title\"><a href=\"https://brmmm3.github.io/posts/2019/07/28/python_and_lua/\" class=\"storylink\">Python and Lua (2019)</a><span class=\"sitebit comhead\"> (<a href=\"from?site=brmmm3.github.io\"><span class=\"sitestr\">brmmm3.github.io</span></a>)</span></td></tr><tr><td colspan=\"2\"></td><td class=\"subtext\">\n",
      "        <span class=\"score\" id=\"score_28814141\">62 points</span> by <a href=\"user?id=ttymck\" class=\"hnuser\">ttymck</a> <span class=\"age\" title=\"2021-10-09T23:04:38\"><a href=\"item?id=28814141\">7 hours ago</a></span> <span id=\"unv_28814141\"></span> | <a href=\"hide?id=28814141&amp;goto=news\">hide</a> | <a href=\"item?id=28814141\">26&nbsp;comments</a>              </td></tr>\n",
      "      <tr class=\"spacer\" style=\"height:5px\"></tr>\n",
      "                <tr class='athing' id='28813371'>\n",
      "      <td align=\"right\" valign=\"top\" class=\"title\"><span class=\"rank\">22.</span></td>      <td valign=\"top\" class=\"votelinks\"><center><a id='up_28813371' href='vote?id=28813371&amp;how=up&amp;goto=news'><div class='votearrow' title='upvote'></div></a></center></td><td class=\"title\"><a href=\"https://press.armywarcollege.edu/cgi/viewcontent.cgi?article=1871&amp;context=parameters\" class=\"storylink\">The Mind Has No Firewall (1998) [pdf]</a><span class=\"sitebit comhead\"> (<a href=\"from?site=armywarcollege.edu\"><span class=\"sitestr\">armywarcollege.edu</span></a>)</span></td></tr><tr><td colspan=\"2\"></td><td class=\"subtext\">\n",
      "        <span class=\"score\" id=\"score_28813371\">71 points</span> by <a href=\"user?id=dp-hackernews\" class=\"hnuser\">dp-hackernews</a> <span class=\"age\" title=\"2021-10-09T21:14:41\"><a href=\"item?id=28813371\">9 hours ago</a></span> <span id=\"unv_28813371\"></span> | <a href=\"hide?id=28813371&amp;goto=news\">hide</a> | <a href=\"item?id=28813371\">35&nbsp;comments</a>              </td></tr>\n",
      "      <tr class=\"spacer\" style=\"height:5px\"></tr>\n",
      "                <tr class='athing' id='28812281'>\n",
      "      <td align=\"right\" valign=\"top\" class=\"title\"><span class=\"rank\">23.</span></td>      <td valign=\"top\" class=\"votelinks\"><center><a id='up_28812281' href='vote?id=28812281&amp;how=up&amp;goto=news'><div class='votearrow' title='upvote'></div></a></center></td><td class=\"title\"><a href=\"item?id=28812281\" class=\"storylink\">It's weird that most of “Hacker” news is dominated by business news</a></td></tr><tr><td colspan=\"2\"></td><td class=\"subtext\">\n",
      "        <span class=\"score\" id=\"score_28812281\">400 points</span> by <a href=\"user?id=greendude29\" class=\"hnuser\">greendude29</a> <span class=\"age\" title=\"2021-10-09T18:57:51\"><a href=\"item?id=28812281\">12 hours ago</a></span> <span id=\"unv_28812281\"></span> | <a href=\"hide?id=28812281&amp;goto=news\">hide</a> | <a href=\"item?id=28812281\">176&nbsp;comments</a>              </td></tr>\n",
      "      <tr class=\"spacer\" style=\"height:5px\"></tr>\n",
      "                <tr class='athing' id='28800915'>\n",
      "      <td align=\"right\" valign=\"top\" class=\"title\"><span class=\"rank\">24.</span></td>      <td valign=\"top\" class=\"votelinks\"><center><a id='up_28800915' href='vote?id=28800915&amp;how=up&amp;goto=news'><div class='votearrow' title='upvote'></div></a></center></td><td class=\"title\"><a href=\"https://medium.com/@raphael.outhier/joys-of-porting-a-kernel-to-webassembly-5f0124e71080\" class=\"storylink\">Joys of Porting a Kernel to WebAssembly</a><span class=\"sitebit comhead\"> (<a href=\"from?site=medium.com/raphael.outhier\"><span class=\"sitestr\">medium.com/raphael.outhier</span></a>)</span></td></tr><tr><td colspan=\"2\"></td><td class=\"subtext\">\n",
      "        <span class=\"score\" id=\"score_28800915\">28 points</span> by <a href=\"user?id=ridruejo\" class=\"hnuser\">ridruejo</a> <span class=\"age\" title=\"2021-10-08T16:14:03\"><a href=\"item?id=28800915\">7 hours ago</a></span> <span id=\"unv_28800915\"></span> | <a href=\"hide?id=28800915&amp;goto=news\">hide</a> | <a href=\"item?id=28800915\">5&nbsp;comments</a>              </td></tr>\n",
      "      <tr class=\"spacer\" style=\"height:5px\"></tr>\n",
      "                <tr class='athing' id='28812863'>\n",
      "      <td align=\"right\" valign=\"top\" class=\"title\"><span class=\"rank\">25.</span></td>      <td valign=\"top\" class=\"votelinks\"><center><a id='up_28812863' href='vote?id=28812863&amp;how=up&amp;goto=news'><div class='votearrow' title='upvote'></div></a></center></td><td class=\"title\"><a href=\"https://soupault.app/\" class=\"storylink\">Soupault is a tool that helps you create and manage static websites</a><span class=\"sitebit comhead\"> (<a href=\"from?site=soupault.app\"><span class=\"sitestr\">soupault.app</span></a>)</span></td></tr><tr><td colspan=\"2\"></td><td class=\"subtext\">\n",
      "        <span class=\"score\" id=\"score_28812863\">81 points</span> by <a href=\"user?id=Tomte\" class=\"hnuser\">Tomte</a> <span class=\"age\" title=\"2021-10-09T20:14:15\"><a href=\"item?id=28812863\">10 hours ago</a></span> <span id=\"unv_28812863\"></span> | <a href=\"hide?id=28812863&amp;goto=news\">hide</a> | <a href=\"item?id=28812863\">23&nbsp;comments</a>              </td></tr>\n",
      "      <tr class=\"spacer\" style=\"height:5px\"></tr>\n",
      "                <tr class='athing' id='28812602'>\n",
      "      <td align=\"right\" valign=\"top\" class=\"title\"><span class=\"rank\">26.</span></td>      <td valign=\"top\" class=\"votelinks\"><center><a id='up_28812602' href='vote?id=28812602&amp;how=up&amp;goto=news'><div class='votearrow' title='upvote'></div></a></center></td><td class=\"title\"><a href=\"https://www.smithsonianmag.com/smart-news/american-bumblebee-has-vanished-from-eight-us-states-180978817/\" class=\"storylink\">The American Bumblebee Has Vanished from Eight States</a><span class=\"sitebit comhead\"> (<a href=\"from?site=smithsonianmag.com\"><span class=\"sitestr\">smithsonianmag.com</span></a>)</span></td></tr><tr><td colspan=\"2\"></td><td class=\"subtext\">\n",
      "        <span class=\"score\" id=\"score_28812602\">371 points</span> by <a href=\"user?id=elorant\" class=\"hnuser\">elorant</a> <span class=\"age\" title=\"2021-10-09T19:40:53\"><a href=\"item?id=28812602\">11 hours ago</a></span> <span id=\"unv_28812602\"></span> | <a href=\"hide?id=28812602&amp;goto=news\">hide</a> | <a href=\"item?id=28812602\">130&nbsp;comments</a>              </td></tr>\n",
      "      <tr class=\"spacer\" style=\"height:5px\"></tr>\n",
      "                <tr class='athing' id='28806055'>\n",
      "      <td align=\"right\" valign=\"top\" class=\"title\"><span class=\"rank\">27.</span></td>      <td valign=\"top\" class=\"votelinks\"><center><a id='up_28806055' href='vote?id=28806055&amp;how=up&amp;goto=news'><div class='votearrow' title='upvote'></div></a></center></td><td class=\"title\"><a href=\"https://brianschrader.com/archive/last-year-i-started-reading-a-physical-newspaper/\" class=\"storylink\">Last Year I Started Reading a Physical Newspaper</a><span class=\"sitebit comhead\"> (<a href=\"from?site=brianschrader.com\"><span class=\"sitestr\">brianschrader.com</span></a>)</span></td></tr><tr><td colspan=\"2\"></td><td class=\"subtext\">\n",
      "        <span class=\"score\" id=\"score_28806055\">42 points</span> by <a href=\"user?id=sonicrocketman\" class=\"hnuser\">sonicrocketman</a> <span class=\"age\" title=\"2021-10-09T01:03:17\"><a href=\"item?id=28806055\">8 hours ago</a></span> <span id=\"unv_28806055\"></span> | <a href=\"hide?id=28806055&amp;goto=news\">hide</a> | <a href=\"item?id=28806055\">35&nbsp;comments</a>              </td></tr>\n",
      "      <tr class=\"spacer\" style=\"height:5px\"></tr>\n",
      "                <tr class='athing' id='28813291'>\n",
      "      <td align=\"right\" valign=\"top\" class=\"title\"><span class=\"rank\">28.</span></td>      <td valign=\"top\" class=\"votelinks\"><center><a id='up_28813291' href='vote?id=28813291&amp;how=up&amp;goto=news'><div class='votearrow' title='upvote'></div></a></center></td><td class=\"title\"><a href=\"https://dappworks.com/why-did-satoshi-decide-to-use-secp256k1-instead-of-secp256r1/\" class=\"storylink\">Why Did Satoshi Decide to Use Secp256k1 Instead of Secp256r1?</a><span class=\"sitebit comhead\"> (<a href=\"from?site=dappworks.com\"><span class=\"sitestr\">dappworks.com</span></a>)</span></td></tr><tr><td colspan=\"2\"></td><td class=\"subtext\">\n",
      "        <span class=\"score\" id=\"score_28813291\">120 points</span> by <a href=\"user?id=g42gregory\" class=\"hnuser\">g42gregory</a> <span class=\"age\" title=\"2021-10-09T21:05:19\"><a href=\"item?id=28813291\">9 hours ago</a></span> <span id=\"unv_28813291\"></span> | <a href=\"hide?id=28813291&amp;goto=news\">hide</a> | <a href=\"item?id=28813291\">76&nbsp;comments</a>              </td></tr>\n",
      "      <tr class=\"spacer\" style=\"height:5px\"></tr>\n",
      "                <tr class='athing' id='28814210'>\n",
      "      <td align=\"right\" valign=\"top\" class=\"title\"><span class=\"rank\">29.</span></td>      <td valign=\"top\" class=\"votelinks\"><center><a id='up_28814210' href='vote?id=28814210&amp;how=up&amp;goto=news'><div class='votearrow' title='upvote'></div></a></center></td><td class=\"title\"><a href=\"https://github.com/keybase/client/graphs/contributors\" class=\"storylink\">Graph of Keybase commits pre and post Zoom acquisition</a><span class=\"sitebit comhead\"> (<a href=\"from?site=github.com/keybase\"><span class=\"sitestr\">github.com/keybase</span></a>)</span></td></tr><tr><td colspan=\"2\"></td><td class=\"subtext\">\n",
      "        <span class=\"score\" id=\"score_28814210\">280 points</span> by <a href=\"user?id=0des\" class=\"hnuser\">0des</a> <span class=\"age\" title=\"2021-10-09T23:15:34\"><a href=\"item?id=28814210\">7 hours ago</a></span> <span id=\"unv_28814210\"></span> | <a href=\"hide?id=28814210&amp;goto=news\">hide</a> | <a href=\"item?id=28814210\">50&nbsp;comments</a>              </td></tr>\n",
      "      <tr class=\"spacer\" style=\"height:5px\"></tr>\n",
      "                <tr class='athing' id='28812674'>\n",
      "      <td align=\"right\" valign=\"top\" class=\"title\"><span class=\"rank\">30.</span></td>      <td valign=\"top\" class=\"votelinks\"><center><a id='up_28812674' href='vote?id=28812674&amp;how=up&amp;goto=news'><div class='votearrow' title='upvote'></div></a></center></td><td class=\"title\"><a href=\"http://nl.aminet.net/docs/rview/Amiga3000T.txt\" class=\"storylink\">Amiga 3000T Review (1992)</a><span class=\"sitebit comhead\"> (<a href=\"from?site=aminet.net\"><span class=\"sitestr\">aminet.net</span></a>)</span></td></tr><tr><td colspan=\"2\"></td><td class=\"subtext\">\n",
      "        <span class=\"score\" id=\"score_28812674\">55 points</span> by <a href=\"user?id=arexxbifs\" class=\"hnuser\">arexxbifs</a> <span class=\"age\" title=\"2021-10-09T19:51:06\"><a href=\"item?id=28812674\">11 hours ago</a></span> <span id=\"unv_28812674\"></span> | <a href=\"hide?id=28812674&amp;goto=news\">hide</a> | <a href=\"item?id=28812674\">18&nbsp;comments</a>              </td></tr>\n",
      "      <tr class=\"spacer\" style=\"height:5px\"></tr>\n",
      "            <tr class=\"morespace\" style=\"height:10px\"></tr><tr><td colspan=\"2\"></td><td class=\"title\"><a href=\"news?p=2\" class=\"morelink\" rel=\"next\">More</a></td></tr>\n",
      "  </table>\n",
      "</td></tr>\n",
      "<tr><td><img src=\"s.gif\" height=\"10\" width=\"0\"><table width=\"100%\" cellspacing=\"0\" cellpadding=\"1\"><tr><td bgcolor=\"#ff6600\"></td></tr></table><br><center><span class=\"yclinks\"><a href=\"newsguidelines.html\">Guidelines</a>\n",
      "        | <a href=\"newsfaq.html\">FAQ</a>\n",
      "        | <a href=\"lists\">Lists</a>\n",
      "        | <a href=\"https://github.com/HackerNews/API\">API</a>\n",
      "        | <a href=\"security.html\">Security</a>\n",
      "        | <a href=\"http://www.ycombinator.com/legal/\">Legal</a>\n",
      "        | <a href=\"http://www.ycombinator.com/apply/\">Apply to YC</a>\n",
      "        | <a href=\"mailto:hn@ycombinator.com\">Contact</a></span><br><br><form method=\"get\" action=\"//hn.algolia.com/\">Search:\n",
      "          <input type=\"text\" name=\"q\" value=\"\" size=\"17\" autocorrect=\"off\" spellcheck=\"false\" autocapitalize=\"off\" autocomplete=\"false\"></form>\n",
      "            </center></td></tr>\n",
      "      </table></center></body><script type='text/javascript' src='hn.js?uwxCMEKQCdb9AkfLO0OS'></script></html>\n",
      "\n"
     ]
    }
   ],
   "source": [
    "import requests\n",
    "\n",
    "# Fetch a web page\n",
    "r = requests.get(\"https://news.ycombinator.com\")\n",
    "print(r.text)"
   ]
  },
  {
   "cell_type": "code",
   "execution_count": 7,
   "metadata": {},
   "outputs": [
    {
     "name": "stdout",
     "output_type": "stream",
     "text": [
      "\n",
      "        \n",
      "          \n",
      "        Hacker News\n",
      "        \n",
      "                  Hacker News\n",
      "              new | past | comments | ask | show | jobs | submit            \n",
      "                              login\n",
      "                          \n",
      "              \n",
      "\n",
      "              \n",
      "      1.      HN 15 Years ago (ycombinator.com)\n",
      "        315 points by agustif 7 hours ago  | hide | 91&nbsp;comments              \n",
      "      \n",
      "                \n",
      "      2.      Incenser, or how NSA and GCHQ are tapping internet cables (2014) (electrospaces.net)\n",
      "        61 points by intunderflow 3 hours ago  | hide | 5&nbsp;comments              \n",
      "      \n",
      "                \n",
      "      3.      Blue light from monitors no danger to eyes or sleep (aerzteblatt.de)\n",
      "        203 points by mahathu 7 hours ago  | hide | 103&nbsp;comments              \n",
      "      \n",
      "                \n",
      "      4.      Len Sassaman and Satoshi: A cypherpunk history (evanhatch.medium.com)\n",
      "        171 points by anonporridge 6 hours ago  | hide | 95&nbsp;comments              \n",
      "      \n",
      "                \n",
      "      5.      Waterfox (waterfox.net)\n",
      "        28 points by isaac21259 2 hours ago  | hide | 17&nbsp;comments              \n",
      "      \n",
      "                \n",
      "      6.      ScummVM 2.5 “Twenty years ago today” (scummvm.org)\n",
      "        250 points by galapago 11 hours ago  | hide | 32&nbsp;comments              \n",
      "      \n",
      "                \n",
      "      7.      Canada's 'gamble' on delaying, mixing and matching Covid-19 vaccines paid off (cbc.ca)\n",
      "        47 points by colinprince 2 hours ago  | hide | 32&nbsp;comments              \n",
      "      \n",
      "                \n",
      "      8.      V-USB – A Firmware-Only USB Driver for Atmel AVR Microcontrollers (obdev.at)\n",
      "        78 points by colinprince 6 hours ago  | hide | 16&nbsp;comments              \n",
      "      \n",
      "                \n",
      "      9.      Lisp in a Weekend (github.com/fragglet)\n",
      "        13 points by kelseyfrog 2 hours ago  | hide | discuss              \n",
      "      \n",
      "                \n",
      "      10.      Tinyprinter.club (tinyprinter.club)\n",
      "        43 points by lifthrasiir 5 hours ago  | hide | 10&nbsp;comments              \n",
      "      \n",
      "                \n",
      "      11.      Amiga 68000 Hardware Assembly Programming [video] (youtube.com)\n",
      "        20 points by doener 3 hours ago  | hide | discuss              \n",
      "      \n",
      "                \n",
      "      12.      Seal-mounted camera recovered after 3 years on ocean floor yields hours of video (cbc.ca)\n",
      "        114 points by curmudgeon22 9 hours ago  | hide | 37&nbsp;comments              \n",
      "      \n",
      "                \n",
      "      13.      Web3 Architecture and How It Compares to Traditional Web Apps (thenewstack.io)\n",
      "        52 points by kiyanwang 4 hours ago  | hide | 21&nbsp;comments              \n",
      "      \n",
      "                \n",
      "      14.      Super Mario 64 has been ported to iOS (reddit.com)\n",
      "        202 points by codetrotter 11 hours ago  | hide | 124&nbsp;comments              \n",
      "      \n",
      "                \n",
      "      15.      Facebook Recruiter Correspondence (mand.is)\n",
      "        84 points by georgemandis 5 hours ago  | hide | 66&nbsp;comments              \n",
      "      \n",
      "                \n",
      "      16.      The Handpan – A must-have instrument for the Burning Man set (bloomberg.com)\n",
      "        10 points by laurex 2 hours ago  | hide | discuss              \n",
      "      \n",
      "                \n",
      "      17.      Part of Windows 11 is a revamped Windows Subsystem for Linux (arstechnica.com)\n",
      "        130 points by Tomte 13 hours ago  | hide | 161&nbsp;comments              \n",
      "      \n",
      "                \n",
      "      18.      Generally Intelligent Is Hiring Machine Learning Research Engineers (Remote, SF)\n",
      "        5 hours ago | hide      \n",
      "      \n",
      "                \n",
      "      19.      Facebook's own data is not as conclusive about teens and mental health (npr.org)\n",
      "        103 points by zenmaster10665 10 hours ago  | hide | 60&nbsp;comments              \n",
      "      \n",
      "                \n",
      "      20.      Perverted by Language: Mark E. Smith’s lyrical stage rants (bookforum.com)\n",
      "        4 points by tintinnabula 1 hour ago  | hide | discuss              \n",
      "      \n",
      "                \n",
      "      21.      Python and Lua (2019) (brmmm3.github.io)\n",
      "        62 points by ttymck 7 hours ago  | hide | 26&nbsp;comments              \n",
      "      \n",
      "                \n",
      "      22.      The Mind Has No Firewall (1998) [pdf] (armywarcollege.edu)\n",
      "        71 points by dp-hackernews 9 hours ago  | hide | 35&nbsp;comments              \n",
      "      \n",
      "                \n",
      "      23.      It's weird that most of “Hacker” news is dominated by business news\n",
      "        400 points by greendude29 12 hours ago  | hide | 176&nbsp;comments              \n",
      "      \n",
      "                \n",
      "      24.      Joys of Porting a Kernel to WebAssembly (medium.com/raphael.outhier)\n",
      "        28 points by ridruejo 7 hours ago  | hide | 5&nbsp;comments              \n",
      "      \n",
      "                \n",
      "      25.      Soupault is a tool that helps you create and manage static websites (soupault.app)\n",
      "        81 points by Tomte 10 hours ago  | hide | 23&nbsp;comments              \n",
      "      \n",
      "                \n",
      "      26.      The American Bumblebee Has Vanished from Eight States (smithsonianmag.com)\n",
      "        371 points by elorant 11 hours ago  | hide | 130&nbsp;comments              \n",
      "      \n",
      "                \n",
      "      27.      Last Year I Started Reading a Physical Newspaper (brianschrader.com)\n",
      "        42 points by sonicrocketman 8 hours ago  | hide | 35&nbsp;comments              \n",
      "      \n",
      "                \n",
      "      28.      Why Did Satoshi Decide to Use Secp256k1 Instead of Secp256r1? (dappworks.com)\n",
      "        120 points by g42gregory 9 hours ago  | hide | 76&nbsp;comments              \n",
      "      \n",
      "                \n",
      "      29.      Graph of Keybase commits pre and post Zoom acquisition (github.com/keybase)\n",
      "        280 points by 0des 7 hours ago  | hide | 50&nbsp;comments              \n",
      "      \n",
      "                \n",
      "      30.      Amiga 3000T Review (1992) (aminet.net)\n",
      "        55 points by arexxbifs 11 hours ago  | hide | 18&nbsp;comments              \n",
      "      \n",
      "            More\n",
      "  \n",
      "\n",
      "Guidelines\n",
      "        | FAQ\n",
      "        | Lists\n",
      "        | API\n",
      "        | Security\n",
      "        | Legal\n",
      "        | Apply to YC\n",
      "        | ContactSearch:\n",
      "          \n",
      "            \n",
      "      \n",
      "\n"
     ]
    }
   ],
   "source": [
    "import re\n",
    "\n",
    "# Remove HTML tags using RegEx\n",
    "pattern = re.compile(r'<.*?>')  # tags look like <...>\n",
    "print(pattern.sub('', r.text))  # replace them with blank"
   ]
  },
  {
   "cell_type": "code",
   "execution_count": 8,
   "metadata": {},
   "outputs": [
    {
     "name": "stdout",
     "output_type": "stream",
     "text": [
      "\n",
      "        \n",
      "          \n",
      "        Hacker News\n",
      "        \n",
      "                  Hacker News\n",
      "              new | past | comments | ask | show | jobs | submit            \n",
      "                              login\n",
      "                          \n",
      "              \n",
      "\n",
      "              \n",
      "      1.      HN 15 Years ago (ycombinator.com)\n",
      "        315 points by agustif 7 hours ago  | hide | 91 comments              \n",
      "      \n",
      "                \n",
      "      2.      Incenser, or how NSA and GCHQ are tapping internet cables (2014) (electrospaces.net)\n",
      "        61 points by intunderflow 3 hours ago  | hide | 5 comments              \n",
      "      \n",
      "                \n",
      "      3.      Blue light from monitors no danger to eyes or sleep (aerzteblatt.de)\n",
      "        203 points by mahathu 7 hours ago  | hide | 103 comments              \n",
      "      \n",
      "                \n",
      "      4.      Len Sassaman and Satoshi: A cypherpunk history (evanhatch.medium.com)\n",
      "        171 points by anonporridge 6 hours ago  | hide | 95 comments              \n",
      "      \n",
      "                \n",
      "      5.      Waterfox (waterfox.net)\n",
      "        28 points by isaac21259 2 hours ago  | hide | 17 comments              \n",
      "      \n",
      "                \n",
      "      6.      ScummVM 2.5 “Twenty years ago today” (scummvm.org)\n",
      "        250 points by galapago 11 hours ago  | hide | 32 comments              \n",
      "      \n",
      "                \n",
      "      7.      Canada's 'gamble' on delaying, mixing and matching Covid-19 vaccines paid off (cbc.ca)\n",
      "        47 points by colinprince 2 hours ago  | hide | 32 comments              \n",
      "      \n",
      "                \n",
      "      8.      V-USB – A Firmware-Only USB Driver for Atmel AVR Microcontrollers (obdev.at)\n",
      "        78 points by colinprince 6 hours ago  | hide | 16 comments              \n",
      "      \n",
      "                \n",
      "      9.      Lisp in a Weekend (github.com/fragglet)\n",
      "        13 points by kelseyfrog 2 hours ago  | hide | discuss              \n",
      "      \n",
      "                \n",
      "      10.      Tinyprinter.club (tinyprinter.club)\n",
      "        43 points by lifthrasiir 5 hours ago  | hide | 10 comments              \n",
      "      \n",
      "                \n",
      "      11.      Amiga 68000 Hardware Assembly Programming [video] (youtube.com)\n",
      "        20 points by doener 3 hours ago  | hide | discuss              \n",
      "      \n",
      "                \n",
      "      12.      Seal-mounted camera recovered after 3 years on ocean floor yields hours of video (cbc.ca)\n",
      "        114 points by curmudgeon22 9 hours ago  | hide | 37 comments              \n",
      "      \n",
      "                \n",
      "      13.      Web3 Architecture and How It Compares to Traditional Web Apps (thenewstack.io)\n",
      "        52 points by kiyanwang 4 hours ago  | hide | 21 comments              \n",
      "      \n",
      "                \n",
      "      14.      Super Mario 64 has been ported to iOS (reddit.com)\n",
      "        202 points by codetrotter 11 hours ago  | hide | 124 comments              \n",
      "      \n",
      "                \n",
      "      15.      Facebook Recruiter Correspondence (mand.is)\n",
      "        84 points by georgemandis 5 hours ago  | hide | 66 comments              \n",
      "      \n",
      "                \n",
      "      16.      The Handpan – A must-have instrument for the Burning Man set (bloomberg.com)\n",
      "        10 points by laurex 2 hours ago  | hide | discuss              \n",
      "      \n",
      "                \n",
      "      17.      Part of Windows 11 is a revamped Windows Subsystem for Linux (arstechnica.com)\n",
      "        130 points by Tomte 13 hours ago  | hide | 161 comments              \n",
      "      \n",
      "                \n",
      "      18.      Generally Intelligent Is Hiring Machine Learning Research Engineers (Remote, SF)\n",
      "        5 hours ago | hide      \n",
      "      \n",
      "                \n",
      "      19.      Facebook's own data is not as conclusive about teens and mental health (npr.org)\n",
      "        103 points by zenmaster10665 10 hours ago  | hide | 60 comments              \n",
      "      \n",
      "                \n",
      "      20.      Perverted by Language: Mark E. Smith’s lyrical stage rants (bookforum.com)\n",
      "        4 points by tintinnabula 1 hour ago  | hide | discuss              \n",
      "      \n",
      "                \n",
      "      21.      Python and Lua (2019) (brmmm3.github.io)\n",
      "        62 points by ttymck 7 hours ago  | hide | 26 comments              \n",
      "      \n",
      "                \n",
      "      22.      The Mind Has No Firewall (1998) [pdf] (armywarcollege.edu)\n",
      "        71 points by dp-hackernews 9 hours ago  | hide | 35 comments              \n",
      "      \n",
      "                \n",
      "      23.      It's weird that most of “Hacker” news is dominated by business news\n",
      "        400 points by greendude29 12 hours ago  | hide | 176 comments              \n",
      "      \n",
      "                \n",
      "      24.      Joys of Porting a Kernel to WebAssembly (medium.com/raphael.outhier)\n",
      "        28 points by ridruejo 7 hours ago  | hide | 5 comments              \n",
      "      \n",
      "                \n",
      "      25.      Soupault is a tool that helps you create and manage static websites (soupault.app)\n",
      "        81 points by Tomte 10 hours ago  | hide | 23 comments              \n",
      "      \n",
      "                \n",
      "      26.      The American Bumblebee Has Vanished from Eight States (smithsonianmag.com)\n",
      "        371 points by elorant 11 hours ago  | hide | 130 comments              \n",
      "      \n",
      "                \n",
      "      27.      Last Year I Started Reading a Physical Newspaper (brianschrader.com)\n",
      "        42 points by sonicrocketman 8 hours ago  | hide | 35 comments              \n",
      "      \n",
      "                \n",
      "      28.      Why Did Satoshi Decide to Use Secp256k1 Instead of Secp256r1? (dappworks.com)\n",
      "        120 points by g42gregory 9 hours ago  | hide | 76 comments              \n",
      "      \n",
      "                \n",
      "      29.      Graph of Keybase commits pre and post Zoom acquisition (github.com/keybase)\n",
      "        280 points by 0des 7 hours ago  | hide | 50 comments              \n",
      "      \n",
      "                \n",
      "      30.      Amiga 3000T Review (1992) (aminet.net)\n",
      "        55 points by arexxbifs 11 hours ago  | hide | 18 comments              \n",
      "      \n",
      "            More\n",
      "  \n",
      "\n",
      "Guidelines\n",
      "        | FAQ\n",
      "        | Lists\n",
      "        | API\n",
      "        | Security\n",
      "        | Legal\n",
      "        | Apply to YC\n",
      "        | ContactSearch:\n",
      "          \n",
      "            \n",
      "      \n",
      "\n"
     ]
    }
   ],
   "source": [
    "from bs4 import BeautifulSoup\n",
    "\n",
    "# Remove HTML tags using Beautiful Soup library\n",
    "soup = BeautifulSoup(r.text, \"html5lib\")\n",
    "print(soup.get_text())"
   ]
  },
  {
   "cell_type": "code",
   "execution_count": 9,
   "metadata": {
    "scrolled": true
   },
   "outputs": [
    {
     "data": {
      "text/plain": [
       "<tr class=\"athing\" id=\"28814352\">\n",
       "      <td align=\"right\" class=\"title\" valign=\"top\"><span class=\"rank\">1.</span></td>      <td class=\"votelinks\" valign=\"top\"><center><a href=\"vote?id=28814352&amp;how=up&amp;goto=news\" id=\"up_28814352\"><div class=\"votearrow\" title=\"upvote\"></div></a></center></td><td class=\"title\"><a class=\"storylink\" href=\"https://news.ycombinator.com/front?day=2006-10-09\">HN 15 Years ago</a><span class=\"sitebit comhead\"> (<a href=\"from?site=ycombinator.com\"><span class=\"sitestr\">ycombinator.com</span></a>)</span></td></tr>"
      ]
     },
     "execution_count": 9,
     "metadata": {},
     "output_type": "execute_result"
    }
   ],
   "source": [
    "# Find all articles\n",
    "summaries = soup.find_all(\"tr\", class_=\"athing\")\n",
    "summaries[0]"
   ]
  },
  {
   "cell_type": "code",
   "execution_count": 10,
   "metadata": {},
   "outputs": [
    {
     "data": {
      "text/plain": [
       "'HN 15 Years ago'"
      ]
     },
     "execution_count": 10,
     "metadata": {},
     "output_type": "execute_result"
    }
   ],
   "source": [
    "# Extract title\n",
    "summaries[0].find(\"a\", class_=\"storylink\").get_text().strip()"
   ]
  },
  {
   "cell_type": "code",
   "execution_count": 11,
   "metadata": {},
   "outputs": [
    {
     "name": "stdout",
     "output_type": "stream",
     "text": [
      "30 Article summaries found. Sample:\n",
      "HN 15 Years ago\n"
     ]
    }
   ],
   "source": [
    "# Find all articles, extract titles\n",
    "articles = []\n",
    "summaries = soup.find_all(\"tr\", class_=\"athing\")\n",
    "for summary in summaries:\n",
    "    title = summary.find(\"a\", class_=\"storylink\").get_text().strip()\n",
    "    articles.append((title))\n",
    "\n",
    "print(len(articles), \"Article summaries found. Sample:\")\n",
    "print(articles[0])"
   ]
  },
  {
   "cell_type": "markdown",
   "metadata": {
    "collapsed": true
   },
   "source": [
    "## Normalization"
   ]
  },
  {
   "cell_type": "markdown",
   "metadata": {},
   "source": [
    "### Case Normalization"
   ]
  },
  {
   "cell_type": "code",
   "execution_count": 12,
   "metadata": {},
   "outputs": [
    {
     "name": "stdout",
     "output_type": "stream",
     "text": [
      "The first time you see The Second Renaissance it may look boring. Look at it at least twice and definitely watch part 2. It will change your view of the matrix. Are the human people the ones who started the war ? Is AI a bad thing ?\n"
     ]
    }
   ],
   "source": [
    "# Sample text\n",
    "text = \"The first time you see The Second Renaissance it may look boring. Look at it at least twice and definitely watch part 2. It will change your view of the matrix. Are the human people the ones who started the war ? Is AI a bad thing ?\"\n",
    "print(text)"
   ]
  },
  {
   "cell_type": "code",
   "execution_count": 13,
   "metadata": {},
   "outputs": [
    {
     "name": "stdout",
     "output_type": "stream",
     "text": [
      "the first time you see the second renaissance it may look boring. look at it at least twice and definitely watch part 2. it will change your view of the matrix. are the human people the ones who started the war ? is ai a bad thing ?\n"
     ]
    }
   ],
   "source": [
    "# Convert to lowercase\n",
    "text = text.lower() \n",
    "print(text)"
   ]
  },
  {
   "cell_type": "markdown",
   "metadata": {},
   "source": [
    "### Punctuation Removal"
   ]
  },
  {
   "cell_type": "code",
   "execution_count": 14,
   "metadata": {},
   "outputs": [
    {
     "name": "stdout",
     "output_type": "stream",
     "text": [
      "the first time you see the second renaissance it may look boring  look at it at least twice and definitely watch part 2  it will change your view of the matrix  are the human people the ones who started the war   is ai a bad thing  \n"
     ]
    }
   ],
   "source": [
    "import re\n",
    "\n",
    "# Remove punctuation characters\n",
    "text = re.sub(r\"[^a-zA-Z0-9]\", \" \", text) \n",
    "print(text)"
   ]
  },
  {
   "cell_type": "markdown",
   "metadata": {},
   "source": [
    "## Tokenization"
   ]
  },
  {
   "cell_type": "code",
   "execution_count": 15,
   "metadata": {},
   "outputs": [
    {
     "name": "stdout",
     "output_type": "stream",
     "text": [
      "['the', 'first', 'time', 'you', 'see', 'the', 'second', 'renaissance', 'it', 'may', 'look', 'boring', 'look', 'at', 'it', 'at', 'least', 'twice', 'and', 'definitely', 'watch', 'part', '2', 'it', 'will', 'change', 'your', 'view', 'of', 'the', 'matrix', 'are', 'the', 'human', 'people', 'the', 'ones', 'who', 'started', 'the', 'war', 'is', 'ai', 'a', 'bad', 'thing']\n"
     ]
    }
   ],
   "source": [
    "# Split text into tokens (words)\n",
    "words = text.split()\n",
    "print(words)"
   ]
  },
  {
   "cell_type": "markdown",
   "metadata": {},
   "source": [
    "### NLTK: Natural Language ToolKit"
   ]
  },
  {
   "cell_type": "code",
   "execution_count": 16,
   "metadata": {},
   "outputs": [],
   "source": [
    "import os\n",
    "import nltk\n",
    "nltk.data.path.append(os.path.join(os.getcwd(), \"nltk_data\"))"
   ]
  },
  {
   "cell_type": "code",
   "execution_count": 17,
   "metadata": {},
   "outputs": [
    {
     "name": "stdout",
     "output_type": "stream",
     "text": [
      "Dr. Smith graduated from the University of Washington. He later started an analytics firm called Lux, which catered to enterprise customers.\n"
     ]
    }
   ],
   "source": [
    "# Another sample text\n",
    "text = \"Dr. Smith graduated from the University of Washington. He later started an analytics firm called Lux, which catered to enterprise customers.\"\n",
    "print(text)"
   ]
  },
  {
   "cell_type": "code",
   "execution_count": 18,
   "metadata": {},
   "outputs": [
    {
     "name": "stdout",
     "output_type": "stream",
     "text": [
      "['Dr.', 'Smith', 'graduated', 'from', 'the', 'University', 'of', 'Washington', '.', 'He', 'later', 'started', 'an', 'analytics', 'firm', 'called', 'Lux', ',', 'which', 'catered', 'to', 'enterprise', 'customers', '.']\n"
     ]
    }
   ],
   "source": [
    "from nltk.tokenize import word_tokenize\n",
    "\n",
    "# Split text into words using NLTK\n",
    "words = word_tokenize(text)\n",
    "print(words)"
   ]
  },
  {
   "cell_type": "code",
   "execution_count": 19,
   "metadata": {},
   "outputs": [
    {
     "name": "stdout",
     "output_type": "stream",
     "text": [
      "['Dr. Smith graduated from the University of Washington.', 'He later started an analytics firm called Lux, which catered to enterprise customers.']\n"
     ]
    }
   ],
   "source": [
    "from nltk.tokenize import sent_tokenize\n",
    "\n",
    "# Split text into sentences\n",
    "sentences = sent_tokenize(text)\n",
    "print(sentences)"
   ]
  },
  {
   "cell_type": "code",
   "execution_count": 20,
   "metadata": {},
   "outputs": [
    {
     "name": "stdout",
     "output_type": "stream",
     "text": [
      "['i', 'me', 'my', 'myself', 'we', 'our', 'ours', 'ourselves', 'you', \"you're\", \"you've\", \"you'll\", \"you'd\", 'your', 'yours', 'yourself', 'yourselves', 'he', 'him', 'his', 'himself', 'she', \"she's\", 'her', 'hers', 'herself', 'it', \"it's\", 'its', 'itself', 'they', 'them', 'their', 'theirs', 'themselves', 'what', 'which', 'who', 'whom', 'this', 'that', \"that'll\", 'these', 'those', 'am', 'is', 'are', 'was', 'were', 'be', 'been', 'being', 'have', 'has', 'had', 'having', 'do', 'does', 'did', 'doing', 'a', 'an', 'the', 'and', 'but', 'if', 'or', 'because', 'as', 'until', 'while', 'of', 'at', 'by', 'for', 'with', 'about', 'against', 'between', 'into', 'through', 'during', 'before', 'after', 'above', 'below', 'to', 'from', 'up', 'down', 'in', 'out', 'on', 'off', 'over', 'under', 'again', 'further', 'then', 'once', 'here', 'there', 'when', 'where', 'why', 'how', 'all', 'any', 'both', 'each', 'few', 'more', 'most', 'other', 'some', 'such', 'no', 'nor', 'not', 'only', 'own', 'same', 'so', 'than', 'too', 'very', 's', 't', 'can', 'will', 'just', 'don', \"don't\", 'should', \"should've\", 'now', 'd', 'll', 'm', 'o', 're', 've', 'y', 'ain', 'aren', \"aren't\", 'couldn', \"couldn't\", 'didn', \"didn't\", 'doesn', \"doesn't\", 'hadn', \"hadn't\", 'hasn', \"hasn't\", 'haven', \"haven't\", 'isn', \"isn't\", 'ma', 'mightn', \"mightn't\", 'mustn', \"mustn't\", 'needn', \"needn't\", 'shan', \"shan't\", 'shouldn', \"shouldn't\", 'wasn', \"wasn't\", 'weren', \"weren't\", 'won', \"won't\", 'wouldn', \"wouldn't\"]\n"
     ]
    }
   ],
   "source": [
    "# List stop words\n",
    "from nltk.corpus import stopwords\n",
    "print(stopwords.words(\"english\"))"
   ]
  },
  {
   "cell_type": "code",
   "execution_count": 21,
   "metadata": {},
   "outputs": [
    {
     "name": "stdout",
     "output_type": "stream",
     "text": [
      "['the', 'first', 'time', 'you', 'see', 'the', 'second', 'renaissance', 'it', 'may', 'look', 'boring', 'look', 'at', 'it', 'at', 'least', 'twice', 'and', 'definitely', 'watch', 'part', '2', 'it', 'will', 'change', 'your', 'view', 'of', 'the', 'matrix', 'are', 'the', 'human', 'people', 'the', 'ones', 'who', 'started', 'the', 'war', 'is', 'ai', 'a', 'bad', 'thing']\n"
     ]
    }
   ],
   "source": [
    "# Reset text\n",
    "text = \"The first time you see The Second Renaissance it may look boring. Look at it at least twice and definitely watch part 2. It will change your view of the matrix. Are the human people the ones who started the war ? Is AI a bad thing ?\"\n",
    "\n",
    "# Normalize it\n",
    "text = re.sub(r\"[^a-zA-Z0-9]\", \" \", text.lower())\n",
    "\n",
    "# Tokenize it\n",
    "words = text.split()\n",
    "print(words)"
   ]
  },
  {
   "cell_type": "code",
   "execution_count": 24,
   "metadata": {},
   "outputs": [
    {
     "name": "stdout",
     "output_type": "stream",
     "text": [
      "['first', 'time', 'see', 'second', 'renaissance', 'may', 'look', 'boring', 'look', 'least', 'twice', 'definitely', 'watch', 'part', '2', 'change', 'view', 'matrix', 'human', 'people', 'ones', 'started', 'war', 'ai', 'bad', 'thing']\n"
     ]
    }
   ],
   "source": [
    "# Remove stop words\n",
    "words = [w for w in words if w not in stopwords.words(\"english\")]\n",
    "print(words)"
   ]
  },
  {
   "cell_type": "markdown",
   "metadata": {},
   "source": [
    "### Sentence Parsing"
   ]
  },
  {
   "cell_type": "code",
   "execution_count": 23,
   "metadata": {},
   "outputs": [
    {
     "name": "stdout",
     "output_type": "stream",
     "text": [
      "(S\n",
      "  (NP I)\n",
      "  (VP\n",
      "    (VP (V shot) (NP (Det an) (N elephant)))\n",
      "    (PP (P in) (NP (Det my) (N pajamas)))))\n",
      "(S\n",
      "  (NP I)\n",
      "  (VP\n",
      "    (V shot)\n",
      "    (NP (Det an) (N elephant) (PP (P in) (NP (Det my) (N pajamas))))))\n"
     ]
    }
   ],
   "source": [
    "import nltk\n",
    "\n",
    "# Define a custom grammar\n",
    "my_grammar = nltk.CFG.fromstring(\"\"\"\n",
    "S -> NP VP\n",
    "PP -> P NP\n",
    "NP -> Det N | Det N PP | 'I'\n",
    "VP -> V NP | VP PP\n",
    "Det -> 'an' | 'my'\n",
    "N -> 'elephant' | 'pajamas'\n",
    "V -> 'shot'\n",
    "P -> 'in'\n",
    "\"\"\")\n",
    "parser = nltk.ChartParser(my_grammar)\n",
    "\n",
    "# Parse a sentence\n",
    "sentence = word_tokenize(\"I shot an elephant in my pajamas\")\n",
    "for tree in parser.parse(sentence):\n",
    "    print(tree)"
   ]
  },
  {
   "cell_type": "markdown",
   "metadata": {},
   "source": [
    "## Stemming & Lemmatization\n",
    "\n",
    "### Stemming"
   ]
  },
  {
   "cell_type": "code",
   "execution_count": 25,
   "metadata": {},
   "outputs": [
    {
     "name": "stdout",
     "output_type": "stream",
     "text": [
      "['first', 'time', 'see', 'second', 'renaiss', 'may', 'look', 'bore', 'look', 'least', 'twice', 'definit', 'watch', 'part', '2', 'chang', 'view', 'matrix', 'human', 'peopl', 'one', 'start', 'war', 'ai', 'bad', 'thing']\n"
     ]
    }
   ],
   "source": [
    "from nltk.stem.porter import PorterStemmer\n",
    "\n",
    "# Reduce words to their stems\n",
    "stemmed = [PorterStemmer().stem(w) for w in words]\n",
    "print(stemmed)"
   ]
  },
  {
   "cell_type": "markdown",
   "metadata": {},
   "source": [
    "### Lemmatization"
   ]
  },
  {
   "cell_type": "code",
   "execution_count": 26,
   "metadata": {},
   "outputs": [
    {
     "name": "stdout",
     "output_type": "stream",
     "text": [
      "['first', 'time', 'see', 'second', 'renaissance', 'may', 'look', 'boring', 'look', 'least', 'twice', 'definitely', 'watch', 'part', '2', 'change', 'view', 'matrix', 'human', 'people', 'one', 'started', 'war', 'ai', 'bad', 'thing']\n"
     ]
    }
   ],
   "source": [
    "from nltk.stem.wordnet import WordNetLemmatizer\n",
    "\n",
    "# Reduce words to their root form\n",
    "lemmed = [WordNetLemmatizer().lemmatize(w) for w in words]\n",
    "print(lemmed)"
   ]
  },
  {
   "cell_type": "code",
   "execution_count": 27,
   "metadata": {},
   "outputs": [
    {
     "name": "stdout",
     "output_type": "stream",
     "text": [
      "['first', 'time', 'see', 'second', 'renaissance', 'may', 'look', 'bore', 'look', 'least', 'twice', 'definitely', 'watch', 'part', '2', 'change', 'view', 'matrix', 'human', 'people', 'one', 'start', 'war', 'ai', 'bad', 'thing']\n"
     ]
    }
   ],
   "source": [
    "# Lemmatize verbs by specifying pos\n",
    "lemmed = [WordNetLemmatizer().lemmatize(w, pos='v') for w in lemmed]\n",
    "print(lemmed)"
   ]
  },
  {
   "cell_type": "code",
   "execution_count": null,
   "metadata": {},
   "outputs": [],
   "source": [
    "!tar chvf"
   ]
  }
 ],
 "metadata": {
  "kernelspec": {
   "display_name": "Python 3",
   "language": "python",
   "name": "python3"
  },
  "language_info": {
   "codemirror_mode": {
    "name": "ipython",
    "version": 3
   },
   "file_extension": ".py",
   "mimetype": "text/x-python",
   "name": "python",
   "nbconvert_exporter": "python",
   "pygments_lexer": "ipython3",
   "version": "3.6.3"
  }
 },
 "nbformat": 4,
 "nbformat_minor": 2
}
