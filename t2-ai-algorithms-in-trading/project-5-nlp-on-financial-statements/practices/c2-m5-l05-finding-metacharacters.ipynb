{
 "cells": [
  {
   "cell_type": "markdown",
   "id": "95474036-04f3-448d-8e06-63a179afaea6",
   "metadata": {},
   "source": [
    "# Finding MetaCharacters\n",
    "\n",
    "Here’s a complete list of the metacharacters used in regular expressions:\n",
    "\n",
    "```python\n",
    ". ^ $ * + ? { } [ ] \\ | ( )\n",
    "```\n",
    "\n",
    "As we mentioned in the previous lesson, these metacharacters are used to give special instructions and can't be searched for directly. If we want to search for these metacharacters directly in strings we need to escape them first. Just like with Python string literals, we can use the backslash (`\\`) to escape all the metacharacters. Let’s see an example.\n",
    "\n",
    "Let's try to find the period (`.`) at the end of our `sample_text` again, but this time we will use a backslash (`\\`) in our regular expression to remove the period's special meaning, as shown in the code below:"
   ]
  },
  {
   "cell_type": "code",
   "execution_count": 1,
   "id": "f069013a-e464-4629-823b-87d289e33f2b",
   "metadata": {},
   "outputs": [
    {
     "name": "stdout",
     "output_type": "stream",
     "text": [
      "<_sre.SRE_Match object; span=(41, 42), match='.'>\n"
     ]
    }
   ],
   "source": [
    "# Import re module\n",
    "import re\n",
    "\n",
    "# Sample text\n",
    "sample_text = 'Alice and Walter are walking to the store.'\n",
    "\n",
    "# Create a regular expression object with the regular expression '\\.'\n",
    "regex = re.compile(r'\\.')\n",
    "\n",
    "# Search the sample_text for the regular expression\n",
    "matches = regex.finditer(sample_text)\n",
    "\n",
    "# Print all the matches\n",
    "for match in matches:\n",
    "    print(match)"
   ]
  },
  {
   "cell_type": "markdown",
   "id": "189e62d6-8631-4a02-ad44-62e4dbac66d7",
   "metadata": {},
   "source": [
    "We can see that now, we have managed to find only the period (`.`) at the end of the `sample_text` string, as was intended. \n",
    "\n",
    "To search for any of the other metacharacters we can do exactly the same thing."
   ]
  },
  {
   "cell_type": "markdown",
   "id": "301dd1a1-bdcd-47ea-9e67-01778b7a660d",
   "metadata": {},
   "source": [
    "## YouTube Explanation\n",
    "\n",
    "https://youtu.be/RiSVD9E823Q"
   ]
  },
  {
   "cell_type": "code",
   "execution_count": null,
   "id": "111a6f40-9f0f-42a5-aca4-3893a27e7ea4",
   "metadata": {},
   "outputs": [],
   "source": []
  }
 ],
 "metadata": {
  "kernelspec": {
   "display_name": "UdacityAI",
   "language": "python",
   "name": "udacityai"
  },
  "language_info": {
   "codemirror_mode": {
    "name": "ipython",
    "version": 3
   },
   "file_extension": ".py",
   "mimetype": "text/x-python",
   "name": "python",
   "nbconvert_exporter": "python",
   "pygments_lexer": "ipython3",
   "version": "3.6.13"
  }
 },
 "nbformat": 4,
 "nbformat_minor": 5
}
