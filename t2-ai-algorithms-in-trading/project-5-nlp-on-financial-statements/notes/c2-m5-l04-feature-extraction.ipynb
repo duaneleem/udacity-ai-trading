{
 "cells": [
  {
   "cell_type": "markdown",
   "id": "ca9683e9-a3f8-4903-9c10-26173e0c9e72",
   "metadata": {},
   "source": [
    "# AI for Trading | Module 5 | L04: Feature Extraction"
   ]
  },
  {
   "cell_type": "markdown",
   "id": "6249eee9-8b7b-4229-9833-4c900a755126",
   "metadata": {},
   "source": [
    "## 1. Feature Extraction\n",
    "- https://youtu.be/Bd6TJB8eVLQ\n",
    "\n",
    "\n",
    "## 2. Bag of Words\n",
    "- https://youtu.be/A7M1z8yLl0w\n",
    "\n",
    "\n",
    "## 3. TF-IDF\n",
    "- https://youtu.be/XZBiBIRcACE\n",
    "\n",
    "\n",
    "\n",
    "\n"
   ]
  }
 ],
 "metadata": {
  "kernelspec": {
   "display_name": "UdacityAI",
   "language": "python",
   "name": "udacityai"
  },
  "language_info": {
   "codemirror_mode": {
    "name": "ipython",
    "version": 3
   },
   "file_extension": ".py",
   "mimetype": "text/x-python",
   "name": "python",
   "nbconvert_exporter": "python",
   "pygments_lexer": "ipython3",
   "version": "3.6.13"
  }
 },
 "nbformat": 4,
 "nbformat_minor": 5
}
