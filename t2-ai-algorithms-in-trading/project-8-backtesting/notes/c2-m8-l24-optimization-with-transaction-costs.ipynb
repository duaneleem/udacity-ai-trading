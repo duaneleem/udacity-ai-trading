{
 "cells": [
  {
   "cell_type": "markdown",
   "id": "a1e780f5-1e7e-4440-9241-a2ed6f16e924",
   "metadata": {},
   "source": [
    "# AI for Trading | Module 8 | L24: Optimization with Transaction Costs\n",
    "## 1. Intro\n",
    "In this lesson, we’ll show you how to incorporate transaction costs into portfolio optimization. This will give your backtest a more realistic measure of your alpha’s performance. In addition, we’ll show you some additional ways to design your optimization with efficiency in mind. This is really helpful when backtesting, because having reasonably shorter runtimes allows you to test and iterate on your alphas more quickly.\n",
    "\n",
    "https://youtu.be/WQ95rYDyVSA"
   ]
  },
  {
   "cell_type": "markdown",
   "id": "98dd560d-ea21-4d50-9289-ef0ec5c8773f",
   "metadata": {},
   "source": [
    "## 2. "
   ]
  },
  {
   "cell_type": "code",
   "execution_count": null,
   "id": "71a01b00-5d29-4a85-82ac-feb811491d25",
   "metadata": {},
   "outputs": [],
   "source": []
  }
 ],
 "metadata": {
  "kernelspec": {
   "display_name": "UdacityAI (3.6)",
   "language": "python",
   "name": "udacityai"
  },
  "language_info": {
   "codemirror_mode": {
    "name": "ipython",
    "version": 3
   },
   "file_extension": ".py",
   "mimetype": "text/x-python",
   "name": "python",
   "nbconvert_exporter": "python",
   "pygments_lexer": "ipython3",
   "version": "3.6.15"
  }
 },
 "nbformat": 4,
 "nbformat_minor": 5
}
