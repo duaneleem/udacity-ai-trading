{
 "cells": [
  {
   "cell_type": "markdown",
   "id": "adcf4c16-431e-4ed9-8d8c-2854d6c9f4de",
   "metadata": {},
   "source": [
    "# AI for Trading | Module 8 | Project: Backtesting"
   ]
  },
  {
   "cell_type": "markdown",
   "id": "37eb91e8-a187-46fc-aee8-c737741d2c1d",
   "metadata": {},
   "source": [
    "## 3. Congratulations\n",
    "https://youtu.be/g-a4ZNIPQqw"
   ]
  }
 ],
 "metadata": {
  "kernelspec": {
   "display_name": "UdacityAI (3.6)",
   "language": "python",
   "name": "udacityai"
  },
  "language_info": {
   "codemirror_mode": {
    "name": "ipython",
    "version": 3
   },
   "file_extension": ".py",
   "mimetype": "text/x-python",
   "name": "python",
   "nbconvert_exporter": "python",
   "pygments_lexer": "ipython3",
   "version": "3.6.15"
  }
 },
 "nbformat": 4,
 "nbformat_minor": 5
}
