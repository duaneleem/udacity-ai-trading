{
 "cells": [
  {
   "cell_type": "markdown",
   "metadata": {},
   "source": [
    "# Zipline Pipeline"
   ]
  },
  {
   "cell_type": "markdown",
   "metadata": {},
   "source": [
    "### Introduction\n",
    "\n",
    "On any given trading day, the entire universe of stocks consists of thousands of securities. Usually, you will not be  interested in investing in all the stocks in the entire universe, but rather, you will likely select only a subset of these to invest. For example, you may only want to invest in stocks that have a 10-day average closing price of \\$10.00 or less. Or you may only want to invest in the top 500 securities ranked by some factor.\n",
    "\n",
    "In order to avoid spending a lot of time doing data wrangling to select only the securities you are interested in, people often use **pipelines**. In general, a pipeline is a placeholder for a series of data operations used to filter and rank data according to some factor or factors. \n",
    "\n",
    "In this notebook, you will learn how to work with the **Zipline Pipeline**. Zipline is an open-source algorithmic trading simulator developed by *Quantopian*. We will learn how to use the Zipline Pipeline to filter stock data according to factors. "
   ]
  },
  {
   "cell_type": "markdown",
   "metadata": {},
   "source": [
    "### Install Packages"
   ]
  },
  {
   "cell_type": "code",
   "execution_count": 1,
   "metadata": {
    "scrolled": true,
    "tags": []
   },
   "outputs": [
    {
     "name": "stdout",
     "output_type": "stream",
     "text": [
      "Collecting zipline===1.3.0\n",
      "  Using cached zipline-1.3.0-cp36-cp36m-linux_x86_64.whl\n",
      "Collecting graphviz>=0.9\n",
      "  Using cached graphviz-0.17-py3-none-any.whl (18 kB)\n",
      "Requirement already satisfied: numexpr>=2.6.1 in /opt/conda/envs/UdacityAI/lib/python3.6/site-packages (from zipline===1.3.0->-r requirements.txt (line 1)) (2.7.3)\n",
      "Requirement already satisfied: scipy>=0.17.1 in /opt/conda/envs/UdacityAI/lib/python3.6/site-packages (from zipline===1.3.0->-r requirements.txt (line 1)) (1.5.4)\n",
      "Requirement already satisfied: statsmodels>=0.6.1 in /opt/conda/envs/UdacityAI/lib/python3.6/site-packages (from zipline===1.3.0->-r requirements.txt (line 1)) (0.12.2)\n",
      "Requirement already satisfied: sortedcontainers>=1.4.4 in /opt/conda/envs/UdacityAI/lib/python3.6/site-packages (from zipline===1.3.0->-r requirements.txt (line 1)) (2.4.0)\n",
      "Requirement already satisfied: Mako>=1.0.1 in /opt/conda/envs/UdacityAI/lib/python3.6/site-packages (from zipline===1.3.0->-r requirements.txt (line 1)) (1.1.4)\n",
      "Requirement already satisfied: bottleneck>=1.0.0 in /opt/conda/envs/UdacityAI/lib/python3.6/site-packages (from zipline===1.3.0->-r requirements.txt (line 1)) (1.3.2)\n",
      "Requirement already satisfied: numpy>=1.11.1 in /opt/conda/envs/UdacityAI/lib/python3.6/site-packages (from zipline===1.3.0->-r requirements.txt (line 1)) (1.19.5)\n",
      "Requirement already satisfied: Logbook>=0.12.5 in /opt/conda/envs/UdacityAI/lib/python3.6/site-packages (from zipline===1.3.0->-r requirements.txt (line 1)) (1.5.3)\n",
      "Requirement already satisfied: contextlib2>=0.4.0 in /opt/conda/envs/UdacityAI/lib/python3.6/site-packages (from zipline===1.3.0->-r requirements.txt (line 1)) (21.6.0)\n",
      "Requirement already satisfied: requests>=2.9.1 in /opt/conda/envs/UdacityAI/lib/python3.6/site-packages (from zipline===1.3.0->-r requirements.txt (line 1)) (2.26.0)\n",
      "Requirement already satisfied: pytz>=2016.4 in /opt/conda/envs/UdacityAI/lib/python3.6/site-packages (from zipline===1.3.0->-r requirements.txt (line 1)) (2021.1)\n",
      "Requirement already satisfied: pandas<=0.22,>=0.18.1 in /opt/conda/envs/UdacityAI/lib/python3.6/site-packages (from zipline===1.3.0->-r requirements.txt (line 1)) (0.22.0)\n",
      "Requirement already satisfied: toolz>=0.8.2 in /opt/conda/envs/UdacityAI/lib/python3.6/site-packages (from zipline===1.3.0->-r requirements.txt (line 1)) (0.11.1)\n",
      "Requirement already satisfied: MarkupSafe>=0.23 in /opt/conda/envs/UdacityAI/lib/python3.6/site-packages (from zipline===1.3.0->-r requirements.txt (line 1)) (2.0.1)\n",
      "Requirement already satisfied: sqlalchemy>=1.0.8 in /opt/conda/envs/UdacityAI/lib/python3.6/site-packages (from zipline===1.3.0->-r requirements.txt (line 1)) (1.4.22)\n",
      "Requirement already satisfied: Cython>=0.25.2 in /opt/conda/envs/UdacityAI/lib/python3.6/site-packages (from zipline===1.3.0->-r requirements.txt (line 1)) (0.29.24)\n",
      "Requirement already satisfied: empyrical>=0.5.0 in /opt/conda/envs/UdacityAI/lib/python3.6/site-packages (from zipline===1.3.0->-r requirements.txt (line 1)) (0.5.5)\n",
      "Requirement already satisfied: six>=1.10.0 in /opt/conda/envs/UdacityAI/lib/python3.6/site-packages (from zipline===1.3.0->-r requirements.txt (line 1)) (1.16.0)\n",
      "Requirement already satisfied: pip>=7.1.0 in /opt/conda/envs/UdacityAI/lib/python3.6/site-packages (from zipline===1.3.0->-r requirements.txt (line 1)) (21.2.3)\n",
      "Requirement already satisfied: cyordereddict>=0.2.2 in /opt/conda/envs/UdacityAI/lib/python3.6/site-packages (from zipline===1.3.0->-r requirements.txt (line 1)) (1.0.0)\n",
      "Requirement already satisfied: decorator>=4.0.0 in /opt/conda/envs/UdacityAI/lib/python3.6/site-packages (from zipline===1.3.0->-r requirements.txt (line 1)) (5.0.9)\n",
      "Requirement already satisfied: requests-file>=1.4.1 in /opt/conda/envs/UdacityAI/lib/python3.6/site-packages (from zipline===1.3.0->-r requirements.txt (line 1)) (1.5.1)\n",
      "Requirement already satisfied: trading-calendars>=1.0.1 in /opt/conda/envs/UdacityAI/lib/python3.6/site-packages (from zipline===1.3.0->-r requirements.txt (line 1)) (2.1.1)\n",
      "Requirement already satisfied: networkx<2.0,>=1.9.1 in /opt/conda/envs/UdacityAI/lib/python3.6/site-packages (from zipline===1.3.0->-r requirements.txt (line 1)) (1.11)\n",
      "Collecting bcolz<1,>=0.12.1\n",
      "  Using cached bcolz-0.12.1.tar.gz (622 kB)\n",
      "Requirement already satisfied: click>=4.0.0 in /opt/conda/envs/UdacityAI/lib/python3.6/site-packages (from zipline===1.3.0->-r requirements.txt (line 1)) (8.0.1)\n",
      "Collecting alembic>=0.7.7\n",
      "  Using cached alembic-1.6.5-py2.py3-none-any.whl (164 kB)\n",
      "Requirement already satisfied: intervaltree>=2.1.0 in /opt/conda/envs/UdacityAI/lib/python3.6/site-packages (from zipline===1.3.0->-r requirements.txt (line 1)) (3.1.0)\n",
      "Requirement already satisfied: tables>=3.3.0 in /opt/conda/envs/UdacityAI/lib/python3.6/site-packages (from zipline===1.3.0->-r requirements.txt (line 1)) (3.6.1)\n",
      "Requirement already satisfied: setuptools>18.0 in /opt/conda/envs/UdacityAI/lib/python3.6/site-packages (from zipline===1.3.0->-r requirements.txt (line 1)) (49.6.0.post20210108)\n",
      "Requirement already satisfied: python-dateutil>=2.4.2 in /opt/conda/envs/UdacityAI/lib/python3.6/site-packages (from zipline===1.3.0->-r requirements.txt (line 1)) (2.8.2)\n",
      "Requirement already satisfied: pandas-datareader>=0.2.1 in /opt/conda/envs/UdacityAI/lib/python3.6/site-packages (from zipline===1.3.0->-r requirements.txt (line 1)) (0.8.1)\n",
      "Requirement already satisfied: patsy>=0.4.0 in /opt/conda/envs/UdacityAI/lib/python3.6/site-packages (from zipline===1.3.0->-r requirements.txt (line 1)) (0.5.1)\n",
      "Requirement already satisfied: multipledispatch>=0.4.8 in /opt/conda/envs/UdacityAI/lib/python3.6/site-packages (from zipline===1.3.0->-r requirements.txt (line 1)) (0.6.0)\n",
      "Requirement already satisfied: lru-dict>=1.1.4 in /opt/conda/envs/UdacityAI/lib/python3.6/site-packages (from zipline===1.3.0->-r requirements.txt (line 1)) (1.1.7)\n",
      "Requirement already satisfied: python-editor>=0.3 in /opt/conda/envs/UdacityAI/lib/python3.6/site-packages (from alembic>=0.7.7->zipline===1.3.0->-r requirements.txt (line 1)) (1.0.4)\n",
      "Requirement already satisfied: importlib-metadata in /opt/conda/envs/UdacityAI/lib/python3.6/site-packages (from click>=4.0.0->zipline===1.3.0->-r requirements.txt (line 1)) (4.6.3)\n",
      "Requirement already satisfied: lxml in /opt/conda/envs/UdacityAI/lib/python3.6/site-packages (from pandas-datareader>=0.2.1->zipline===1.3.0->-r requirements.txt (line 1)) (4.6.3)\n",
      "Requirement already satisfied: urllib3<1.27,>=1.21.1 in /opt/conda/envs/UdacityAI/lib/python3.6/site-packages (from requests>=2.9.1->zipline===1.3.0->-r requirements.txt (line 1)) (1.26.6)\n",
      "Requirement already satisfied: idna<4,>=2.5 in /opt/conda/envs/UdacityAI/lib/python3.6/site-packages (from requests>=2.9.1->zipline===1.3.0->-r requirements.txt (line 1)) (3.2)\n",
      "Requirement already satisfied: certifi>=2017.4.17 in /opt/conda/envs/UdacityAI/lib/python3.6/site-packages (from requests>=2.9.1->zipline===1.3.0->-r requirements.txt (line 1)) (2021.5.30)\n",
      "Requirement already satisfied: charset-normalizer~=2.0.0 in /opt/conda/envs/UdacityAI/lib/python3.6/site-packages (from requests>=2.9.1->zipline===1.3.0->-r requirements.txt (line 1)) (2.0.4)\n",
      "Requirement already satisfied: greenlet!=0.4.17 in /opt/conda/envs/UdacityAI/lib/python3.6/site-packages (from sqlalchemy>=1.0.8->zipline===1.3.0->-r requirements.txt (line 1)) (1.1.1)\n",
      "Requirement already satisfied: zipp>=0.5 in /opt/conda/envs/UdacityAI/lib/python3.6/site-packages (from importlib-metadata->click>=4.0.0->zipline===1.3.0->-r requirements.txt (line 1)) (3.5.0)\n",
      "Requirement already satisfied: typing-extensions>=3.6.4 in /opt/conda/envs/UdacityAI/lib/python3.6/site-packages (from importlib-metadata->click>=4.0.0->zipline===1.3.0->-r requirements.txt (line 1)) (3.10.0.0)\n",
      "Building wheels for collected packages: bcolz\n",
      "  Building wheel for bcolz (setup.py) ... \u001b[?25lerror\n",
      "\u001b[31m  ERROR: Command errored out with exit status 1:\n",
      "   command: /opt/conda/envs/UdacityAI/bin/python -u -c 'import io, os, sys, setuptools, tokenize; sys.argv[0] = '\"'\"'/tmp/pip-install-cu03oti5/bcolz_8ea7c44ce21f49c884fc2df8f6508633/setup.py'\"'\"'; __file__='\"'\"'/tmp/pip-install-cu03oti5/bcolz_8ea7c44ce21f49c884fc2df8f6508633/setup.py'\"'\"';f = getattr(tokenize, '\"'\"'open'\"'\"', open)(__file__) if os.path.exists(__file__) else io.StringIO('\"'\"'from setuptools import setup; setup()'\"'\"');code = f.read().replace('\"'\"'\\r\\n'\"'\"', '\"'\"'\\n'\"'\"');f.close();exec(compile(code, __file__, '\"'\"'exec'\"'\"'))' bdist_wheel -d /tmp/pip-wheel-v6dljbvm\n",
      "       cwd: /tmp/pip-install-cu03oti5/bcolz_8ea7c44ce21f49c884fc2df8f6508633/\n",
      "  Complete output (83 lines):\n",
      "  running bdist_wheel\n",
      "  running build\n",
      "  running build_py\n",
      "  creating build\n",
      "  creating build/lib.linux-x86_64-3.6\n",
      "  creating build/lib.linux-x86_64-3.6/bcolz\n",
      "  copying bcolz/py2help_tests.py -> build/lib.linux-x86_64-3.6/bcolz\n",
      "  copying bcolz/arrayprint.py -> build/lib.linux-x86_64-3.6/bcolz\n",
      "  copying bcolz/utils.py -> build/lib.linux-x86_64-3.6/bcolz\n",
      "  copying bcolz/version.py -> build/lib.linux-x86_64-3.6/bcolz\n",
      "  copying bcolz/ctable.py -> build/lib.linux-x86_64-3.6/bcolz\n",
      "  copying bcolz/toplevel.py -> build/lib.linux-x86_64-3.6/bcolz\n",
      "  copying bcolz/attrs.py -> build/lib.linux-x86_64-3.6/bcolz\n",
      "  copying bcolz/chunked_eval.py -> build/lib.linux-x86_64-3.6/bcolz\n",
      "  copying bcolz/__init__.py -> build/lib.linux-x86_64-3.6/bcolz\n",
      "  copying bcolz/defaults.py -> build/lib.linux-x86_64-3.6/bcolz\n",
      "  copying bcolz/py2help.py -> build/lib.linux-x86_64-3.6/bcolz\n",
      "  creating build/lib.linux-x86_64-3.6/bcolz/tests\n",
      "  copying bcolz/tests/all.py -> build/lib.linux-x86_64-3.6/bcolz/tests\n",
      "  copying bcolz/tests/test_ndcarray.py -> build/lib.linux-x86_64-3.6/bcolz/tests\n",
      "  copying bcolz/tests/test_ctable.py -> build/lib.linux-x86_64-3.6/bcolz/tests\n",
      "  copying bcolz/tests/common.py -> build/lib.linux-x86_64-3.6/bcolz/tests\n",
      "  copying bcolz/tests/test_attrs.py -> build/lib.linux-x86_64-3.6/bcolz/tests\n",
      "  copying bcolz/tests/test_carray_objects.py -> build/lib.linux-x86_64-3.6/bcolz/tests\n",
      "  copying bcolz/tests/test_queries.py -> build/lib.linux-x86_64-3.6/bcolz/tests\n",
      "  copying bcolz/tests/__init__.py -> build/lib.linux-x86_64-3.6/bcolz/tests\n",
      "  copying bcolz/tests/test_carray.py -> build/lib.linux-x86_64-3.6/bcolz/tests\n",
      "  copying bcolz/carray_ext.pxd -> build/lib.linux-x86_64-3.6/bcolz\n",
      "  running build_ext\n",
      "  skipping 'bcolz/carray_ext.c' Cython extension (up-to-date)\n",
      "  building 'bcolz.carray_ext' extension\n",
      "  creating build/temp.linux-x86_64-3.6\n",
      "  creating build/temp.linux-x86_64-3.6/bcolz\n",
      "  creating build/temp.linux-x86_64-3.6/c-blosc\n",
      "  creating build/temp.linux-x86_64-3.6/c-blosc/blosc\n",
      "  creating build/temp.linux-x86_64-3.6/c-blosc/internal-complibs\n",
      "  creating build/temp.linux-x86_64-3.6/c-blosc/internal-complibs/lz4-r119\n",
      "  creating build/temp.linux-x86_64-3.6/c-blosc/internal-complibs/snappy-1.1.1\n",
      "  creating build/temp.linux-x86_64-3.6/c-blosc/internal-complibs/zlib-1.2.8\n",
      "  gcc -pthread -B /opt/conda/envs/UdacityAI/compiler_compat -Wl,--sysroot=/ -Wsign-compare -DNDEBUG -g -fwrapv -O3 -Wall -Wstrict-prototypes -fPIC -DHAVE_LZ4=1 -DHAVE_SNAPPY=1 -DHAVE_ZLIB=1 -Ibcolz -Ic-blosc/blosc -Ic-blosc/internal-complibs/snappy-1.1.1 -Ic-blosc/internal-complibs/zlib-1.2.8 -Ic-blosc/internal-complibs/lz4-r119 -I/opt/conda/envs/UdacityAI/lib/python3.6/site-packages/numpy/core/include -I/opt/conda/envs/UdacityAI/include/python3.6m -c bcolz/carray_ext.c -o build/temp.linux-x86_64-3.6/bcolz/carray_ext.o\n",
      "  In file included from /opt/conda/envs/UdacityAI/lib/python3.6/site-packages/numpy/core/include/numpy/ndarraytypes.h:1822,\n",
      "                   from /opt/conda/envs/UdacityAI/lib/python3.6/site-packages/numpy/core/include/numpy/ndarrayobject.h:12,\n",
      "                   from /opt/conda/envs/UdacityAI/lib/python3.6/site-packages/numpy/core/include/numpy/arrayobject.h:4,\n",
      "                   from bcolz/carray_ext.c:242:\n",
      "  /opt/conda/envs/UdacityAI/lib/python3.6/site-packages/numpy/core/include/numpy/npy_1_7_deprecated_api.h:17:2: warning: #warning \"Using deprecated NumPy API, disable it with \" \"#define NPY_NO_DEPRECATED_API NPY_1_7_API_VERSION\" [-Wcpp]\n",
      "     17 | #warning \"Using deprecated NumPy API, disable it with \" \\\n",
      "        |  ^~~~~~~\n",
      "  gcc -pthread -B /opt/conda/envs/UdacityAI/compiler_compat -Wl,--sysroot=/ -Wsign-compare -DNDEBUG -g -fwrapv -O3 -Wall -Wstrict-prototypes -fPIC -DHAVE_LZ4=1 -DHAVE_SNAPPY=1 -DHAVE_ZLIB=1 -Ibcolz -Ic-blosc/blosc -Ic-blosc/internal-complibs/snappy-1.1.1 -Ic-blosc/internal-complibs/zlib-1.2.8 -Ic-blosc/internal-complibs/lz4-r119 -I/opt/conda/envs/UdacityAI/lib/python3.6/site-packages/numpy/core/include -I/opt/conda/envs/UdacityAI/include/python3.6m -c c-blosc/blosc/blosclz.c -o build/temp.linux-x86_64-3.6/c-blosc/blosc/blosclz.o\n",
      "  gcc -pthread -B /opt/conda/envs/UdacityAI/compiler_compat -Wl,--sysroot=/ -Wsign-compare -DNDEBUG -g -fwrapv -O3 -Wall -Wstrict-prototypes -fPIC -DHAVE_LZ4=1 -DHAVE_SNAPPY=1 -DHAVE_ZLIB=1 -Ibcolz -Ic-blosc/blosc -Ic-blosc/internal-complibs/snappy-1.1.1 -Ic-blosc/internal-complibs/zlib-1.2.8 -Ic-blosc/internal-complibs/lz4-r119 -I/opt/conda/envs/UdacityAI/lib/python3.6/site-packages/numpy/core/include -I/opt/conda/envs/UdacityAI/include/python3.6m -c c-blosc/blosc/shuffle.c -o build/temp.linux-x86_64-3.6/c-blosc/blosc/shuffle.o\n",
      "  gcc -pthread -B /opt/conda/envs/UdacityAI/compiler_compat -Wl,--sysroot=/ -Wsign-compare -DNDEBUG -g -fwrapv -O3 -Wall -Wstrict-prototypes -fPIC -DHAVE_LZ4=1 -DHAVE_SNAPPY=1 -DHAVE_ZLIB=1 -Ibcolz -Ic-blosc/blosc -Ic-blosc/internal-complibs/snappy-1.1.1 -Ic-blosc/internal-complibs/zlib-1.2.8 -Ic-blosc/internal-complibs/lz4-r119 -I/opt/conda/envs/UdacityAI/lib/python3.6/site-packages/numpy/core/include -I/opt/conda/envs/UdacityAI/include/python3.6m -c c-blosc/blosc/blosc.c -o build/temp.linux-x86_64-3.6/c-blosc/blosc/blosc.o\n",
      "  In file included from c-blosc/blosc/blosc.c:24:\n",
      "  c-blosc/internal-complibs/lz4-r119/lz4.h:179:1: warning: function declaration isn’t a prototype [-Wstrict-prototypes]\n",
      "    179 | void* LZ4_createStream();\n",
      "        | ^~~~\n",
      "  c-blosc/internal-complibs/lz4-r119/lz4.h:237:1: warning: function declaration isn’t a prototype [-Wstrict-prototypes]\n",
      "    237 | void* LZ4_createStreamDecode();\n",
      "        | ^~~~\n",
      "  gcc -pthread -B /opt/conda/envs/UdacityAI/compiler_compat -Wl,--sysroot=/ -Wsign-compare -DNDEBUG -g -fwrapv -O3 -Wall -Wstrict-prototypes -fPIC -DHAVE_LZ4=1 -DHAVE_SNAPPY=1 -DHAVE_ZLIB=1 -Ibcolz -Ic-blosc/blosc -Ic-blosc/internal-complibs/snappy-1.1.1 -Ic-blosc/internal-complibs/zlib-1.2.8 -Ic-blosc/internal-complibs/lz4-r119 -I/opt/conda/envs/UdacityAI/lib/python3.6/site-packages/numpy/core/include -I/opt/conda/envs/UdacityAI/include/python3.6m -c c-blosc/internal-complibs/lz4-r119/lz4.c -o build/temp.linux-x86_64-3.6/c-blosc/internal-complibs/lz4-r119/lz4.o\n",
      "  In file included from c-blosc/internal-complibs/lz4-r119/lz4.c:163:\n",
      "  c-blosc/internal-complibs/lz4-r119/lz4.h:179:1: warning: function declaration isn’t a prototype [-Wstrict-prototypes]\n",
      "    179 | void* LZ4_createStream();\n",
      "        | ^~~~\n",
      "  c-blosc/internal-complibs/lz4-r119/lz4.h:237:1: warning: function declaration isn’t a prototype [-Wstrict-prototypes]\n",
      "    237 | void* LZ4_createStreamDecode();\n",
      "        | ^~~~\n",
      "  c-blosc/internal-complibs/lz4-r119/lz4.c:687:7: warning: function declaration isn’t a prototype [-Wstrict-prototypes]\n",
      "    687 | void* LZ4_createStream()\n",
      "        |       ^~~~~~~~~~~~~~~~\n",
      "  c-blosc/internal-complibs/lz4-r119/lz4.c:1077:7: warning: function declaration isn’t a prototype [-Wstrict-prototypes]\n",
      "   1077 | void* LZ4_createStreamDecode()\n",
      "        |       ^~~~~~~~~~~~~~~~~~~~~~\n",
      "  gcc -pthread -B /opt/conda/envs/UdacityAI/compiler_compat -Wl,--sysroot=/ -Wsign-compare -DNDEBUG -g -fwrapv -O3 -Wall -Wstrict-prototypes -fPIC -DHAVE_LZ4=1 -DHAVE_SNAPPY=1 -DHAVE_ZLIB=1 -Ibcolz -Ic-blosc/blosc -Ic-blosc/internal-complibs/snappy-1.1.1 -Ic-blosc/internal-complibs/zlib-1.2.8 -Ic-blosc/internal-complibs/lz4-r119 -I/opt/conda/envs/UdacityAI/lib/python3.6/site-packages/numpy/core/include -I/opt/conda/envs/UdacityAI/include/python3.6m -c c-blosc/internal-complibs/lz4-r119/lz4hc.c -o build/temp.linux-x86_64-3.6/c-blosc/internal-complibs/lz4-r119/lz4hc.o\n",
      "  In file included from c-blosc/internal-complibs/lz4-r119/lz4hc.c:142:\n",
      "  c-blosc/internal-complibs/lz4-r119/lz4.h:179:1: warning: function declaration isn’t a prototype [-Wstrict-prototypes]\n",
      "    179 | void* LZ4_createStream();\n",
      "        | ^~~~\n",
      "  c-blosc/internal-complibs/lz4-r119/lz4.h:237:1: warning: function declaration isn’t a prototype [-Wstrict-prototypes]\n",
      "    237 | void* LZ4_createStreamDecode();\n",
      "        | ^~~~\n",
      "  gcc -pthread -B /opt/conda/envs/UdacityAI/compiler_compat -Wl,--sysroot=/ -Wsign-compare -DNDEBUG -g -fwrapv -O3 -Wall -Wstrict-prototypes -fPIC -DHAVE_LZ4=1 -DHAVE_SNAPPY=1 -DHAVE_ZLIB=1 -Ibcolz -Ic-blosc/blosc -Ic-blosc/internal-complibs/snappy-1.1.1 -Ic-blosc/internal-complibs/zlib-1.2.8 -Ic-blosc/internal-complibs/lz4-r119 -I/opt/conda/envs/UdacityAI/lib/python3.6/site-packages/numpy/core/include -I/opt/conda/envs/UdacityAI/include/python3.6m -c c-blosc/internal-complibs/snappy-1.1.1/snappy.cc -o build/temp.linux-x86_64-3.6/c-blosc/internal-complibs/snappy-1.1.1/snappy.o\n",
      "  gcc: fatal error: cannot execute ‘cc1plus’: execvp: No such file or directory\n",
      "  compilation terminated.\n",
      "  error: command 'gcc' failed with exit status 1\n",
      "  ----------------------------------------\u001b[0m\n",
      "\u001b[31m  ERROR: Failed building wheel for bcolz\u001b[0m\n",
      "\u001b[?25h  Running setup.py clean for bcolz\n",
      "Failed to build bcolz\n",
      "Installing collected packages: bcolz, alembic, zipline, graphviz\n",
      "    Running setup.py install for bcolz ... \u001b[?25lerror\n",
      "\u001b[31m    ERROR: Command errored out with exit status 1:\n",
      "     command: /opt/conda/envs/UdacityAI/bin/python -u -c 'import io, os, sys, setuptools, tokenize; sys.argv[0] = '\"'\"'/tmp/pip-install-cu03oti5/bcolz_8ea7c44ce21f49c884fc2df8f6508633/setup.py'\"'\"'; __file__='\"'\"'/tmp/pip-install-cu03oti5/bcolz_8ea7c44ce21f49c884fc2df8f6508633/setup.py'\"'\"';f = getattr(tokenize, '\"'\"'open'\"'\"', open)(__file__) if os.path.exists(__file__) else io.StringIO('\"'\"'from setuptools import setup; setup()'\"'\"');code = f.read().replace('\"'\"'\\r\\n'\"'\"', '\"'\"'\\n'\"'\"');f.close();exec(compile(code, __file__, '\"'\"'exec'\"'\"'))' install --record /tmp/pip-record-1xma5_t7/install-record.txt --single-version-externally-managed --compile --install-headers /opt/conda/envs/UdacityAI/include/python3.6m/bcolz\n",
      "         cwd: /tmp/pip-install-cu03oti5/bcolz_8ea7c44ce21f49c884fc2df8f6508633/\n",
      "    Complete output (83 lines):\n",
      "    running install\n",
      "    running build\n",
      "    running build_py\n",
      "    creating build\n",
      "    creating build/lib.linux-x86_64-3.6\n",
      "    creating build/lib.linux-x86_64-3.6/bcolz\n",
      "    copying bcolz/py2help_tests.py -> build/lib.linux-x86_64-3.6/bcolz\n",
      "    copying bcolz/arrayprint.py -> build/lib.linux-x86_64-3.6/bcolz\n",
      "    copying bcolz/utils.py -> build/lib.linux-x86_64-3.6/bcolz\n",
      "    copying bcolz/version.py -> build/lib.linux-x86_64-3.6/bcolz\n",
      "    copying bcolz/ctable.py -> build/lib.linux-x86_64-3.6/bcolz\n",
      "    copying bcolz/toplevel.py -> build/lib.linux-x86_64-3.6/bcolz\n",
      "    copying bcolz/attrs.py -> build/lib.linux-x86_64-3.6/bcolz\n",
      "    copying bcolz/chunked_eval.py -> build/lib.linux-x86_64-3.6/bcolz\n",
      "    copying bcolz/__init__.py -> build/lib.linux-x86_64-3.6/bcolz\n",
      "    copying bcolz/defaults.py -> build/lib.linux-x86_64-3.6/bcolz\n",
      "    copying bcolz/py2help.py -> build/lib.linux-x86_64-3.6/bcolz\n",
      "    creating build/lib.linux-x86_64-3.6/bcolz/tests\n",
      "    copying bcolz/tests/all.py -> build/lib.linux-x86_64-3.6/bcolz/tests\n",
      "    copying bcolz/tests/test_ndcarray.py -> build/lib.linux-x86_64-3.6/bcolz/tests\n",
      "    copying bcolz/tests/test_ctable.py -> build/lib.linux-x86_64-3.6/bcolz/tests\n",
      "    copying bcolz/tests/common.py -> build/lib.linux-x86_64-3.6/bcolz/tests\n",
      "    copying bcolz/tests/test_attrs.py -> build/lib.linux-x86_64-3.6/bcolz/tests\n",
      "    copying bcolz/tests/test_carray_objects.py -> build/lib.linux-x86_64-3.6/bcolz/tests\n",
      "    copying bcolz/tests/test_queries.py -> build/lib.linux-x86_64-3.6/bcolz/tests\n",
      "    copying bcolz/tests/__init__.py -> build/lib.linux-x86_64-3.6/bcolz/tests\n",
      "    copying bcolz/tests/test_carray.py -> build/lib.linux-x86_64-3.6/bcolz/tests\n",
      "    copying bcolz/carray_ext.pxd -> build/lib.linux-x86_64-3.6/bcolz\n",
      "    running build_ext\n",
      "    skipping 'bcolz/carray_ext.c' Cython extension (up-to-date)\n",
      "    building 'bcolz.carray_ext' extension\n",
      "    creating build/temp.linux-x86_64-3.6\n",
      "    creating build/temp.linux-x86_64-3.6/bcolz\n",
      "    creating build/temp.linux-x86_64-3.6/c-blosc\n",
      "    creating build/temp.linux-x86_64-3.6/c-blosc/blosc\n",
      "    creating build/temp.linux-x86_64-3.6/c-blosc/internal-complibs\n",
      "    creating build/temp.linux-x86_64-3.6/c-blosc/internal-complibs/lz4-r119\n",
      "    creating build/temp.linux-x86_64-3.6/c-blosc/internal-complibs/snappy-1.1.1\n",
      "    creating build/temp.linux-x86_64-3.6/c-blosc/internal-complibs/zlib-1.2.8\n",
      "    gcc -pthread -B /opt/conda/envs/UdacityAI/compiler_compat -Wl,--sysroot=/ -Wsign-compare -DNDEBUG -g -fwrapv -O3 -Wall -Wstrict-prototypes -fPIC -DHAVE_LZ4=1 -DHAVE_SNAPPY=1 -DHAVE_ZLIB=1 -Ibcolz -Ic-blosc/blosc -Ic-blosc/internal-complibs/snappy-1.1.1 -Ic-blosc/internal-complibs/zlib-1.2.8 -Ic-blosc/internal-complibs/lz4-r119 -I/opt/conda/envs/UdacityAI/lib/python3.6/site-packages/numpy/core/include -I/opt/conda/envs/UdacityAI/include/python3.6m -c bcolz/carray_ext.c -o build/temp.linux-x86_64-3.6/bcolz/carray_ext.o\n",
      "    In file included from /opt/conda/envs/UdacityAI/lib/python3.6/site-packages/numpy/core/include/numpy/ndarraytypes.h:1822,\n",
      "                     from /opt/conda/envs/UdacityAI/lib/python3.6/site-packages/numpy/core/include/numpy/ndarrayobject.h:12,\n",
      "                     from /opt/conda/envs/UdacityAI/lib/python3.6/site-packages/numpy/core/include/numpy/arrayobject.h:4,\n",
      "                     from bcolz/carray_ext.c:242:\n",
      "    /opt/conda/envs/UdacityAI/lib/python3.6/site-packages/numpy/core/include/numpy/npy_1_7_deprecated_api.h:17:2: warning: #warning \"Using deprecated NumPy API, disable it with \" \"#define NPY_NO_DEPRECATED_API NPY_1_7_API_VERSION\" [-Wcpp]\n",
      "       17 | #warning \"Using deprecated NumPy API, disable it with \" \\\n",
      "          |  ^~~~~~~\n",
      "    gcc -pthread -B /opt/conda/envs/UdacityAI/compiler_compat -Wl,--sysroot=/ -Wsign-compare -DNDEBUG -g -fwrapv -O3 -Wall -Wstrict-prototypes -fPIC -DHAVE_LZ4=1 -DHAVE_SNAPPY=1 -DHAVE_ZLIB=1 -Ibcolz -Ic-blosc/blosc -Ic-blosc/internal-complibs/snappy-1.1.1 -Ic-blosc/internal-complibs/zlib-1.2.8 -Ic-blosc/internal-complibs/lz4-r119 -I/opt/conda/envs/UdacityAI/lib/python3.6/site-packages/numpy/core/include -I/opt/conda/envs/UdacityAI/include/python3.6m -c c-blosc/blosc/blosclz.c -o build/temp.linux-x86_64-3.6/c-blosc/blosc/blosclz.o\n",
      "    gcc -pthread -B /opt/conda/envs/UdacityAI/compiler_compat -Wl,--sysroot=/ -Wsign-compare -DNDEBUG -g -fwrapv -O3 -Wall -Wstrict-prototypes -fPIC -DHAVE_LZ4=1 -DHAVE_SNAPPY=1 -DHAVE_ZLIB=1 -Ibcolz -Ic-blosc/blosc -Ic-blosc/internal-complibs/snappy-1.1.1 -Ic-blosc/internal-complibs/zlib-1.2.8 -Ic-blosc/internal-complibs/lz4-r119 -I/opt/conda/envs/UdacityAI/lib/python3.6/site-packages/numpy/core/include -I/opt/conda/envs/UdacityAI/include/python3.6m -c c-blosc/blosc/shuffle.c -o build/temp.linux-x86_64-3.6/c-blosc/blosc/shuffle.o\n",
      "    gcc -pthread -B /opt/conda/envs/UdacityAI/compiler_compat -Wl,--sysroot=/ -Wsign-compare -DNDEBUG -g -fwrapv -O3 -Wall -Wstrict-prototypes -fPIC -DHAVE_LZ4=1 -DHAVE_SNAPPY=1 -DHAVE_ZLIB=1 -Ibcolz -Ic-blosc/blosc -Ic-blosc/internal-complibs/snappy-1.1.1 -Ic-blosc/internal-complibs/zlib-1.2.8 -Ic-blosc/internal-complibs/lz4-r119 -I/opt/conda/envs/UdacityAI/lib/python3.6/site-packages/numpy/core/include -I/opt/conda/envs/UdacityAI/include/python3.6m -c c-blosc/blosc/blosc.c -o build/temp.linux-x86_64-3.6/c-blosc/blosc/blosc.o\n",
      "    In file included from c-blosc/blosc/blosc.c:24:\n",
      "    c-blosc/internal-complibs/lz4-r119/lz4.h:179:1: warning: function declaration isn’t a prototype [-Wstrict-prototypes]\n",
      "      179 | void* LZ4_createStream();\n",
      "          | ^~~~\n",
      "    c-blosc/internal-complibs/lz4-r119/lz4.h:237:1: warning: function declaration isn’t a prototype [-Wstrict-prototypes]\n",
      "      237 | void* LZ4_createStreamDecode();\n",
      "          | ^~~~\n",
      "    gcc -pthread -B /opt/conda/envs/UdacityAI/compiler_compat -Wl,--sysroot=/ -Wsign-compare -DNDEBUG -g -fwrapv -O3 -Wall -Wstrict-prototypes -fPIC -DHAVE_LZ4=1 -DHAVE_SNAPPY=1 -DHAVE_ZLIB=1 -Ibcolz -Ic-blosc/blosc -Ic-blosc/internal-complibs/snappy-1.1.1 -Ic-blosc/internal-complibs/zlib-1.2.8 -Ic-blosc/internal-complibs/lz4-r119 -I/opt/conda/envs/UdacityAI/lib/python3.6/site-packages/numpy/core/include -I/opt/conda/envs/UdacityAI/include/python3.6m -c c-blosc/internal-complibs/lz4-r119/lz4.c -o build/temp.linux-x86_64-3.6/c-blosc/internal-complibs/lz4-r119/lz4.o\n",
      "    In file included from c-blosc/internal-complibs/lz4-r119/lz4.c:163:\n",
      "    c-blosc/internal-complibs/lz4-r119/lz4.h:179:1: warning: function declaration isn’t a prototype [-Wstrict-prototypes]\n",
      "      179 | void* LZ4_createStream();\n",
      "          | ^~~~\n",
      "    c-blosc/internal-complibs/lz4-r119/lz4.h:237:1: warning: function declaration isn’t a prototype [-Wstrict-prototypes]\n",
      "      237 | void* LZ4_createStreamDecode();\n",
      "          | ^~~~\n",
      "    c-blosc/internal-complibs/lz4-r119/lz4.c:687:7: warning: function declaration isn’t a prototype [-Wstrict-prototypes]\n",
      "      687 | void* LZ4_createStream()\n",
      "          |       ^~~~~~~~~~~~~~~~\n",
      "    c-blosc/internal-complibs/lz4-r119/lz4.c:1077:7: warning: function declaration isn’t a prototype [-Wstrict-prototypes]\n",
      "     1077 | void* LZ4_createStreamDecode()\n",
      "          |       ^~~~~~~~~~~~~~~~~~~~~~\n",
      "    gcc -pthread -B /opt/conda/envs/UdacityAI/compiler_compat -Wl,--sysroot=/ -Wsign-compare -DNDEBUG -g -fwrapv -O3 -Wall -Wstrict-prototypes -fPIC -DHAVE_LZ4=1 -DHAVE_SNAPPY=1 -DHAVE_ZLIB=1 -Ibcolz -Ic-blosc/blosc -Ic-blosc/internal-complibs/snappy-1.1.1 -Ic-blosc/internal-complibs/zlib-1.2.8 -Ic-blosc/internal-complibs/lz4-r119 -I/opt/conda/envs/UdacityAI/lib/python3.6/site-packages/numpy/core/include -I/opt/conda/envs/UdacityAI/include/python3.6m -c c-blosc/internal-complibs/lz4-r119/lz4hc.c -o build/temp.linux-x86_64-3.6/c-blosc/internal-complibs/lz4-r119/lz4hc.o\n",
      "    In file included from c-blosc/internal-complibs/lz4-r119/lz4hc.c:142:\n",
      "    c-blosc/internal-complibs/lz4-r119/lz4.h:179:1: warning: function declaration isn’t a prototype [-Wstrict-prototypes]\n",
      "      179 | void* LZ4_createStream();\n",
      "          | ^~~~\n",
      "    c-blosc/internal-complibs/lz4-r119/lz4.h:237:1: warning: function declaration isn’t a prototype [-Wstrict-prototypes]\n",
      "      237 | void* LZ4_createStreamDecode();\n",
      "          | ^~~~\n",
      "    gcc -pthread -B /opt/conda/envs/UdacityAI/compiler_compat -Wl,--sysroot=/ -Wsign-compare -DNDEBUG -g -fwrapv -O3 -Wall -Wstrict-prototypes -fPIC -DHAVE_LZ4=1 -DHAVE_SNAPPY=1 -DHAVE_ZLIB=1 -Ibcolz -Ic-blosc/blosc -Ic-blosc/internal-complibs/snappy-1.1.1 -Ic-blosc/internal-complibs/zlib-1.2.8 -Ic-blosc/internal-complibs/lz4-r119 -I/opt/conda/envs/UdacityAI/lib/python3.6/site-packages/numpy/core/include -I/opt/conda/envs/UdacityAI/include/python3.6m -c c-blosc/internal-complibs/snappy-1.1.1/snappy.cc -o build/temp.linux-x86_64-3.6/c-blosc/internal-complibs/snappy-1.1.1/snappy.o\n",
      "    gcc: fatal error: cannot execute ‘cc1plus’: execvp: No such file or directory\n",
      "    compilation terminated.\n",
      "    error: command 'gcc' failed with exit status 1\n",
      "    ----------------------------------------\u001b[0m\n",
      "\u001b[31mERROR: Command errored out with exit status 1: /opt/conda/envs/UdacityAI/bin/python -u -c 'import io, os, sys, setuptools, tokenize; sys.argv[0] = '\"'\"'/tmp/pip-install-cu03oti5/bcolz_8ea7c44ce21f49c884fc2df8f6508633/setup.py'\"'\"'; __file__='\"'\"'/tmp/pip-install-cu03oti5/bcolz_8ea7c44ce21f49c884fc2df8f6508633/setup.py'\"'\"';f = getattr(tokenize, '\"'\"'open'\"'\"', open)(__file__) if os.path.exists(__file__) else io.StringIO('\"'\"'from setuptools import setup; setup()'\"'\"');code = f.read().replace('\"'\"'\\r\\n'\"'\"', '\"'\"'\\n'\"'\"');f.close();exec(compile(code, __file__, '\"'\"'exec'\"'\"'))' install --record /tmp/pip-record-1xma5_t7/install-record.txt --single-version-externally-managed --compile --install-headers /opt/conda/envs/UdacityAI/include/python3.6m/bcolz Check the logs for full command output.\u001b[0m\n",
      "\u001b[?25h"
     ]
    }
   ],
   "source": [
    "import sys\n",
    "!{sys.executable} -m pip install -r requirements.txt"
   ]
  },
  {
   "cell_type": "markdown",
   "metadata": {},
   "source": [
    "# Loading Data with Zipline\n",
    "\n",
    "Before we build our pipeline with Zipline, we will first see how we can load the stock data we are going to use into Zipline. Zipline uses **Data Bundles** to make it easy to use different data sources. A data bundle is a collection of pricing data, adjustment data, and an asset database. Zipline employs data bundles to preload data used to run backtests and store data for future runs. Zipline comes with a few data bundles by default but it also has the ability to ingest new bundles. The first step to using a data bundle is to ingest the data. Zipline's ingestion process will start by downloading the data or by loading data files from your local machine. It will then pass the data to a set of writer objects that converts the original data to Zipline’s internal format (`bcolz` for pricing data, and `SQLite` for split/merger/dividend data) that hs been optimized for speed. This new data is written to a standard location that Zipline can find. By default, the new data is written to a subdirectory of `ZIPLINE_ROOT/data/<bundle>`, where `<bundle>` is the name given to the bundle ingested and the subdirectory is named with the current date. This allows Zipline to look at older data and run backtests on older copies of the data. Running a backtest with an old ingestion makes it easier to reproduce backtest results later. \n",
    "\n",
    "In this notebook, we will be using stock data from **Quotemedia**. In the Udacity Workspace you will find that the stock data from Quotemedia has already been ingested into Zipline. Therefore, in the code below we will use Zipline's `bundles.load()` function to load our previously ingested stock data from Quotemedia. In order to use the `bundles.load()` function we first need to do a couple of things. First, we need to specify the name of the bundle previously ingested. In this case, the name of the Quotemedia data bundle is `eod-quotemedia`:"
   ]
  },
  {
   "cell_type": "code",
   "execution_count": null,
   "metadata": {},
   "outputs": [],
   "source": [
    "# Specify the bundle name\n",
    "bundle_name = 'eod-quotemedia'"
   ]
  },
  {
   "cell_type": "markdown",
   "metadata": {},
   "source": [
    "Second, we need to register the data bundle and its ingest function with Zipline, using the `bundles.register()` function. The ingest function is responsible for loading the data into memory and passing it to a set of writer objects provided by Zipline to convert the data to Zipline’s internal format. Since the original Quotemedia data was contained in `.csv` files, we will use the `csvdir_equities()` function to generate the ingest function for our Quotemedia data bundle. In addition, since Quotemedia's `.csv` files contained daily stock data, we will set the time frame for our ingest function, to `daily`."
   ]
  },
  {
   "cell_type": "code",
   "execution_count": null,
   "metadata": {},
   "outputs": [],
   "source": [
    "from zipline.data import bundles\n",
    "from zipline.data.bundles.csvdir import csvdir_equities\n",
    "\n",
    "# Create an ingest function \n",
    "ingest_func = csvdir_equities(['daily'], bundle_name)\n",
    "\n",
    "# Register the data bundle and its ingest function\n",
    "bundles.register(bundle_name, ingest_func);"
   ]
  },
  {
   "cell_type": "markdown",
   "metadata": {},
   "source": [
    "Once our data bundle and ingest function are registered, we can load our data using the `bundles.load()` function. Since this function loads our previously ingested data, we need to set `ZIPLINE_ROOT` to the path of the most recent ingested data. The most recent data is located in the `cwd/../../data/project_4_eod/` directory, where `cwd` is the current working directory. We will specify this location using the `os.environ[]` command."
   ]
  },
  {
   "cell_type": "code",
   "execution_count": null,
   "metadata": {},
   "outputs": [],
   "source": [
    "import os\n",
    "\n",
    "# Set environment variable 'ZIPLINE_ROOT' to the path where the most recent data is located\n",
    "os.environ['ZIPLINE_ROOT'] = os.path.join(os.getcwd(), '..', '..', 'data', 'project_4_eod')\n",
    "\n",
    "# Load the data bundle\n",
    "bundle_data = bundles.load(bundle_name)"
   ]
  },
  {
   "cell_type": "markdown",
   "metadata": {},
   "source": [
    "# Building an Empty Pipeline\n",
    "\n",
    "Once we have loaded our data, we can start building our Zipline pipeline. We begin by creating an empty Pipeline object using Zipline's `Pipeline` class. A Pipeline object represents a collection of named expressions to be compiled and executed by a Pipeline Engine. The `Pipeline(columns=None, screen=None)` class takes two optional parameters, `columns` and `screen`. The `columns` parameter is a dictionary used to indicate the intial columns to use, and the `screen` parameter is used to setup a screen to exclude unwanted data. \n",
    "\n",
    "In the code below we will create a `screen` for our pipeline using Zipline's built-in `.AverageDollarVolume()` class. We will use the `.AverageDollarVolume()` class to produce a 60-day Average Dollar Volume of closing prices for every stock in our universe. We then use the `.top(10)` attribute to specify that we want to filter down our universe each day to just the top 10 assets. Therefore, this screen will act as a filter to exclude data from our stock universe each day. The average dollar volume is a good first pass filter to avoid illiquid assets."
   ]
  },
  {
   "cell_type": "code",
   "execution_count": null,
   "metadata": {},
   "outputs": [],
   "source": [
    "from zipline.pipeline import Pipeline\n",
    "from zipline.pipeline.factors import AverageDollarVolume\n",
    "\n",
    "# Create a screen for our Pipeline\n",
    "universe = AverageDollarVolume(window_length = 60).top(10)\n",
    "\n",
    "# Create an empty Pipeline with the given screen\n",
    "pipeline = Pipeline(screen = universe)"
   ]
  },
  {
   "cell_type": "markdown",
   "metadata": {},
   "source": [
    "In the code above we have named our Pipeline object `pipeline` so that we can identify it later when we make computations. Remember a Pipeline is an object that represents computations we would like to perform every day. A freshly-constructed pipeline, like the one we just created, is empty. This means it doesn’t yet know how to compute anything, and it won’t produce any values if we ask for its outputs. In the sections below, we will see how to provide our Pipeline with expressions to compute."
   ]
  },
  {
   "cell_type": "markdown",
   "metadata": {},
   "source": [
    "# Factors and Filters\n",
    "\n",
    "The `.AverageDollarVolume()` class used above is an example of a factor. In this section we will take a look at two types of computations that can be expressed in a pipeline: **Factors** and **Filters**. In general, factors and filters represent functions that produce a value from an asset in a moment in time, but are distinguished by the types of values they produce. Let's start by looking at factors.\n",
    "\n",
    "\n",
    "### Factors\n",
    "\n",
    "In general, a **Factor** is a function from an asset at a particular moment of time to a numerical value. A simple example of a factor is the most recent price of a security. Given a security and a specific moment in time, the most recent price is a number. Another example is the 10-day average trading volume of a security. Factors are most commonly used to assign values to securities which can then be combined with filters or other factors. The fact that you can combine multiple factors makes it easy for you to form new custom factors that can be as complex as you like. For example, constructing a Factor that computes the average of two other Factors can be simply illustrated usingthe pseudocode below:\n",
    "\n",
    "```python\n",
    "f1 = factor1(...)\n",
    "f2 = factor2(...)  \n",
    "average = (f1 + f2) / 2.0  \n",
    "```\n",
    "\n",
    "### Filters\n",
    "\n",
    "In general, a **Filter** is a function from an asset at a particular moment in time to a boolean value (True of False). An example of a filter is a function indicating whether a security's price is below \\$5. Given a security and a specific moment in time, this evaluates to either **True** or **False**. Filters are most commonly used for selecting sets of securities to include or exclude from your stock universe. Filters are usually applied using comparison operators, such as <, <=, !=, ==, >, >=."
   ]
  },
  {
   "cell_type": "markdown",
   "metadata": {},
   "source": [
    "# Viewing the Pipeline as a Diagram\n",
    "\n",
    "Zipline's Pipeline class comes with the attribute `.show_graph()` that allows you to render the Pipeline as a Directed Acyclic Graph (DAG). This graph is specified using the DOT language and consequently we need a DOT graph layout program to view the rendered image. In the code below, we will use the Graphviz pakage to render the graph produced by the `.show_graph()` attribute. Graphviz is an open-source package for drawing graphs specified in DOT language scripts."
   ]
  },
  {
   "cell_type": "code",
   "execution_count": null,
   "metadata": {},
   "outputs": [],
   "source": [
    "import graphviz\n",
    "\n",
    "# Render the pipeline as a DAG\n",
    "pipeline.show_graph()"
   ]
  },
  {
   "cell_type": "markdown",
   "metadata": {},
   "source": [
    "Right now, our pipeline is empty and it only contains a screen. Therefore, when we rendered our `pipeline`, we only see the diagram of our `screen`:\n",
    "\n",
    "```python\n",
    "AverageDollarVolume(window_length = 60).top(10)\n",
    "```\n",
    "\n",
    "By default, the `.AverageDollarVolume()` class uses the `USEquityPricing` dataset, containing daily trading prices and volumes, to compute the average dollar volume:\n",
    "\n",
    "```python\n",
    "average_dollar_volume = np.nansum(close_price * volume, axis=0) / len(close_price)\n",
    "```\n",
    "The top of the diagram reflects the fact that the `.AverageDollarVolume()` class gets its inputs (closing price and volume) from the `USEquityPricing` dataset. The bottom of the diagram shows that the output is determined by the expression `x_0 <= 10`. This expression reflects the fact that we used `.top(10)` as a filter in our `screen`. We refer to each box in the diagram as a Term. "
   ]
  },
  {
   "cell_type": "markdown",
   "metadata": {},
   "source": [
    "# Datasets and Dataloaders               \n",
    "\n",
    "One of the features of Zipline's Pipeline is that it separates the actual source of the stock data from the abstract description of that dataset. Therefore, Zipline employs **DataSets** and **Loaders** for those datasets. `DataSets` are just abstract collections of sentinel values describing the columns/types for a particular dataset.  While a `loader` is an object which, given a request for a particular chunk of a dataset, can actually get the requested data. For example, the loader used for the `USEquityPricing` dataset, is the `USEquityPricingLoader` class. The `USEquityPricingLoader` class will delegate the loading of baselines and adjustments to lower-level subsystems that know how to get the pricing data in the default formats used by Zipline (`bcolz` for pricing data, and `SQLite` for split/merger/dividend data). As we saw in the beginning of this notebook, data bundles automatically convert the stock data into `bcolz` and `SQLite` formats. It is important to note that the `USEquityPricingLoader` class can also be used to load daily OHLCV data from other datasets, not just from the `USEquityPricing` dataset. Simliarly, it is also  possible to write different loaders for the same dataset and use those instead of the default loader. Zipline contains lots of other loaders to allow you to load data from different datasets.\n",
    "\n",
    "In the code below, we will use `USEquityPricingLoader(BcolzDailyBarWriter, SQLiteAdjustmentWriter)` to create a loader from a `bcolz` equity pricing directory and a `SQLite` adjustments path. Both the `BcolzDailyBarWriter` and `SQLiteAdjustmentWriter` determine the path of the pricing and adjustment data. Since we will be using the Quotemedia data bundle, we will use the `bundle_data.equity_daily_bar_reader` and the `bundle_data.adjustment_reader` as our `BcolzDailyBarWriter` and `SQLiteAdjustmentWriter`, respectively."
   ]
  },
  {
   "cell_type": "code",
   "execution_count": null,
   "metadata": {},
   "outputs": [],
   "source": [
    "from zipline.pipeline.loaders import USEquityPricingLoader\n",
    "\n",
    "# Set the dataloader\n",
    "pricing_loader = USEquityPricingLoader(bundle_data.equity_daily_bar_reader, bundle_data.adjustment_reader)"
   ]
  },
  {
   "cell_type": "markdown",
   "metadata": {},
   "source": [
    "# Pipeline Engine\n",
    "\n",
    "Zipline employs computation engines for executing Pipelines. In the code below we will use Zipline's `SimplePipelineEngine()` class as the engine to execute our pipeline. The `SimplePipelineEngine(get_loader, calendar, asset_finder)` class associates the chosen data loader with the corresponding dataset and a trading calendar. The `get_loader` parameter must be a callable function that is given a loadable term and returns a `PipelineLoader` to use to retrieve the raw data for that term in the pipeline. In our case, we will be using the `pricing_loader` defined above, we therefore, create a function called `choose_loader` that returns our `pricing_loader`. The function also checks that the data that is being requested corresponds to OHLCV data, otherwise it retunrs an error. The `calendar` parameter must be a `DatetimeIndex` array of dates to consider as trading days when computing a range between a fixed `start_date` and `end_date`. In our case, we will be using the same trading days as those used in the NYSE. We will use Zipline's `get_calendar('NYSE')` function to retrieve the trading days used by the NYSE. We then use the `.all_sessions` attribute to get the `DatetimeIndex` from our `trading_calendar` and pass it to the `calendar` parameter. Finally, the `asset_finder` parameter determines which assets are in the top-level universe of our stock data at any point in time. Since we are using the Quotemedia data bundle, we set this parameter to the `bundle_data.asset_finder`."
   ]
  },
  {
   "cell_type": "code",
   "execution_count": null,
   "metadata": {},
   "outputs": [],
   "source": [
    "from zipline.utils.calendars import get_calendar\n",
    "from zipline.pipeline.data import USEquityPricing\n",
    "from zipline.pipeline.engine import SimplePipelineEngine\n",
    "\n",
    "# Define the function for the get_loader parameter\n",
    "def choose_loader(column):\n",
    "    if column not in USEquityPricing.columns:\n",
    "        raise Exception('Column not in USEquityPricing')\n",
    "    return pricing_loader\n",
    "\n",
    "# Set the trading calendar\n",
    "trading_calendar = get_calendar('NYSE')\n",
    "\n",
    "# Create a Pipeline engine\n",
    "engine = SimplePipelineEngine(get_loader = choose_loader,\n",
    "                              calendar = trading_calendar.all_sessions,\n",
    "                              asset_finder = bundle_data.asset_finder)"
   ]
  },
  {
   "cell_type": "markdown",
   "metadata": {},
   "source": [
    "# Running a Pipeline\n",
    "\n",
    "Once we have chosen our engine we are ready to run or execute our pipeline. We can run our pipeline by using the `.run_pipeline()` attribute of the `SimplePipelineEngine` class. In particular, the `SimplePipelineEngine.run_pipeline(pipeline, start_date, end_date)` implements the following algorithm for executing pipelines:\n",
    "\n",
    "\n",
    "1. Build a dependency graph of all terms in the `pipeline`. In this step, the graph is sorted topologically to determine the order in which we can compute the terms.\n",
    "\n",
    "\n",
    "2. Ask our AssetFinder for a “lifetimes matrix”, which should contain, for each date between `start_date` and `end_date`, a boolean value for each known asset indicating whether the asset existed on that date.\n",
    "\n",
    "\n",
    "3. Compute each term in the dependency order determined in step 1, caching the results in a a dictionary so that they can be fed into future terms.\n",
    "\n",
    "\n",
    "4. For each date, determine the number of assets passing the `pipeline` screen. The sum, $N$, of all these values is the total number of rows in our output Pandas Dataframe, so we pre-allocate an output array of length $N$ for each factor in terms.\n",
    "\n",
    "\n",
    "5. Fill in the arrays allocated in step 4 by copying computed values from our output cache into the corresponding rows.\n",
    "\n",
    "\n",
    "6. Stick the values computed in step 5 into a Pandas DataFrame and return it.\n",
    "\n",
    "In the code below, we run our pipeline for a single day, so our `start_date` and `end_date` will be the same. We then print some information about our `pipeline_output`."
   ]
  },
  {
   "cell_type": "code",
   "execution_count": null,
   "metadata": {},
   "outputs": [],
   "source": [
    "import pandas as pd\n",
    "\n",
    "# Set the start and end dates\n",
    "start_date = pd.Timestamp('2016-01-05', tz = 'utc')\n",
    "end_date = pd.Timestamp('2016-01-05', tz = 'utc')\n",
    "\n",
    "# Run our pipeline for the given start and end dates\n",
    "pipeline_output = engine.run_pipeline(pipeline, start_date, end_date)\n",
    "\n",
    "# We print information about the pipeline output\n",
    "print('The pipeline output has type:', type(pipeline_output), '\\n')\n",
    "\n",
    "# We print whether the pipeline output is a MultiIndex Dataframe\n",
    "print('Is the pipeline output a MultiIndex Dataframe:', isinstance(pipeline_output.index, pd.core.index.MultiIndex), '\\n')\n",
    "\n",
    "# If the pipeline output is a MultiIndex Dataframe we print the two levels of the index\n",
    "if isinstance(pipeline_output.index, pd.core.index.MultiIndex):\n",
    "\n",
    "    # We print the index level 0\n",
    "    print('Index Level 0:\\n\\n', pipeline_output.index.get_level_values(0), '\\n')\n",
    "\n",
    "    # We print the index level 1\n",
    "    print('Index Level 1:\\n\\n', pipeline_output.index.get_level_values(1), '\\n')"
   ]
  },
  {
   "cell_type": "markdown",
   "metadata": {},
   "source": [
    "We can see above that the return value of `.run_pipeline()` is a `MultiIndex` Pandas DataFrame containing a row for each asset that passed our pipeline’s screen. We can also see that the 0th level of the index contains the date and the 1st level of the index contains the tickers. In general, the returned Pandas DataFrame will also contain a column for each factor and filter we add to the pipeline using  `Pipeline.add()`. At this point we haven't added any factors or filters to our pipeline, consequently, the Pandas Dataframe will have no columns. In the following sections we will see how to add factors and filters to our pipeline."
   ]
  },
  {
   "cell_type": "markdown",
   "metadata": {},
   "source": [
    "# Get Tickers\n",
    "\n",
    "We saw in the previous section, that the tickers of the stocks that passed our pipeline’s screen are contained in the 1st level of the index. Therefore, we can use the Pandas `.get_level_values(1).values.tolist()` method to get the tickers of those stocks and save them to a list."
   ]
  },
  {
   "cell_type": "code",
   "execution_count": null,
   "metadata": {},
   "outputs": [],
   "source": [
    "# Get the values in index level 1 and save them to a list\n",
    "universe_tickers = pipeline_output.index.get_level_values(1).values.tolist()\n",
    "\n",
    "# Display the tickers\n",
    "universe_tickers"
   ]
  },
  {
   "cell_type": "markdown",
   "metadata": {},
   "source": [
    "# Get Data\n",
    "\n",
    "Now that we have the tickers for the stocks that passed our pipeline’s screen, we can get the historical stock data for those tickers from our data bundle. In order to get the historical data we need to use Zipline's `DataPortal` class. A `DataPortal` is an interface to all of the data that a Zipline simulation needs. In the code below, we will create a `DataPortal` and `get_pricing` function to get historical stock prices for our tickers. \n",
    "\n",
    "We have already seen most of the parameters used below when we create the `DataPortal`, so we won't explain them again here. The only new parameter is `first_trading_day`. The `first_trading_day` parameter is a `pd.Timestamp` indicating the first trading day for the simulation. We will set the first trading day to the first trading day in the data bundle. For more information on the `DataPortal` class see the [Zipline documentation](https://www.zipline.io/appendix.html?highlight=dataportal#zipline.data.data_portal.DataPortal)"
   ]
  },
  {
   "cell_type": "code",
   "execution_count": null,
   "metadata": {},
   "outputs": [],
   "source": [
    "from zipline.data.data_portal import DataPortal\n",
    "\n",
    "# Create a data portal\n",
    "data_portal = DataPortal(bundle_data.asset_finder,\n",
    "                         trading_calendar = trading_calendar,\n",
    "                         first_trading_day = bundle_data.equity_daily_bar_reader.first_trading_day,\n",
    "                         equity_daily_reader = bundle_data.equity_daily_bar_reader,\n",
    "                         adjustment_reader = bundle_data.adjustment_reader)"
   ]
  },
  {
   "cell_type": "markdown",
   "metadata": {},
   "source": [
    "Now that we have created a `data_portal` we will create a helper function, `get_pricing`, that gets the historical data from the `data_portal` for a given set of `start_date` and `end_date`. The `get_pricing` function takes various parameters: \n",
    "\n",
    "```python\n",
    "def get_pricing(data_portal, trading_calendar, assets, start_date, end_date, field='close')\n",
    "```\n",
    "\n",
    "\n",
    "The first two parameters, `data_portal` and `trading_calendar`, have already been defined above. The third paramter, `assets`, is a list of tickers. In our case we will use the tickers from the output of our pipeline, namely, `universe_tickers`. The fourth and fifth parameters are strings specifying the `start_date` and `end_date`. The function converts these two strings into Timestamps with a Custom Business Day frequency. The last parameter, `field`, is a string used to indicate which field to return. In our case we want to get the closing price, so we set `field='close`. \n",
    "\n",
    "The function returns the historical stock price data using the `.get_history_window()` attribute of the `DataPortal` class. This attribute returns a Pandas Dataframe containing the requested history window with the data fully adjusted. The `bar_count` parameter is an integer indicating the number of days to return. The number of days determines the number of rows of the returned dataframe. Both the `frequency` and `data_frequency` parameters are strings that indicate the frequency of the data to query, *i.e.* whether the data is in `daily` or `minute` intervals."
   ]
  },
  {
   "cell_type": "code",
   "execution_count": null,
   "metadata": {},
   "outputs": [],
   "source": [
    "def get_pricing(data_portal, trading_calendar, assets, start_date, end_date, field='close'):\n",
    "    \n",
    "    # Set the given start and end dates to Timestamps. The frequency string C is used to\n",
    "    # indicate that a CustomBusinessDay DateOffset is used\n",
    "    end_dt = pd.Timestamp(end_date, tz='UTC', freq='C')\n",
    "    start_dt = pd.Timestamp(start_date, tz='UTC', freq='C')\n",
    "\n",
    "    # Get the locations of the start and end dates\n",
    "    end_loc = trading_calendar.closes.index.get_loc(end_dt)\n",
    "    start_loc = trading_calendar.closes.index.get_loc(start_dt)\n",
    "\n",
    "    # return the historical data for the given window\n",
    "    return data_portal.get_history_window(assets=assets, end_dt=end_dt, bar_count=end_loc - start_loc,\n",
    "                                          frequency='1d',\n",
    "                                          field=field,\n",
    "                                          data_frequency='daily')\n",
    "\n",
    "# Get the historical data for the given window\n",
    "historical_data = get_pricing(data_portal, trading_calendar, universe_tickers,\n",
    "                              start_date='2011-01-05', end_date='2016-01-05')\n",
    "# Display the historical data\n",
    "historical_data"
   ]
  },
  {
   "cell_type": "markdown",
   "metadata": {},
   "source": [
    "# Date Alignment\n",
    "\n",
    "When pipeline returns with a date of, e.g., `2016-01-07` this includes data that would be known as of before the **market open** on `2016-01-07`. As such, if you ask for latest known values on each day, it will return the closing price from the day before and label the date `2016-01-07`. All factor values assume to be run prior to the open on the labeled day with data known before that point in time."
   ]
  },
  {
   "cell_type": "markdown",
   "metadata": {},
   "source": [
    "# Adding Factors and Filters\n",
    "\n",
    "Now that you know how build a pipeline and execute it, in this section we will see how we can add factors and filters to our pipeline. These factors and filters will determine the computations we want our pipeline to compute each day.\n",
    "\n",
    "We can add both factors and filters to our pipeline using the `.add(column, name)` method of the `Pipeline` class. The `column` parameter represetns the factor or filter to add to the pipeline. The `name` parameter is a string that determines the name of the column in the output Pandas Dataframe for that factor of fitler. As mentioned earlier, each factor and filter will appear as a column in the output dataframe of our pipeline. Let's start by adding a factor to our pipeline.\n",
    "\n",
    "### Factors\n",
    "\n",
    "In the code below, we will use Zipline's built-in `SimpleMovingAverage` factor to create a factor that computes the 15-day mean closing price of securities. We will then add this factor to our pipeline and use `.show_graph()` to see a diagram of our pipeline with the factor added. "
   ]
  },
  {
   "cell_type": "code",
   "execution_count": null,
   "metadata": {},
   "outputs": [],
   "source": [
    "from zipline.pipeline.factors import SimpleMovingAverage\n",
    "\n",
    "# Create a factor that computes the 15-day mean closing price of securities\n",
    "mean_close_15 = SimpleMovingAverage(inputs = [USEquityPricing.close], window_length = 15)\n",
    "\n",
    "# Add the factor to our pipeline\n",
    "pipeline.add(mean_close_15, '15 Day MCP')\n",
    "\n",
    "# Render the pipeline as a DAG\n",
    "pipeline.show_graph()"
   ]
  },
  {
   "cell_type": "markdown",
   "metadata": {},
   "source": [
    "In the diagram above we can clearly see the factor we have added. Now, we can run our pipeline again and see its output. The pipeline is run in exactly the same way we did before. "
   ]
  },
  {
   "cell_type": "code",
   "execution_count": null,
   "metadata": {},
   "outputs": [],
   "source": [
    "# Set starting and end dates\n",
    "start_date = pd.Timestamp('2014-01-06', tz='utc')\n",
    "end_date = pd.Timestamp('2016-01-05', tz='utc')\n",
    "\n",
    "# Run our pipeline for the given start and end dates\n",
    "output = engine.run_pipeline(pipeline, start_date, end_date)\n",
    "\n",
    "# Display the pipeline output\n",
    "output.head()"
   ]
  },
  {
   "cell_type": "markdown",
   "metadata": {},
   "source": [
    "We can see that now our output dataframe contains a column with the name `15 Day MCP`, which is the name we gave to our factor before. This ouput dataframe from our pipeline gives us the 15-day mean closing price of the securities that passed our `screen`.\n",
    "\n",
    "### Filters\n",
    "\n",
    "Filters are created and added to the pipeline in the same way as factors. In the code below, we create a filter that returns `True` whenever the 15-day average closing price is above \\$100. Remember, a filter produces a `True` or `False` value for each security every day. We will then add this filter to our pipeline and use `.show_graph()` to see a diagram of our pipeline with the filter added."
   ]
  },
  {
   "cell_type": "code",
   "execution_count": null,
   "metadata": {},
   "outputs": [],
   "source": [
    "# Create a Filter that returns True whenever the 15-day average closing price is above $100\n",
    "high_mean = mean_close_15 > 100\n",
    "\n",
    "# Add the filter to our pipeline\n",
    "pipeline.add(high_mean, 'High Mean')\n",
    "\n",
    "# Render the pipeline as a DAG\n",
    "pipeline.show_graph()"
   ]
  },
  {
   "cell_type": "markdown",
   "metadata": {},
   "source": [
    "In the diagram above we can clearly see the fiter we have added. Now, we can run our pipeline again and see its output. The pipeline is run in exactly the same way we did before. "
   ]
  },
  {
   "cell_type": "code",
   "execution_count": null,
   "metadata": {},
   "outputs": [],
   "source": [
    "# Set starting and end dates\n",
    "start_date = pd.Timestamp('2014-01-06', tz='utc')\n",
    "end_date = pd.Timestamp('2016-01-05', tz='utc')\n",
    "\n",
    "# Run our pipeline for the given start and end dates\n",
    "output = engine.run_pipeline(pipeline, start_date, end_date)\n",
    "\n",
    "# Display the pipeline output\n",
    "output.head()"
   ]
  },
  {
   "cell_type": "markdown",
   "metadata": {},
   "source": [
    "We can see that now our output dataframe contains a two columns, one for the filter and one for the factor. The new column has the name `High Mean`, which is the name we gave to our filter before. Notice that the filter column only contains Boolean values, where only the securities with a 15-day average closing price above \\$100 have `True` values."
   ]
  }
 ],
 "metadata": {
  "kernelspec": {
   "display_name": "UdacityAI",
   "language": "python",
   "name": "udacityai"
  },
  "language_info": {
   "codemirror_mode": {
    "name": "ipython",
    "version": 3
   },
   "file_extension": ".py",
   "mimetype": "text/x-python",
   "name": "python",
   "nbconvert_exporter": "python",
   "pygments_lexer": "ipython3",
   "version": "3.6.13"
  }
 },
 "nbformat": 4,
 "nbformat_minor": 4
}
