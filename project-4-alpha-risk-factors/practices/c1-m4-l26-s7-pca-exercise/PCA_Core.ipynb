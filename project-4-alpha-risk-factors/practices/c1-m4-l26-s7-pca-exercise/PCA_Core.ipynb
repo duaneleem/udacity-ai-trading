{
 "cells": [
  {
   "cell_type": "code",
   "execution_count": 1,
   "metadata": {},
   "outputs": [
    {
     "ename": "ModuleNotFoundError",
     "evalue": "No module named 'matplotlib'",
     "output_type": "error",
     "traceback": [
      "\u001b[0;31m---------------------------------------------------------------------------\u001b[0m",
      "\u001b[0;31mModuleNotFoundError\u001b[0m                       Traceback (most recent call last)",
      "\u001b[0;32m<ipython-input-1-6bcf1ae207e2>\u001b[0m in \u001b[0;36m<module>\u001b[0;34m()\u001b[0m\n\u001b[1;32m      1\u001b[0m \u001b[0;32mimport\u001b[0m \u001b[0mnumpy\u001b[0m \u001b[0;32mas\u001b[0m \u001b[0mnp\u001b[0m\u001b[0;34m\u001b[0m\u001b[0;34m\u001b[0m\u001b[0m\n\u001b[1;32m      2\u001b[0m \u001b[0;32mfrom\u001b[0m \u001b[0mscipy\u001b[0m\u001b[0;34m.\u001b[0m\u001b[0mstats\u001b[0m \u001b[0;32mimport\u001b[0m \u001b[0mnorm\u001b[0m\u001b[0;34m\u001b[0m\u001b[0;34m\u001b[0m\u001b[0m\n\u001b[0;32m----> 3\u001b[0;31m \u001b[0;32mimport\u001b[0m \u001b[0mmatplotlib\u001b[0m\u001b[0;34m.\u001b[0m\u001b[0mpylab\u001b[0m \u001b[0;32mas\u001b[0m \u001b[0mplt\u001b[0m\u001b[0;34m\u001b[0m\u001b[0;34m\u001b[0m\u001b[0m\n\u001b[0m\u001b[1;32m      4\u001b[0m \u001b[0;32mimport\u001b[0m \u001b[0mpandas\u001b[0m \u001b[0;32mas\u001b[0m \u001b[0mpd\u001b[0m\u001b[0;34m\u001b[0m\u001b[0;34m\u001b[0m\u001b[0m\n\u001b[1;32m      5\u001b[0m \u001b[0;32mfrom\u001b[0m \u001b[0mbokeh\u001b[0m\u001b[0;34m.\u001b[0m\u001b[0mlayouts\u001b[0m \u001b[0;32mimport\u001b[0m \u001b[0mrow\u001b[0m\u001b[0;34m,\u001b[0m \u001b[0mwidgetbox\u001b[0m\u001b[0;34m,\u001b[0m \u001b[0mlayout\u001b[0m\u001b[0;34m,\u001b[0m \u001b[0mgridplot\u001b[0m\u001b[0;34m\u001b[0m\u001b[0;34m\u001b[0m\u001b[0m\n",
      "\u001b[0;31mModuleNotFoundError\u001b[0m: No module named 'matplotlib'"
     ]
    }
   ],
   "source": [
    "import numpy as np\n",
    "from scipy.stats import norm\n",
    "import matplotlib.pylab as plt\n",
    "import pandas as pd\n",
    "from bokeh.layouts import row, widgetbox, layout, gridplot\n",
    "from bokeh.models import CustomJS, Slider\n",
    "from bokeh.plotting import figure, output_file, show, ColumnDataSource\n",
    "from bokeh.models.glyphs import MultiLine\n",
    "from bokeh.io import output_notebook\n",
    "from bokeh.models.widgets import Div\n",
    "%matplotlib inline\n",
    "output_notebook()"
   ]
  },
  {
   "cell_type": "markdown",
   "metadata": {},
   "source": [
    "## Create Fake Data\n",
    "Let's start by generating a wee fake dataset."
   ]
  },
  {
   "cell_type": "code",
   "execution_count": 2,
   "metadata": {},
   "outputs": [],
   "source": [
    "num_data = 5\n",
    "X = norm.rvs(size=(num_data,2), random_state=4)*2\n",
    "X = np.dot(X, np.linalg.cholesky([[1, 0.8], [0.8, 0.8]]))\n",
    "m = X.mean(axis=0)\n",
    "X = X - m"
   ]
  },
  {
   "cell_type": "markdown",
   "metadata": {},
   "source": [
    "Let's take a look at the data we generated."
   ]
  },
  {
   "cell_type": "code",
   "execution_count": 3,
   "metadata": {},
   "outputs": [
    {
     "data": {
      "text/plain": [
       "array([[ 1.87346497,  0.55034968],\n",
       "       [ 0.09035918,  0.70526742],\n",
       "       [-2.39950719, -1.11727317],\n",
       "       [ 0.63472617,  0.62924876],\n",
       "       [-0.19904312, -0.76759269]])"
      ]
     },
     "execution_count": 3,
     "metadata": {},
     "output_type": "execute_result"
    }
   ],
   "source": [
    "X"
   ]
  },
  {
   "cell_type": "code",
   "execution_count": 4,
   "metadata": {
    "scrolled": true
   },
   "outputs": [
    {
     "data": {
      "text/plain": [
       "<matplotlib.collections.PathCollection at 0x7f68ae3be0b8>"
      ]
     },
     "execution_count": 4,
     "metadata": {},
     "output_type": "execute_result"
    },
    {
     "data": {
      "image/png": "[encoded data removed]",
      "text/plain": [
       "<matplotlib.figure.Figure at 0x7f68dc26fcc0>"
      ]
     },
     "metadata": {
      "needs_background": "light"
     },
     "output_type": "display_data"
    }
   ],
   "source": [
    "plt.scatter(X[:, 0],X[:, 1])"
   ]
  },
  {
   "cell_type": "markdown",
   "metadata": {},
   "source": [
    "## An Interactive Plot\n",
    "Now we'll create an interactive plot with these data."
   ]
  },
  {
   "cell_type": "code",
   "execution_count": 5,
   "metadata": {},
   "outputs": [
    {
     "data": {
      "text/html": [
       "\n",
       "<div class=\"bk-root\">\n",
       "    <div class=\"bk-plotdiv\" id=\"a940bdcb-90ef-465c-a291-4d027b6a2444\"></div>\n",
       "</div>"
      ]
     },
     "metadata": {},
     "output_type": "display_data"
    },
    {
     "data": {
      "application/javascript": [
       "(function(root) {\n",
       "  function embed_document(root) {\n",
       "    \n",
       "  var docs_json = {\"940de949-e21b-4215-8007-ff3df2b14b52\":{\"roots\":{\"references\":[{\"attributes\":{\"fill_alpha\":{\"value\":0.6},\"fill_color\":{\"value\":\"navy\"},\"line_alpha\":{\"value\":0.6},\"line_color\":{\"value\":\"navy\"},\"size\":{\"units\":\"screen\",\"value\":5},\"x\":{\"field\":\"x0\"},\"y\":{\"field\":\"x1\"}},\"id\":\"265e1386-3bfd-4d87-bef7-0aafb7c91063\",\"type\":\"Circle\"},{\"attributes\":{\"fill_alpha\":{\"value\":0.6},\"fill_color\":{\"value\":\"firebrick\"},\"line_alpha\":{\"value\":0.6},\"line_color\":{\"value\":\"firebrick\"},\"x\":{\"field\":\"z0\"},\"y\":{\"field\":\"z1\"}},\"id\":\"f85df45a-0e41-4990-a817-7a355549790e\",\"type\":\"Circle\"},{\"attributes\":{\"fill_alpha\":{\"value\":0.1},\"fill_color\":{\"value\":\"#1f77b4\"},\"line_alpha\":{\"value\":0.1},\"line_color\":{\"value\":\"#1f77b4\"},\"size\":{\"units\":\"screen\",\"value\":5},\"x\":{\"field\":\"x0\"},\"y\":{\"field\":\"x1\"}},\"id\":\"8f2e41c9-23c2-4a84-8800-587c5aa57294\",\"type\":\"Circle\"},{\"attributes\":{\"data_source\":{\"id\":\"20d5a297-8739-48c9-802c-d0ef2d9f7277\",\"type\":\"ColumnDataSource\"},\"glyph\":{\"id\":\"265e1386-3bfd-4d87-bef7-0aafb7c91063\",\"type\":\"Circle\"},\"hover_glyph\":null,\"muted_glyph\":null,\"nonselection_glyph\":{\"id\":\"8f2e41c9-23c2-4a84-8800-587c5aa57294\",\"type\":\"Circle\"},\"selection_glyph\":null,\"view\":{\"id\":\"beea0bd4-a401-4e68-83d3-9e80e407d265\",\"type\":\"CDSView\"}},\"id\":\"a1e3bc7d-ac19-4b52-9e45-52514e12e5b4\",\"type\":\"GlyphRenderer\"},{\"attributes\":{\"source\":{\"id\":\"20d5a297-8739-48c9-802c-d0ef2d9f7277\",\"type\":\"ColumnDataSource\"}},\"id\":\"beea0bd4-a401-4e68-83d3-9e80e407d265\",\"type\":\"CDSView\"},{\"attributes\":{},\"id\":\"abc39cc2-e380-44b1-9bbc-c476a4415453\",\"type\":\"BasicTickFormatter\"},{\"attributes\":{\"plot\":null,\"text\":\"\"},\"id\":\"d58e1753-a7fc-49d9-b3f0-9ccfeb5e24f9\",\"type\":\"Title\"},{\"attributes\":{},\"id\":\"31c6af8a-a55e-4e24-9a6c-e4f9edb2b06e\",\"type\":\"BasicTickFormatter\"},{\"attributes\":{\"line_alpha\":0.5,\"x\":{\"field\":\"z0\"},\"y\":{\"field\":\"z1\"}},\"id\":\"3b116239-03f2-497f-8d1f-081430ba26fe\",\"type\":\"Line\"},{\"attributes\":{\"line_alpha\":0.1,\"line_color\":\"#1f77b4\",\"x\":{\"field\":\"z0\"},\"y\":{\"field\":\"z1\"}},\"id\":\"2588fd10-8adf-4142-8b1a-60d78588f7b1\",\"type\":\"Line\"},{\"attributes\":{\"data_source\":{\"id\":\"20d5a297-8739-48c9-802c-d0ef2d9f7277\",\"type\":\"ColumnDataSource\"},\"glyph\":{\"id\":\"3b116239-03f2-497f-8d1f-081430ba26fe\",\"type\":\"Line\"},\"hover_glyph\":null,\"muted_glyph\":null,\"nonselection_glyph\":{\"id\":\"2588fd10-8adf-4142-8b1a-60d78588f7b1\",\"type\":\"Line\"},\"selection_glyph\":null,\"view\":{\"id\":\"23823ae0-004e-4ccf-8ccb-0554808c4930\",\"type\":\"CDSView\"}},\"id\":\"386c6e2c-519b-4d5b-b725-10eda9ad42c0\",\"type\":\"GlyphRenderer\"},{\"attributes\":{\"line_color\":{\"value\":\"#8073ac\"},\"xs\":{\"field\":\"x0s\"},\"ys\":{\"field\":\"x1s\"}},\"id\":\"2aab157b-f679-472d-ab7a-c4521edb6a1b\",\"type\":\"MultiLine\"},{\"attributes\":{\"source\":{\"id\":\"20d5a297-8739-48c9-802c-d0ef2d9f7277\",\"type\":\"ColumnDataSource\"}},\"id\":\"23823ae0-004e-4ccf-8ccb-0554808c4930\",\"type\":\"CDSView\"},{\"attributes\":{\"args\":{\"ang\":{\"id\":\"805fb396-04f2-42ac-9024-79de98515d51\",\"type\":\"Slider\"},\"source\":{\"id\":\"20d5a297-8739-48c9-802c-d0ef2d9f7277\",\"type\":\"ColumnDataSource\"}},\"code\":\"\\n    var data = source.data;\\n    var x0 = data['x0']\\n    var x1 = data['x1']\\n    \\n    var d = data['d']\\n    \\n    var z0 = data['z0']\\n    var z1 = data['z1']\\n    \\n    var x0s = data['x0s']\\n    var x1s = data['x1s']\\n    \\n    var A = ang.value*Math.PI/180;\\n\\n    var w = [Math.cos(A), Math.sin(A)];\\n\\n    for (var i = 0; i < x0.length; i++) {\\n        d[i] = x0[i]*w[0] + x1[i]*w[1];\\n        z0[i] = w[0]*d[i];\\n        z1[i] = w[1]*d[i];\\n        x0s[i] = [x0[i], z0[i]];\\n        x1s[i] = [x1[i], z1[i]];\\n    }\\n\\n    data['z0'] = z0\\n    data['z1'] = z1\\n    data['x0s'] = x0s\\n    data['x1s'] = x1s\\n    data['d'] = d\\n    \\n    source.change.emit();\\n\"},\"id\":\"610af2fe-fa3d-4acb-ba90-5afbdff286b3\",\"type\":\"CustomJS\"},{\"attributes\":{\"height\":95,\"width\":200},\"id\":\"e8486868-a642-4e88-acce-65875a7c34cb\",\"type\":\"Div\"},{\"attributes\":{\"data_source\":{\"id\":\"20d5a297-8739-48c9-802c-d0ef2d9f7277\",\"type\":\"ColumnDataSource\"},\"glyph\":{\"id\":\"2aab157b-f679-472d-ab7a-c4521edb6a1b\",\"type\":\"MultiLine\"},\"hover_glyph\":null,\"muted_glyph\":null,\"view\":{\"id\":\"b2784353-2d9f-43c2-9494-290514fc72bb\",\"type\":\"CDSView\"}},\"id\":\"bb119542-229f-446e-acaa-d22072518a07\",\"type\":\"GlyphRenderer\"},{\"attributes\":{\"source\":{\"id\":\"20d5a297-8739-48c9-802c-d0ef2d9f7277\",\"type\":\"ColumnDataSource\"}},\"id\":\"b0fdfa3c-50cd-495f-88bf-b989dc3549c9\",\"type\":\"CDSView\"},{\"attributes\":{\"fill_alpha\":{\"value\":0.1},\"fill_color\":{\"value\":\"#1f77b4\"},\"line_alpha\":{\"value\":0.1},\"line_color\":{\"value\":\"#1f77b4\"},\"x\":{\"field\":\"z0\"},\"y\":{\"field\":\"z1\"}},\"id\":\"97bc2f01-680b-475a-9c6c-d6463c197b4f\",\"type\":\"Circle\"},{\"attributes\":{\"data_source\":{\"id\":\"20d5a297-8739-48c9-802c-d0ef2d9f7277\",\"type\":\"ColumnDataSource\"},\"glyph\":{\"id\":\"f85df45a-0e41-4990-a817-7a355549790e\",\"type\":\"Circle\"},\"hover_glyph\":null,\"muted_glyph\":null,\"nonselection_glyph\":{\"id\":\"97bc2f01-680b-475a-9c6c-d6463c197b4f\",\"type\":\"Circle\"},\"selection_glyph\":null,\"view\":{\"id\":\"b0fdfa3c-50cd-495f-88bf-b989dc3549c9\",\"type\":\"CDSView\"}},\"id\":\"c7631716-d2f4-49eb-92f2-54edc09fcc55\",\"type\":\"GlyphRenderer\"},{\"attributes\":{\"fill_alpha\":{\"value\":0.6},\"fill_color\":{\"value\":\"firebrick\"},\"line_alpha\":{\"value\":0.6},\"line_color\":{\"value\":\"firebrick\"},\"x\":{\"field\":\"d\"},\"y\":{\"field\":\"dzs\"}},\"id\":\"78e0c90f-20cf-4b1d-8464-931bd5047196\",\"type\":\"Circle\"},{\"attributes\":{\"below\":[{\"id\":\"e665ba0e-a60a-419c-9b91-71f092401170\",\"type\":\"LinearAxis\"}],\"left\":[{\"id\":\"2eccfcfc-f328-41d3-9f9b-7c442839b04c\",\"type\":\"LinearAxis\"}],\"plot_height\":300,\"plot_width\":300,\"renderers\":[{\"id\":\"e665ba0e-a60a-419c-9b91-71f092401170\",\"type\":\"LinearAxis\"},{\"id\":\"a7bb5508-e874-4f35-a6d2-aaa8e59c6310\",\"type\":\"Grid\"},{\"id\":\"2eccfcfc-f328-41d3-9f9b-7c442839b04c\",\"type\":\"LinearAxis\"},{\"id\":\"fb5d2a87-687c-4a45-9a2f-fdcda2a18a16\",\"type\":\"Grid\"},{\"id\":\"76771c07-4ce5-4813-9f53-30e7d6b68c32\",\"type\":\"BoxAnnotation\"},{\"id\":\"89bdb035-2d70-4527-876f-0a88be7747a0\",\"type\":\"GlyphRenderer\"}],\"title\":{\"id\":\"802c30a8-b78b-4bb7-a075-50ee1746ba63\",\"type\":\"Title\"},\"toolbar\":{\"id\":\"5b4c011d-7235-4eaf-8eb0-4f296326a00e\",\"type\":\"Toolbar\"},\"x_range\":{\"id\":\"a286b2be-3e4f-4aae-9107-a69735be1d71\",\"type\":\"Range1d\"},\"x_scale\":{\"id\":\"a7933e1b-2f46-48b7-b244-3a60a9c1de1b\",\"type\":\"LinearScale\"},\"y_range\":{\"id\":\"e196e51c-c2a2-4aec-93af-0288e7e0113e\",\"type\":\"Range1d\"},\"y_scale\":{\"id\":\"4499e691-71de-4d9e-a26e-23970cb6e1bc\",\"type\":\"LinearScale\"}},\"id\":\"68cce29a-2cb2-422d-8892-3c01ec17f2ce\",\"subtype\":\"Figure\",\"type\":\"Plot\"},{\"attributes\":{\"callback\":{\"id\":\"610af2fe-fa3d-4acb-ba90-5afbdff286b3\",\"type\":\"CustomJS\"},\"end\":180,\"start\":0,\"step\":0.05,\"title\":\"Angle\",\"value\":1},\"id\":\"805fb396-04f2-42ac-9024-79de98515d51\",\"type\":\"Slider\"},{\"attributes\":{\"children\":[{\"id\":\"a7f1814c-48a9-42e8-b4d2-131fcded0bd4\",\"type\":\"Div\"}]},\"id\":\"77ba4ed2-8481-48f0-9dfc-a73896db3d38\",\"type\":\"WidgetBox\"},{\"attributes\":{\"height\":80,\"width\":200},\"id\":\"a7f1814c-48a9-42e8-b4d2-131fcded0bd4\",\"type\":\"Div\"},{\"attributes\":{\"below\":[{\"id\":\"4256ca0e-f730-4209-a6a9-0e71d36388d2\",\"type\":\"LinearAxis\"}],\"left\":[{\"id\":\"4aa37fdd-d54c-41b0-8a20-dfc7aad6a75e\",\"type\":\"LinearAxis\"}],\"match_aspect\":true,\"renderers\":[{\"id\":\"4256ca0e-f730-4209-a6a9-0e71d36388d2\",\"type\":\"LinearAxis\"},{\"id\":\"f776972b-d3a4-4ae5-975b-ec0bb0c4c836\",\"type\":\"Grid\"},{\"id\":\"4aa37fdd-d54c-41b0-8a20-dfc7aad6a75e\",\"type\":\"LinearAxis\"},{\"id\":\"dc3f4d0d-4556-41c7-8c5b-d96fea27a2b4\",\"type\":\"Grid\"},{\"id\":\"37673590-f163-43b8-ae86-ce0d01afef11\",\"type\":\"BoxAnnotation\"},{\"id\":\"a1e3bc7d-ac19-4b52-9e45-52514e12e5b4\",\"type\":\"GlyphRenderer\"},{\"id\":\"386c6e2c-519b-4d5b-b725-10eda9ad42c0\",\"type\":\"GlyphRenderer\"},{\"id\":\"c7631716-d2f4-49eb-92f2-54edc09fcc55\",\"type\":\"GlyphRenderer\"},{\"id\":\"bb119542-229f-446e-acaa-d22072518a07\",\"type\":\"GlyphRenderer\"}],\"title\":{\"id\":\"d58e1753-a7fc-49d9-b3f0-9ccfeb5e24f9\",\"type\":\"Title\"},\"toolbar\":{\"id\":\"72cfd0bf-1ea7-412f-aa68-ecb5a37b9c6a\",\"type\":\"Toolbar\"},\"x_range\":{\"id\":\"48a7a779-cc8f-4f8c-86c9-c7782f7d1779\",\"type\":\"Range1d\"},\"x_scale\":{\"id\":\"19b0cd55-656c-44b8-9222-0557fa349840\",\"type\":\"LinearScale\"},\"y_range\":{\"id\":\"25233543-26bc-463c-b979-e6992bb834ec\",\"type\":\"Range1d\"},\"y_scale\":{\"id\":\"e4f816b6-cc98-453c-95b5-8c60d43742f6\",\"type\":\"LinearScale\"}},\"id\":\"2f3fa45d-4fcd-4650-855b-301267e75006\",\"subtype\":\"Figure\",\"type\":\"Plot\"},{\"attributes\":{\"height\":100,\"text\":\"Instructions: There's a lot of code in the cell above! What just happened? The blue dots are our original data points. We are choosing the direction of the first PC for this dataset; this direction is represented by the black line. The red dots are the projections of the data onto the new basis direction. Using the slider bar, change the angle of the new basis direction, and observe how the projections and the variance of the projections, represented by the spread of the points in the plot on the right, change.\",\"width\":900},\"id\":\"f06aae6d-ca7b-419b-ab76-8839761b68d4\",\"type\":\"Div\"},{\"attributes\":{\"source\":{\"id\":\"20d5a297-8739-48c9-802c-d0ef2d9f7277\",\"type\":\"ColumnDataSource\"}},\"id\":\"b2784353-2d9f-43c2-9494-290514fc72bb\",\"type\":\"CDSView\"},{\"attributes\":{\"children\":[{\"id\":\"a878b620-1455-41dd-a193-07517ad6ea28\",\"type\":\"Column\"},{\"id\":\"f1e42637-56c7-46bb-af60-e5fae10fc5af\",\"type\":\"Column\"}]},\"id\":\"ecb3c971-6a4e-4f69-bd42-bc0650dc0c8a\",\"type\":\"Row\"},{\"attributes\":{\"callback\":null,\"column_names\":[\"x0\",\"x1\",\"z0\",\"z1\",\"x0s\",\"x1s\",\"d\",\"dzs\"],\"data\":{\"d\":{\"__ndarray__\":\"AAAAAAAA+H8AAAAAAAD4fwAAAAAAAPh/AAAAAAAA+H8AAAAAAAD4fw==\",\"dtype\":\"float64\",\"shape\":[5]},\"dzs\":{\"__ndarray__\":\"AAAAAAAAAAAAAAAAAAAAAAAAAAAAAAAAAAAAAAAAAAAAAAAAAAAAAA==\",\"dtype\":\"float64\",\"shape\":[5]},\"x0\":{\"__ndarray__\":\"/o75Z7b5/T8Y67BmxyG3P8qvodMwMgPAOtjbQK1P5D+8UXm8PnrJvw==\",\"dtype\":\"float64\",\"shape\":[5]},\"x0s\":[{\"__ndarray__\":\"AAAAAAAA+H8AAAAAAAD4fw==\",\"dtype\":\"float64\",\"shape\":[2]},{\"__ndarray__\":\"AAAAAAAA+H8AAAAAAAD4fw==\",\"dtype\":\"float64\",\"shape\":[2]},{\"__ndarray__\":\"AAAAAAAA+H8AAAAAAAD4fw==\",\"dtype\":\"float64\",\"shape\":[2]},{\"__ndarray__\":\"AAAAAAAA+H8AAAAAAAD4fw==\",\"dtype\":\"float64\",\"shape\":[2]},{\"__ndarray__\":\"AAAAAAAA+H8AAAAAAAD4fw==\",\"dtype\":\"float64\",\"shape\":[2]}],\"x1\":{\"__ndarray__\":\"CSw78Hac4T9f5pz8jJHmP/wDUdVZ4PG/ivpISc4i5D/6BH+LHpDovw==\",\"dtype\":\"float64\",\"shape\":[5]},\"x1s\":[{\"__ndarray__\":\"AAAAAAAA+H8AAAAAAAD4fw==\",\"dtype\":\"float64\",\"shape\":[2]},{\"__ndarray__\":\"AAAAAAAA+H8AAAAAAAD4fw==\",\"dtype\":\"float64\",\"shape\":[2]},{\"__ndarray__\":\"AAAAAAAA+H8AAAAAAAD4fw==\",\"dtype\":\"float64\",\"shape\":[2]},{\"__ndarray__\":\"AAAAAAAA+H8AAAAAAAD4fw==\",\"dtype\":\"float64\",\"shape\":[2]},{\"__ndarray__\":\"AAAAAAAA+H8AAAAAAAD4fw==\",\"dtype\":\"float64\",\"shape\":[2]}],\"z0\":{\"__ndarray__\":\"AAAAAAAA+H8AAAAAAAD4fwAAAAAAAPh/AAAAAAAA+H8AAAAAAAD4fw==\",\"dtype\":\"float64\",\"shape\":[5]},\"z1\":{\"__ndarray__\":\"AAAAAAAA+H8AAAAAAAD4fwAAAAAAAPh/AAAAAAAA+H8AAAAAAAD4fw==\",\"dtype\":\"float64\",\"shape\":[5]}}},\"id\":\"20d5a297-8739-48c9-802c-d0ef2d9f7277\",\"type\":\"ColumnDataSource\"},{\"attributes\":{\"children\":[{\"id\":\"f06aae6d-ca7b-419b-ab76-8839761b68d4\",\"type\":\"Div\"}]},\"id\":\"0fde8097-6a1f-4035-a971-409a2b5ecb38\",\"type\":\"WidgetBox\"},{\"attributes\":{},\"id\":\"78c39df0-928c-4574-90cf-74fa723aae3c\",\"type\":\"BasicTickFormatter\"},{\"attributes\":{\"active_drag\":\"auto\",\"active_inspect\":\"auto\",\"active_scroll\":\"auto\",\"active_tap\":\"auto\",\"tools\":[{\"id\":\"b9f1e9a5-3db1-4972-a7a9-9672cdc86bdd\",\"type\":\"PanTool\"},{\"id\":\"f449e2d6-6463-40aa-a874-8658e20330b8\",\"type\":\"WheelZoomTool\"},{\"id\":\"29d4811d-ed63-4900-94f2-8d165dfee61d\",\"type\":\"BoxZoomTool\"},{\"id\":\"781427ef-9a3e-4532-a031-d0724efcc8a5\",\"type\":\"SaveTool\"},{\"id\":\"31b54739-06a4-4999-89e6-7f4b313b00de\",\"type\":\"ResetTool\"},{\"id\":\"3c747435-1d96-47f0-83ab-045fe2348d0f\",\"type\":\"HelpTool\"}]},\"id\":\"72cfd0bf-1ea7-412f-aa68-ecb5a37b9c6a\",\"type\":\"Toolbar\"},{\"attributes\":{\"children\":[{\"id\":\"805fb396-04f2-42ac-9024-79de98515d51\",\"type\":\"Slider\"}]},\"id\":\"cfa62b59-973e-4c97-b543-48f657ba7ebf\",\"type\":\"WidgetBox\"},{\"attributes\":{\"callback\":null,\"end\":2.5,\"start\":-3},\"id\":\"48a7a779-cc8f-4f8c-86c9-c7782f7d1779\",\"type\":\"Range1d\"},{\"attributes\":{\"children\":[{\"id\":\"e8486868-a642-4e88-acce-65875a7c34cb\",\"type\":\"Div\"}]},\"id\":\"099b9fe0-b1c4-4b33-b1ac-7d9535b2cb97\",\"type\":\"WidgetBox\"},{\"attributes\":{\"children\":[{\"id\":\"ecb3c971-6a4e-4f69-bd42-bc0650dc0c8a\",\"type\":\"Row\"}]},\"id\":\"7637aac7-67fc-4c9b-bf23-2f3c95dd7df3\",\"type\":\"Column\"},{\"attributes\":{\"callback\":null,\"end\":2.5,\"start\":-2.5},\"id\":\"25233543-26bc-463c-b979-e6992bb834ec\",\"type\":\"Range1d\"},{\"attributes\":{\"children\":[{\"id\":\"0fde8097-6a1f-4035-a971-409a2b5ecb38\",\"type\":\"WidgetBox\"},{\"id\":\"2f3fa45d-4fcd-4650-855b-301267e75006\",\"subtype\":\"Figure\",\"type\":\"Plot\"}]},\"id\":\"a878b620-1455-41dd-a193-07517ad6ea28\",\"type\":\"Column\"},{\"attributes\":{},\"id\":\"19b0cd55-656c-44b8-9222-0557fa349840\",\"type\":\"LinearScale\"},{\"attributes\":{\"children\":[{\"id\":\"77ba4ed2-8481-48f0-9dfc-a73896db3d38\",\"type\":\"WidgetBox\"},{\"id\":\"cfa62b59-973e-4c97-b543-48f657ba7ebf\",\"type\":\"WidgetBox\"},{\"id\":\"099b9fe0-b1c4-4b33-b1ac-7d9535b2cb97\",\"type\":\"WidgetBox\"},{\"id\":\"68cce29a-2cb2-422d-8892-3c01ec17f2ce\",\"subtype\":\"Figure\",\"type\":\"Plot\"}]},\"id\":\"f1e42637-56c7-46bb-af60-e5fae10fc5af\",\"type\":\"Column\"},{\"attributes\":{},\"id\":\"e4f816b6-cc98-453c-95b5-8c60d43742f6\",\"type\":\"LinearScale\"},{\"attributes\":{\"active_drag\":\"auto\",\"active_inspect\":\"auto\",\"active_scroll\":\"auto\",\"active_tap\":\"auto\",\"tools\":[{\"id\":\"1a0d622f-8a60-411e-8e60-03fe9075e699\",\"type\":\"PanTool\"},{\"id\":\"679645b0-e2a9-4e93-90e9-7fe29fabc6b0\",\"type\":\"WheelZoomTool\"},{\"id\":\"3dda21ca-5948-4e66-ad35-b78ca2415fba\",\"type\":\"BoxZoomTool\"},{\"id\":\"a91c71b1-8d57-4a02-ae9d-77390a79b48d\",\"type\":\"SaveTool\"},{\"id\":\"641c6ec2-174f-424d-ac05-19442f19674f\",\"type\":\"ResetTool\"},{\"id\":\"405cfcab-5f95-4891-aef7-d025bf6e647c\",\"type\":\"HelpTool\"}]},\"id\":\"5b4c011d-7235-4eaf-8eb0-4f296326a00e\",\"type\":\"Toolbar\"},{\"attributes\":{\"formatter\":{\"id\":\"abc39cc2-e380-44b1-9bbc-c476a4415453\",\"type\":\"BasicTickFormatter\"},\"plot\":{\"id\":\"2f3fa45d-4fcd-4650-855b-301267e75006\",\"subtype\":\"Figure\",\"type\":\"Plot\"},\"ticker\":{\"id\":\"d5e37f7a-e906-4508-8a00-006b232a69f4\",\"type\":\"BasicTicker\"}},\"id\":\"4256ca0e-f730-4209-a6a9-0e71d36388d2\",\"type\":\"LinearAxis\"},{\"attributes\":{},\"id\":\"d5e37f7a-e906-4508-8a00-006b232a69f4\",\"type\":\"BasicTicker\"},{\"attributes\":{\"plot\":{\"id\":\"2f3fa45d-4fcd-4650-855b-301267e75006\",\"subtype\":\"Figure\",\"type\":\"Plot\"},\"ticker\":{\"id\":\"d5e37f7a-e906-4508-8a00-006b232a69f4\",\"type\":\"BasicTicker\"}},\"id\":\"f776972b-d3a4-4ae5-975b-ec0bb0c4c836\",\"type\":\"Grid\"},{\"attributes\":{\"formatter\":{\"id\":\"31c6af8a-a55e-4e24-9a6c-e4f9edb2b06e\",\"type\":\"BasicTickFormatter\"},\"plot\":{\"id\":\"2f3fa45d-4fcd-4650-855b-301267e75006\",\"subtype\":\"Figure\",\"type\":\"Plot\"},\"ticker\":{\"id\":\"c20371dd-9de5-4f30-9911-3faf253c5e96\",\"type\":\"BasicTicker\"}},\"id\":\"4aa37fdd-d54c-41b0-8a20-dfc7aad6a75e\",\"type\":\"LinearAxis\"},{\"attributes\":{},\"id\":\"c20371dd-9de5-4f30-9911-3faf253c5e96\",\"type\":\"BasicTicker\"},{\"attributes\":{\"dimension\":1,\"plot\":{\"id\":\"2f3fa45d-4fcd-4650-855b-301267e75006\",\"subtype\":\"Figure\",\"type\":\"Plot\"},\"ticker\":{\"id\":\"c20371dd-9de5-4f30-9911-3faf253c5e96\",\"type\":\"BasicTicker\"}},\"id\":\"dc3f4d0d-4556-41c7-8c5b-d96fea27a2b4\",\"type\":\"Grid\"},{\"attributes\":{\"fill_alpha\":{\"value\":0.1},\"fill_color\":{\"value\":\"#1f77b4\"},\"line_alpha\":{\"value\":0.1},\"line_color\":{\"value\":\"#1f77b4\"},\"x\":{\"field\":\"d\"},\"y\":{\"field\":\"dzs\"}},\"id\":\"2d08a43c-0ae1-4297-abb0-7aa22697dea1\",\"type\":\"Circle\"},{\"attributes\":{\"bottom_units\":\"screen\",\"fill_alpha\":{\"value\":0.5},\"fill_color\":{\"value\":\"lightgrey\"},\"left_units\":\"screen\",\"level\":\"overlay\",\"line_alpha\":{\"value\":1.0},\"line_color\":{\"value\":\"black\"},\"line_dash\":[4,4],\"line_width\":{\"value\":2},\"plot\":null,\"render_mode\":\"css\",\"right_units\":\"screen\",\"top_units\":\"screen\"},\"id\":\"37673590-f163-43b8-ae86-ce0d01afef11\",\"type\":\"BoxAnnotation\"},{\"attributes\":{\"source\":{\"id\":\"20d5a297-8739-48c9-802c-d0ef2d9f7277\",\"type\":\"ColumnDataSource\"}},\"id\":\"47b5af1e-63ac-4fec-bf9e-c4647ffa48aa\",\"type\":\"CDSView\"},{\"attributes\":{\"callback\":null,\"end\":3,\"start\":-3},\"id\":\"a286b2be-3e4f-4aae-9107-a69735be1d71\",\"type\":\"Range1d\"},{\"attributes\":{},\"id\":\"b9f1e9a5-3db1-4972-a7a9-9672cdc86bdd\",\"type\":\"PanTool\"},{\"attributes\":{\"callback\":null,\"end\":2.5,\"start\":-2.5},\"id\":\"e196e51c-c2a2-4aec-93af-0288e7e0113e\",\"type\":\"Range1d\"},{\"attributes\":{},\"id\":\"f449e2d6-6463-40aa-a874-8658e20330b8\",\"type\":\"WheelZoomTool\"},{\"attributes\":{\"overlay\":{\"id\":\"37673590-f163-43b8-ae86-ce0d01afef11\",\"type\":\"BoxAnnotation\"}},\"id\":\"29d4811d-ed63-4900-94f2-8d165dfee61d\",\"type\":\"BoxZoomTool\"},{\"attributes\":{},\"id\":\"781427ef-9a3e-4532-a031-d0724efcc8a5\",\"type\":\"SaveTool\"},{\"attributes\":{},\"id\":\"31b54739-06a4-4999-89e6-7f4b313b00de\",\"type\":\"ResetTool\"},{\"attributes\":{},\"id\":\"3c747435-1d96-47f0-83ab-045fe2348d0f\",\"type\":\"HelpTool\"},{\"attributes\":{\"plot\":{\"id\":\"68cce29a-2cb2-422d-8892-3c01ec17f2ce\",\"subtype\":\"Figure\",\"type\":\"Plot\"},\"ticker\":{\"id\":\"0c7f53e1-2783-4415-9579-eb411aae96a7\",\"type\":\"BasicTicker\"}},\"id\":\"a7bb5508-e874-4f35-a6d2-aaa8e59c6310\",\"type\":\"Grid\"},{\"attributes\":{},\"id\":\"a7933e1b-2f46-48b7-b244-3a60a9c1de1b\",\"type\":\"LinearScale\"},{\"attributes\":{},\"id\":\"4499e691-71de-4d9e-a26e-23970cb6e1bc\",\"type\":\"LinearScale\"},{\"attributes\":{\"formatter\":{\"id\":\"a873f836-7416-4e3c-9381-09c523a75d12\",\"type\":\"BasicTickFormatter\"},\"plot\":{\"id\":\"68cce29a-2cb2-422d-8892-3c01ec17f2ce\",\"subtype\":\"Figure\",\"type\":\"Plot\"},\"ticker\":{\"id\":\"0c7f53e1-2783-4415-9579-eb411aae96a7\",\"type\":\"BasicTicker\"}},\"id\":\"e665ba0e-a60a-419c-9b91-71f092401170\",\"type\":\"LinearAxis\"},{\"attributes\":{\"data_source\":{\"id\":\"20d5a297-8739-48c9-802c-d0ef2d9f7277\",\"type\":\"ColumnDataSource\"},\"glyph\":{\"id\":\"78e0c90f-20cf-4b1d-8464-931bd5047196\",\"type\":\"Circle\"},\"hover_glyph\":null,\"muted_glyph\":null,\"nonselection_glyph\":{\"id\":\"2d08a43c-0ae1-4297-abb0-7aa22697dea1\",\"type\":\"Circle\"},\"selection_glyph\":null,\"view\":{\"id\":\"47b5af1e-63ac-4fec-bf9e-c4647ffa48aa\",\"type\":\"CDSView\"}},\"id\":\"89bdb035-2d70-4527-876f-0a88be7747a0\",\"type\":\"GlyphRenderer\"},{\"attributes\":{\"formatter\":{\"id\":\"78c39df0-928c-4574-90cf-74fa723aae3c\",\"type\":\"BasicTickFormatter\"},\"plot\":{\"id\":\"68cce29a-2cb2-422d-8892-3c01ec17f2ce\",\"subtype\":\"Figure\",\"type\":\"Plot\"},\"ticker\":{\"id\":\"a4c65c8e-17d2-4d6c-a9e8-c877d721d00d\",\"type\":\"BasicTicker\"}},\"id\":\"2eccfcfc-f328-41d3-9f9b-7c442839b04c\",\"type\":\"LinearAxis\"},{\"attributes\":{},\"id\":\"0c7f53e1-2783-4415-9579-eb411aae96a7\",\"type\":\"BasicTicker\"},{\"attributes\":{\"dimension\":1,\"plot\":{\"id\":\"68cce29a-2cb2-422d-8892-3c01ec17f2ce\",\"subtype\":\"Figure\",\"type\":\"Plot\"},\"ticker\":{\"id\":\"a4c65c8e-17d2-4d6c-a9e8-c877d721d00d\",\"type\":\"BasicTicker\"}},\"id\":\"fb5d2a87-687c-4a45-9a2f-fdcda2a18a16\",\"type\":\"Grid\"},{\"attributes\":{},\"id\":\"a4c65c8e-17d2-4d6c-a9e8-c877d721d00d\",\"type\":\"BasicTicker\"},{\"attributes\":{\"bottom_units\":\"screen\",\"fill_alpha\":{\"value\":0.5},\"fill_color\":{\"value\":\"lightgrey\"},\"left_units\":\"screen\",\"level\":\"overlay\",\"line_alpha\":{\"value\":1.0},\"line_color\":{\"value\":\"black\"},\"line_dash\":[4,4],\"line_width\":{\"value\":2},\"plot\":null,\"render_mode\":\"css\",\"right_units\":\"screen\",\"top_units\":\"screen\"},\"id\":\"76771c07-4ce5-4813-9f53-30e7d6b68c32\",\"type\":\"BoxAnnotation\"},{\"attributes\":{},\"id\":\"1a0d622f-8a60-411e-8e60-03fe9075e699\",\"type\":\"PanTool\"},{\"attributes\":{},\"id\":\"a873f836-7416-4e3c-9381-09c523a75d12\",\"type\":\"BasicTickFormatter\"},{\"attributes\":{},\"id\":\"679645b0-e2a9-4e93-90e9-7fe29fabc6b0\",\"type\":\"WheelZoomTool\"},{\"attributes\":{\"overlay\":{\"id\":\"76771c07-4ce5-4813-9f53-30e7d6b68c32\",\"type\":\"BoxAnnotation\"}},\"id\":\"3dda21ca-5948-4e66-ad35-b78ca2415fba\",\"type\":\"BoxZoomTool\"},{\"attributes\":{},\"id\":\"a91c71b1-8d57-4a02-ae9d-77390a79b48d\",\"type\":\"SaveTool\"},{\"attributes\":{},\"id\":\"641c6ec2-174f-424d-ac05-19442f19674f\",\"type\":\"ResetTool\"},{\"attributes\":{},\"id\":\"405cfcab-5f95-4891-aef7-d025bf6e647c\",\"type\":\"HelpTool\"},{\"attributes\":{\"plot\":null,\"text\":\"\"},\"id\":\"802c30a8-b78b-4bb7-a075-50ee1746ba63\",\"type\":\"Title\"}],\"root_ids\":[\"7637aac7-67fc-4c9b-bf23-2f3c95dd7df3\"]},\"title\":\"Bokeh Application\",\"version\":\"0.12.13\"}};\n",
       "  var render_items = [{\"docid\":\"940de949-e21b-4215-8007-ff3df2b14b52\",\"elementid\":\"a940bdcb-90ef-465c-a291-4d027b6a2444\",\"modelid\":\"7637aac7-67fc-4c9b-bf23-2f3c95dd7df3\"}];\n",
       "  root.Bokeh.embed.embed_items_notebook(docs_json, render_items);\n",
       "\n",
       "  }\n",
       "  if (root.Bokeh !== undefined) {\n",
       "    embed_document(root);\n",
       "  } else {\n",
       "    var attempts = 0;\n",
       "    var timer = setInterval(function(root) {\n",
       "      if (root.Bokeh !== undefined) {\n",
       "        embed_document(root);\n",
       "        clearInterval(timer);\n",
       "      }\n",
       "      attempts++;\n",
       "      if (attempts > 100) {\n",
       "        console.log(\"Bokeh: ERROR: Unable to run BokehJS code because BokehJS library is missing\")\n",
       "        clearInterval(timer);\n",
       "      }\n",
       "    }, 10, root)\n",
       "  }\n",
       "})(window);"
      ],
      "application/vnd.bokehjs_exec.v0+json": ""
     },
     "metadata": {
      "application/vnd.bokehjs_exec.v0+json": {
       "id": "7637aac7-67fc-4c9b-bf23-2f3c95dd7df3"
      }
     },
     "output_type": "display_data"
    }
   ],
   "source": [
    "# bokeh plot\n",
    "\n",
    "# pre-populate data source object\n",
    "z0 = np.nan*np.zeros(len(X))\n",
    "z1 = np.nan*np.zeros(len(X))\n",
    "x0s = [np.array(np.nan*np.zeros(2)) for i in range(0,len(X))]\n",
    "x1s = [np.array(np.nan*np.zeros(2)) for i in range(0,len(X))]\n",
    "d = np.nan*np.zeros(len(X))\n",
    "dzs = np.zeros(len(X))\n",
    "\n",
    "# data source\n",
    "source_data = ColumnDataSource(data=dict(x0=X[:,0], x1=X[:,1], z0=z0, z1=z1, x0s=x0s, x1s=x1s, d=d, dzs=dzs))\n",
    "\n",
    "# main plot\n",
    "plot = figure(x_range=(-3, 2.5), y_range=(-2.5, 2.5), plot_width=600, plot_height=600, match_aspect=True)\n",
    "\n",
    "# plot the new components in the mini-plot on the right\n",
    "var_plot = figure(x_range=(-3, 3), y_range=(-2.5, 2.5), plot_width = 300, plot_height = 300)\n",
    "var_plot.scatter('d', 'dzs', source=source_data, color='firebrick', alpha=0.6)\n",
    "\n",
    "# plot the data\n",
    "plot.scatter('x0', 'x1', source=source_data, color='navy', alpha=0.6, size=5)\n",
    "\n",
    "# plot the new axis\n",
    "plot.line('z0', 'z1', source=source_data, color='black', alpha=0.5)\n",
    "\n",
    "# plot the projections of the data onto the rotating line\n",
    "plot.scatter('z0', 'z1', source=source_data, color='firebrick', alpha=0.6)\n",
    "\n",
    "# plot all the lines connecting the data dots to the projection dots\n",
    "glyph = MultiLine(xs = \"x0s\", ys = \"x1s\", line_color=\"#8073ac\", line_width=1)\n",
    "plot.add_glyph(source_data, glyph)\n",
    "\n",
    "# the javascript code that calculates all the projection dots depending upon the user-chosen angle for the line to project onto\n",
    "callback = CustomJS(args=dict(source=source_data), code=\"\"\"\n",
    "    var data = source.data;\n",
    "    var x0 = data['x0']\n",
    "    var x1 = data['x1']\n",
    "    \n",
    "    var d = data['d']\n",
    "    \n",
    "    var z0 = data['z0']\n",
    "    var z1 = data['z1']\n",
    "    \n",
    "    var x0s = data['x0s']\n",
    "    var x1s = data['x1s']\n",
    "    \n",
    "    var A = ang.value*Math.PI/180;\n",
    "\n",
    "    var w = [Math.cos(A), Math.sin(A)];\n",
    "\n",
    "    for (var i = 0; i < x0.length; i++) {\n",
    "        d[i] = x0[i]*w[0] + x1[i]*w[1];\n",
    "        z0[i] = w[0]*d[i];\n",
    "        z1[i] = w[1]*d[i];\n",
    "        x0s[i] = [x0[i], z0[i]];\n",
    "        x1s[i] = [x1[i], z1[i]];\n",
    "    }\n",
    "\n",
    "    data['z0'] = z0\n",
    "    data['z1'] = z1\n",
    "    data['x0s'] = x0s\n",
    "    data['x1s'] = x1s\n",
    "    data['d'] = d\n",
    "    \n",
    "    source.change.emit();\n",
    "\"\"\")\n",
    "\n",
    "# make the slider bar\n",
    "ang_slider = Slider(start=0, end=180, value=1, step=.05, title=\"Angle\", callback=callback)\n",
    "callback.args[\"ang\"] = ang_slider\n",
    "\n",
    "# add output text\n",
    "div = Div(text=\"Instructions: There's a lot of code in the cell above! What just happened? The blue dots are our original data points. We are choosing the direction of the first PC for this dataset; this direction is represented by the black line. The red dots are the projections of the data onto the new basis direction. Using the slider bar, change the angle of the new basis direction, and observe how the projections and the variance of the projections, represented by the spread of the points in the plot on the right, change.\", width=900, height=100)\n",
    "\n",
    "# empty space div\n",
    "space_div_1 = Div(width=200, height=80)\n",
    "space_div_2 = Div(width=200, height=95)\n",
    "\n",
    "# plot layout\n",
    "lo = layout([\n",
    "  [[widgetbox(div), plot], [widgetbox(space_div_1), widgetbox(ang_slider), widgetbox(space_div_2), var_plot]],\n",
    "])\n",
    "\n",
    "# display\n",
    "show(lo)"
   ]
  },
  {
   "cell_type": "markdown",
   "metadata": {},
   "source": [
    "## Quiz\n",
    "Once you've played around with the interactive plot above, submit the following quiz. Based on what you've learned in the lessons about what PCA does, eyeball the plot above and choose the approximate direction of the first principal component for the above dataset. Submit your answer as an angle in degrees. Here, we are just looking for an approximate value, so we are not looking for a calculation of the correct angle, just an approximation. It will be scored correct if it's right to within ±10°."
   ]
  },
  {
   "cell_type": "code",
   "execution_count": 8,
   "metadata": {},
   "outputs": [
    {
     "name": "stdout",
     "output_type": "stream",
     "text": [
      "Tests Passed\n"
     ]
    }
   ],
   "source": [
    "import quiz_tests\n",
    "\n",
    "# Fill in the value of the angle\n",
    "angle = 21\n",
    "\n",
    "quiz_tests.test_direction_of_first_PC(angle)"
   ]
  },
  {
   "cell_type": "code",
   "execution_count": null,
   "metadata": {
    "collapsed": true,
    "jupyter": {
     "outputs_hidden": true
    }
   },
   "outputs": [],
   "source": []
  }
 ],
 "metadata": {
  "kernelspec": {
   "display_name": "UdacityAI",
   "language": "python",
   "name": "udacityai"
  },
  "language_info": {
   "codemirror_mode": {
    "name": "ipython",
    "version": 3
   },
   "file_extension": ".py",
   "mimetype": "text/x-python",
   "name": "python",
   "nbconvert_exporter": "python",
   "pygments_lexer": "ipython3",
   "version": "3.6.13"
  }
 },
 "nbformat": 4,
 "nbformat_minor": 4
}
