{
 "cells": [
  {
   "cell_type": "markdown",
   "id": "c27ac668-4ed1-44f8-be48-8a8366279461",
   "metadata": {},
   "source": [
    "# AI for Trading | Module 4 | L25: Time Series and Cross Sectional Risk Models"
   ]
  },
  {
   "cell_type": "markdown",
   "id": "66c5011f-8b6e-4073-bc84-3e751d400136",
   "metadata": {},
   "source": [
    "## 2. Vector Two Ways\n",
    "- https://youtu.be/mlw6FnCUloU\n"
   ]
  },
  {
   "cell_type": "markdown",
   "id": "18fcdf2c-0e0b-45e4-9738-114015c6084e",
   "metadata": {},
   "source": [
    "## 3. Refresh Linear Algebra\n",
    "- https://www.youtube.com/playlist?list=PLZHQObOWTQDPD3MizzM2xVFitgF8hE_ab\n",
    "\n"
   ]
  }
 ],
 "metadata": {
  "kernelspec": {
   "display_name": "UdacityAI",
   "language": "python",
   "name": "udacityai"
  },
  "language_info": {
   "codemirror_mode": {
    "name": "ipython",
    "version": 3
   },
   "file_extension": ".py",
   "mimetype": "text/x-python",
   "name": "python",
   "nbconvert_exporter": "python",
   "pygments_lexer": "ipython3",
   "version": "3.6.13"
  }
 },
 "nbformat": 4,
 "nbformat_minor": 5
}
