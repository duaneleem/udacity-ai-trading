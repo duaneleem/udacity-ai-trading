{
 "cells": [
  {
   "cell_type": "markdown",
   "id": "81cdd6cb-9521-43fa-96a7-78083c334934",
   "metadata": {},
   "source": [
    "# AI for Trading | Module 4 | L27: Alpha Factors"
   ]
  },
  {
   "cell_type": "markdown",
   "id": "7792f4fc-454b-4a1e-947f-7339d302617f",
   "metadata": {},
   "source": [
    "## 1. Case Studies Intro\n",
    "- https://youtu.be/oWWrWbzDi2k\n",
    "\n",
    "### The research papers we'll cover\n",
    "Note that you'll have to create a free SSRN account in order to download these papers.\n",
    "\n",
    "Overnight Returns and Firm-Specific Investor Sentiment\n",
    "https://papers.ssrn.com/sol3/papers.cfm?abstract_id=2554010\n",
    "\n",
    "The Formation Process of Winners and Losers in Momentum Investing\n",
    "https://papers.ssrn.com/sol3/papers.cfm?abstract_id=2610571\n",
    "\n",
    "Expected Skewness and Momentum\n",
    "https://papers.ssrn.com/sol3/papers.cfm?abstract_id=2600014\n",
    "\n",
    "Arbitrage Asymmetry and the Idiosyncratic Volatility Puzzle\n",
    "https://papers.ssrn.com/sol3/papers.cfm?abstract_id=2155491"
   ]
  },
  {
   "cell_type": "markdown",
   "id": "f81888dc-9d03-4af5-b7a2-9b2da47155b9",
   "metadata": {},
   "source": [
    "## 3. Overnight Returns Abstract\n",
    "- https://youtu.be/q5xidwa5W8w\n",
    "  - Major sections: Intro, Methodology, Results, Conclusion\n",
    "\n",
    "### Title: Overnight Returns and Firm-Specific Investor Sentiment Abstract Authors\n",
    "We examine the suitability of using overnight returns to measure firm-specific investor sentiment by analyzing whether they possess characteristics expected of a sentiment measure. We document short-term overnight return persistence, consistent with existing evidence of short- term persistence in share demand of sentiment-influenced investors. We find that short-term persistence is stronger for harder-to-value firms, consistent with existing evidence that sentiment plays a larger role for such firms. We show that stocks with high (low) overnight returns underperform (outperform) over the longer-term, consistent with prior evidence of temporary sentiment-driven mispricing. Overall, our evidence supports using overnight returns to measure firm-specific sentiment.\n",
    "\n",
    "#### Notes\n",
    "p 2, I: The recent work of Berkman, Koch, Tuttle, and Zhang (2012) suggests that a stock’s overnight (close-to-open) return can serve as a measure of firm-level sentiment.\n",
    "\n",
    "p 3, I: Specifically, Berkman et al. (2012) find that attention-generating events (high absolute returns or strong net buying by retail investors) on one day lead to higher demand by individual investors, concentrated near the open of the next trading day...This creates temporary price pressure at the open, resulting in elevated overnight returns that are reversed during the trading day.\n",
    "\n",
    "p 3, I: We conduct three sets of analyses. In the first we test for short-run persistence in overnight returns. The basis for expecting this from a measure of sentiment is the evidence in Barber et al. (2009) that the order imbalances of retail investors, who are the investors most likely to exhibit sentiment, persist for periods extending over several weeks...In the third analysis we examine whether stocks with high overnight returns underperform those with low overnight returns over the long term."
   ]
  },
  {
   "cell_type": "code",
   "execution_count": null,
   "id": "6e569c5e-fac2-40fa-be1f-67cb26863322",
   "metadata": {},
   "outputs": [],
   "source": []
  }
 ],
 "metadata": {
  "kernelspec": {
   "display_name": "UdacityAI",
   "language": "python",
   "name": "udacityai"
  },
  "language_info": {
   "codemirror_mode": {
    "name": "ipython",
    "version": 3
   },
   "file_extension": ".py",
   "mimetype": "text/x-python",
   "name": "python",
   "nbconvert_exporter": "python",
   "pygments_lexer": "ipython3",
   "version": "3.6.13"
  }
 },
 "nbformat": 4,
 "nbformat_minor": 5
}
